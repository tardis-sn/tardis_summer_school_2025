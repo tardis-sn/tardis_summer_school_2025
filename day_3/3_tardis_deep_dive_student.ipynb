{
 "cells": [
  {
   "cell_type": "markdown",
   "id": "f397111b",
   "metadata": {},
   "source": [
    "# Understanding TARDIS: Monte Carlo Physics and Spectrum Generation\n",
    "\n",
    "> **Note:** We strongly recommend turning off code autocompletion for this notebook. This exercise is designed to engage your understanding of TARDIS Monte Carlo physics, spectrum generation, and plasma treatments, rather than relying on automated suggestions. In VSCode, you can temporarily disable autocomplete in notebook cells by navigating to **Settings → Notebook: Suggest Enabled** and unchecking the box, or by creating a workspace with a `.vscode/settings.json` file containing `\"notebook.suggest.enabled\": false`. This will help you focus on understanding the physics behind each step.\n",
    "\n",
    "In this afternoon session, we'll dive deep into the Monte Carlo radiative transfer physics that powers TARDIS. You'll explore how packets interact with plasma, understand different spectrum types, and investigate advanced physics treatments that affect the final observational results."
   ]
  },
  {
   "cell_type": "code",
   "execution_count": null,
   "id": "66100f8b",
   "metadata": {},
   "outputs": [],
   "source": [
    "from matplotlib import pyplot as plt\n",
    "from tardis import run_tardis\n",
    "from tardis.io.configuration.config_reader import Configuration\n",
    "import numpy as np\n",
    "from astropy import units as u, constants as const\n",
    "from pathlib import Path\n",
    "import pandas as pd"
   ]
  },
  {
   "cell_type": "code",
   "execution_count": null,
   "id": "b4f1bf00",
   "metadata": {},
   "outputs": [],
   "source": [
    "from tardis.io.atom_data import download_atom_data\n",
    "# Download the Kurucz CD23 atomic data for H and He. This is a basic atomic data set. Will not download if already present.\n",
    "download_atom_data('kurucz_cd23_chianti_H_He_latest')"
   ]
  },
  {
   "cell_type": "code",
   "execution_count": null,
   "id": "63f4600a",
   "metadata": {},
   "outputs": [],
   "source": [
    "conf = Configuration.from_yaml('tardis_example.yml') \n",
    "conf.montecarlo.no_of_packets=1e4 \n",
    "conf.montecarlo.iterations = 10  \n",
    "conf.montecarlo.last_no_of_packets = 1e5\n",
    "conf.montecarlo.convergence_strategy.stop_if_converged = True\n",
    "conf.montecarlo.convergence_strategy.hold_iterations = 4"
   ]
  },
  {
   "cell_type": "markdown",
   "id": "88ae9398",
   "metadata": {},
   "source": [
    "## Setting Up for Deep Analysis\n",
    "\n",
    "We'll start with a well-converged TARDIS simulation using the parameters you learned to optimize in the morning session. This allows us to focus on understanding the detailed physics rather than convergence issues.\n",
    "\n",
    "<div style=\"background-color: #e3f2fd; border-left: 4px solid #2196f3; padding: 10px; margin: 10px 0;\">\n",
    "<strong>**Key Focus:**</strong> Today we're shifting from \"making TARDIS work\" to \"understanding how TARDIS works\" - the Monte Carlo physics, spectrum generation, and advanced plasma treatments.\n",
    "</div>\n",
    "\n",
    "**$\\blacktriangleright$ Do This** - Before running the simulation, think about what we'll explore:\n",
    "\n",
    "1. **Spectrum Types:** TARDIS generates three different spectra - what might these represent physically?\n",
    "2. **Monte Carlo Packets:** How do computational packets relate to real photons?\n",
    "3. **Plasma Physics:** What approximations might TARDIS make, and when might they break down?"
   ]
  },
  {
   "cell_type": "code",
   "execution_count": null,
   "id": "0311832e",
   "metadata": {},
   "outputs": [],
   "source": [
    "sim = run_tardis(conf, virtual_packet_logging=True)"
   ]
  },
  {
   "cell_type": "markdown",
   "id": "b5197187",
   "metadata": {},
   "source": [
    "# Exploring the Three TARDIS Spectra\n",
    "\n",
    "TARDIS generates three fundamentally different types of spectra, each representing different aspects of the Monte Carlo radiative transfer process. Understanding their differences is crucial for choosing the right spectrum for your scientific analysis.\n",
    "\n",
    "**$\\blacktriangleright$ TASK: Prediction Exercise** - Answer the following questions before we examine the spectra, recalling the lecture. \n",
    "\n",
    "1. **Real packets:** These are the Monte Carlo packets that actually transport energy. What might their spectrum represent?\n",
    "2. **Virtual packets:** These are created during the final iteration for better sampling. How might this improve the spectrum?\n",
    "3. **Formal spectrum:** This uses ray-tracing through the converged plasma state. What advantages might this approach have?\n",
    "\n",
    "<div style=\"background-color: #fff3e0; border-left: 4px solid #ff9800; padding: 10px; margin: 10px 0;\">\n",
    "<strong>**Important:**</strong> The formal spectrum calculation takes about 3 minutes. It's a post-simulation step that calculates detailed ray-tracing through the plasma. This is normal and expected.\n",
    "</div>"
   ]
  },
  {
   "cell_type": "markdown",
   "id": "77636570",
   "metadata": {},
   "source": [
    "## Double click this cell and write your thoughts down here, if it helps you organize them. "
   ]
  },
  {
   "cell_type": "code",
   "execution_count": null,
   "id": "c66360f8",
   "metadata": {},
   "outputs": [],
   "source": [
    "real_spectrum = sim.spectrum_solver.spectrum_real_packets\n",
    "virtual_spectrum = sim.spectrum_solver.spectrum_virtual_packets\n",
    "formal_spectrum = sim.spectrum_solver.spectrum_integrated"
   ]
  },
  {
   "cell_type": "code",
   "execution_count": null,
   "id": "68206d7d",
   "metadata": {},
   "outputs": [],
   "source": [
    "plt.figure(figsize=(10, 6))\n",
    "real_spectrum.plot(label='Real')\n",
    "virtual_spectrum.plot(label='Virtual')\n",
    "formal_spectrum.plot(label='Formal', color='red')\n",
    "plt.legend()\n",
    "\n",
    "plt.xlim(2000, 9000)\n",
    "plt.ylim(1e35, 6e39)"
   ]
  },
  {
   "cell_type": "markdown",
   "id": "1a388ac8",
   "metadata": {},
   "source": [
    "### Analyzing the Spectral Differences\n",
    "\n",
    "**$\\blacktriangleright$ Observe and Analyze** - Look at the three spectra you just plotted:\n",
    "\n",
    "1. **Noise levels:** Which spectrum appears smoothest? Which is most noisy? Why might this be?\n",
    "2. **Overall shape:** Do all three spectra trace the same general spectral features?\n",
    "3. **Computational cost:** Consider that real packets run for all iterations, virtual packets only in the final iteration, and formal spectrum is post-processing. How does this relate to what you observe?\n",
    "\n",
    "**Think about it:** Each spectrum represents a different way of extracting observational predictions from the same underlying Monte Carlo simulation. Understanding when to use each type is crucial for your research."
   ]
  },
  {
   "cell_type": "markdown",
   "id": "b4063494",
   "metadata": {},
   "source": [
    "## Understanding Real Packets: The Foundation of Monte Carlo\n",
    "\n",
    "Real packets are the heart of TARDIS. These computational particles carry energy through the ejecta and determine the plasma state through their interactions. Understanding how they start their journey reveals fundamental aspects of the Monte Carlo method.\n",
    "\n",
    "**$\\blacktriangleright$ Physics Connection** - Real packets serve dual purposes:\n",
    "\n",
    "1. **Energy transport:** They carry energy from the inner boundary through the ejecta\n",
    "2. **Plasma diagnostics:** Their interactions determine ionization and excitation states\n",
    "3. **Spectrum generation:** Those that escape contribute to the final spectrum\n",
    "\n",
    "Let's investigate where these packets come from and verify some fundamental physics assumptions."
   ]
  },
  {
   "cell_type": "code",
   "execution_count": null,
   "id": "b56f6c7a",
   "metadata": {},
   "outputs": [],
   "source": [
    "packets = sim.transport.transport_state.packet_collection"
   ]
  },
  {
   "cell_type": "markdown",
   "id": "c726f78b",
   "metadata": {},
   "source": [
    "**$\\blacktriangleright$ TASK:  Verify the Blackbody Packet Distribution**\n",
    "\n",
    "TARDIS initializes packets from a blackbody distribution at the inner boundary. Let's verify this fundamental assumption by comparing the packet frequency distribution to the analytic Planck function.\n",
    "\n",
    "**Your challenge:** Implement the Planck function below and compare it to the actual packet distribution.\n",
    "\n",
    "The Planck function describes the spectral energy density per unit frequency for blackbody radiation. For a spherical radiating surface, the luminosity per unit frequency is:\n",
    "\n",
    "$$L_\\nu = \\pi r^2 \\frac{8\\pi h \\nu^3}{c^2} \\frac{1}{e^{h\\nu/k_B T} - 1}$$\n",
    "\n",
    "**Physical meaning:** This represents the energy emission rate per unit frequency from a blackbody sphere at temperature T with radius r.\n",
    "\n",
    "**$\\blacktriangleright$ Implementation Strategy:**\n",
    "1. Use the simulation's inner boundary temperature and radius\n",
    "2. Implement the Planck function with proper astropy units\n",
    "3. Return the result in units compatible with the packet data"
   ]
  },
  {
   "cell_type": "code",
   "execution_count": null,
   "id": "df4b329a",
   "metadata": {},
   "outputs": [],
   "source": [
    "def planck_function(nu):\n",
    "    \"\"\"\n",
    "    Calculate the Planck function for a blackbody radiator.\n",
    "    \n",
    "    Parameters\n",
    "    ----------\n",
    "    nu : astropy.units.Quantity\n",
    "        Frequency at which to evaluate the Planck function.\n",
    "\n",
    "    Returns\n",
    "    -------\n",
    "    astropy.units.Quantity\n",
    "        Spectral luminosity [erg s⁻¹ Hz⁻¹].\n",
    "    \"\"\"\n",
    "    T = sim.simulation_state.t_inner\n",
    "    r_inner = sim.simulation_state.r_inner[0]\n",
    "\n",
    "    # Your implementation here\n",
    "    # Use: const.h, const.c, const.k_B, np.pi, np.exp\n",
    "    # Remember the formula and include the geometric factor for a sphere\n",
    "    answer = ?\n",
    "    \n",
    "    return answer.to(u.erg/u.s/u.Hz)"
   ]
  },
  {
   "cell_type": "markdown",
   "id": "beb5a927",
   "metadata": {},
   "source": [
    "The below cell is already set up to appropriately scale the packets to the correct units returned by your Planck function. If you're curious about the choices made to do this, [check out the full tutorial for packet initialization here.](https://tardis-sn.github.io/tardis/physics/montecarlo/initialization.html)"
   ]
  },
  {
   "cell_type": "code",
   "execution_count": null,
   "id": "02b3bb4a",
   "metadata": {},
   "outputs": [],
   "source": [
    "# Set up for comparison plotting\n",
    "bins = 50  # Number of bins for histogram\n",
    "sample_nus = np.linspace(min(packets.initial_nus), max(packets.initial_nus), bins) * u.Hz\n",
    "\n",
    "bin_width = (max(sample_nus) - min(sample_nus)) / bins\n",
    "lumin_per_packet = packets.initial_energies * u.erg / packets.time_of_simulation / u.s\n",
    "\n",
    "# Plot the packet frequencies vs analytic Planck function\n",
    "plt.hist(packets.initial_nus, bins=bins, weights = lumin_per_packet / bin_width, \n",
    "         alpha=0.7, label='TARDIS packets', density=False)\n",
    "plt.plot(sample_nus, planck_function(sample_nus), label='Analytic Planck function', \n",
    "         color='red', linewidth=2)\n",
    "plt.xlabel('Frequency [Hz]')\n",
    "plt.ylabel('Luminosity per unit frequency [erg/s/Hz]')\n",
    "plt.legend()\n",
    "plt.title('Packet Frequency Distribution vs Blackbody Theory')"
   ]
  },
  {
   "cell_type": "markdown",
   "id": "553dce60",
   "metadata": {},
   "source": [
    "**$\\blacktriangleright$ TASK** - Compare your Planck function with the packet distribution:\n",
    "\n",
    "1. **Agreement quality:** How well do the packet frequencies match the theoretical distribution?\n",
    "2. **Sampling accuracy:** What does this tell you about TARDIS's Monte Carlo sampling? Think about Monte Carlo techniques and appopriate sampling. \n",
    "3. **Physical validation:** Why is this comparison important for trusting the simulation results?\n",
    "\n",
    "\n",
    " Note that this is the same process that TARDIS uses with the packets that escape the ejecta to form the output real spectrum. That is, we count up the packets in a bin and divide by the bin width to get the energy per unit frequency or wavelength. "
   ]
  },
  {
   "cell_type": "markdown",
   "id": "f846dc17",
   "metadata": {},
   "source": [
    "## Double click to edit this cell and put your thoughts down here. "
   ]
  },
  {
   "cell_type": "markdown",
   "id": "9f8fb5af",
   "metadata": {},
   "source": [
    "## Virtual Packets: Improving Spectral Sampling\n",
    "\n",
    "Virtual packets represent an elegant computational optimization. During the final iteration, whenever a real packet is created or interacts, virtual packets are spawned that stream directly out of the ejecta without further interactions.\n",
    "\n",
    "**$\\blacktriangleright$ The Virtual Packet Strategy:**\n",
    "\n",
    "Understanding why virtual packets exist reveals important aspects of Monte Carlo efficiency:\n",
    "\n",
    "1. **Computational efficiency:** Virtual packets don't interact, so they're much faster to compute\n",
    "2. **Improved sampling:** They provide better spectral statistics without the computational cost of more real packets\n",
    "3. **Final iteration only:** Since they don't affect the plasma state, they're only needed when generating the final spectrum\n",
    "\n",
    "Let's explore how their initial directional distribution differs from real packets and understand the physics behind this difference."
   ]
  },
  {
   "cell_type": "code",
   "execution_count": null,
   "id": "3f459be1",
   "metadata": {},
   "outputs": [],
   "source": [
    "plt.hist(packets.initial_mus, bins=bins, density=True, label='Real packet mus')\n",
    "plt.hist(sim.transport.transport_state.virt_packet_initial_mus, bins=bins, density=True, alpha=0.5, label='Virtual packet mus')\n",
    "plt.legend()\n",
    "plt.xlabel(r'$\\mu$ Cosine of angle to radial direction')\n",
    "plt.ylabel('Density')"
   ]
  },
  {
   "cell_type": "markdown",
   "id": "bbd6728e",
   "metadata": {},
   "source": [
    "### **ANALYZE**: Virtual vs Real Packet Direction Sampling\n",
    "\n",
    "**$\\blacktriangleright$ TASK - Physical Reasoning** - Study the directional distributions and answer:\n",
    "\n",
    "1. **Negative directions:** Why do virtual packets include negative μ values (backward directions) when real packets don't?\n",
    "\n",
    "2. **Distribution shape:** Why does the virtual packet distribution have a specific shape for negative directions, then become uniform for μ > 0?\n",
    "\n",
    "3. **Physical origin:** Real packets start at the inner boundary moving outward. Virtual packets spawn throughout the ejecta. How does this explain the differences?\n",
    "\n",
    "**Real packet distribution:** Remember that on day 1 we saw that for real packets, μ = √z where z is a random number [0,1].\n",
    "\n",
    "**Think about it:** The directional distribution reflects where and how these packets are created in the simulation geometry."
   ]
  },
  {
   "cell_type": "markdown",
   "id": "6a781806",
   "metadata": {},
   "source": [
    "## Double click to edit this cell and put your thoughts down here. "
   ]
  },
  {
   "cell_type": "markdown",
   "id": "3ea546bf",
   "metadata": {},
   "source": [
    "## Formal Spectrum: Ray-Tracing Through Converged Plasma\n",
    "\n",
    "The formal spectrum uses a fundamentally different approach: ray-tracing. Instead of following Monte Carlo packets, TARDIS shoots rays through the converged plasma state at different impact parameters and wavelengths.\n",
    "\n",
    "**$\\blacktriangleright$ Ray-Tracing vs Monte Carlo:**\n",
    "\n",
    "The formal spectrum calculation traces rays that:\n",
    "1. **Move in parallel:** All rays travel in the same direction with different impact parameters\n",
    "2. **Sample wavelengths systematically:** Rather than stochastic sampling\n",
    "3. **Include plasma emission:** Rays are both attenuated and amplified by the plasma\n",
    "4. **Avoid Monte Carlo noise:** But still carry uncertainty from the plasma state\n",
    "\n",
    "Let's investigate this by examining pre-computed formal spectra with different Monte Carlo sampling to see how plasma uncertainty affects even \"smooth\" spectra."
   ]
  },
  {
   "cell_type": "code",
   "execution_count": null,
   "id": "0eb5d46c",
   "metadata": {},
   "outputs": [],
   "source": [
    "plt.figure(figsize=(10, 6))\n",
    "for file in Path('formal_spectra_with_seeds').iterdir():\n",
    "    spec = pd.read_csv(file)\n",
    "    plt.plot(spec['Wavelength'], spec[\"Luminosity\"], label=file.stem, alpha=0.9)\n",
    "plt.xlabel(r'Wavelength [$\\AA$]')\n",
    "plt.ylabel(r'$L_\\lambda$ [erg s$^{-1}$ $\\AA^{-1}$]')\n",
    "plt.legend()\n",
    "    "
   ]
  },
  {
   "cell_type": "markdown",
   "id": "6db87944",
   "metadata": {},
   "source": [
    "### Critical Lesson: No Spectrum Type Escapes Poor Convergence\n",
    "\n",
    "**$\\blacktriangleright$ Key Insight** - Notice that even though individual formal spectra appear smooth and noise-free, different Monte Carlo seeds produce dramatically different results.\n",
    "\n",
    "This demonstrates a crucial point: **convergence checking is essential regardless of which spectrum type you use**. Even the \"smooth\" formal spectrum depends on the underlying plasma state, which itself depends on Monte Carlo sampling.\n",
    "\n",
    "**Scientific Impact:** Using unconverged simulations in research can lead to completely incorrect conclusions, even when the spectrum looks visually reasonable."
   ]
  },
  {
   "cell_type": "markdown",
   "id": "3fb77dc2",
   "metadata": {},
   "source": [
    "Let's use the formal spectrum for one more investigation. Because the different impact parameters are sampled across the ejecta, we can use them to ask what the spectrum would look like if we could spatially resolve an explosion. "
   ]
  },
  {
   "cell_type": "code",
   "execution_count": null,
   "id": "08566afc",
   "metadata": {},
   "outputs": [],
   "source": [
    "plt.figure(figsize=(10, 6))\n",
    "for index, spec in enumerate(sim.transport.I_nu_p[:, 1::200].T): # Plotting every 200th spectrum for clarity\n",
    "    impact_parameter = sim.transport.p_rays[:,index * 200 + 1] * u.cm \n",
    "    plt.plot(formal_spectrum.wavelength, spec, label=f'Spectrum at p/outer_boundary =  {impact_parameter / sim.simulation_state.r_outer[-1]}', alpha=0.8)\n",
    "\n",
    "plt.xlabel(r'Wavelength [$\\AA$]')\n",
    "plt.ylabel(r'$I_\\nu$ [erg s$^{-1}$ cm$^{-2}$ $\\AA^{-1}$]')\n",
    "plt.title('Formal Spectrum at Different Impact Parameters')\n",
    "plt.legend()"
   ]
  },
  {
   "cell_type": "markdown",
   "id": "13cf1787",
   "metadata": {},
   "source": [
    "### **ANALYZE**: Understanding Impact Parameter Spectra\n",
    "\n",
    "**$\\blacktriangleright$ TASK - Physical Interpretation** - Study the individual impact parameter spectra:\n",
    "\n",
    "1. **Geometric effects:** How does the impact parameter (distance from the center) relate to what part of the ejecta the ray samples?\n",
    "\n",
    "2. **Intensity variation:** Why are some spectra much weaker than others?\n",
    "\n",
    "3. **Emission vs absorption:** Why do certain spectra appear emission-dominated while others show strong absorption features?\n",
    "\n",
    "4. **Integration process:** How do you think these individual spectra combine to create the single formal spectrum we observe?\n",
    "\n",
    "**Think about it:** Each ray samples different physical conditions as it passes through the ejecta at different impact parameters."
   ]
  },
  {
   "cell_type": "markdown",
   "id": "981ddf9d",
   "metadata": {},
   "source": [
    "When you're ready, continue on to the 4th notebook for today that talks about line interaction and estimators. "
   ]
  },
  {
   "cell_type": "code",
   "execution_count": null,
   "id": "31dd914d",
   "metadata": {},
   "outputs": [],
   "source": []
  }
 ],
 "metadata": {
  "kernelspec": {
   "display_name": "tardis",
   "language": "python",
   "name": "python3"
  },
  "language_info": {
   "codemirror_mode": {
    "name": "ipython",
    "version": 3
   },
   "file_extension": ".py",
   "mimetype": "text/x-python",
   "name": "python",
   "nbconvert_exporter": "python",
   "pygments_lexer": "ipython3",
   "version": "3.13.3"
  }
 },
 "nbformat": 4,
 "nbformat_minor": 5
}
