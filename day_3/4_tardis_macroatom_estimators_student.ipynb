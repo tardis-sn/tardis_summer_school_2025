{
 "cells": [
  {
   "cell_type": "markdown",
   "id": "f397111b",
   "metadata": {},
   "source": [
    "# Understanding TARDIS: Line Interactions, Estimators, and Plasma Choices\n",
    "\n",
    "> **Note:** We strongly recommend turning off code autocompletion for this notebook. This exercise is designed to engage your understanding of TARDIS Monte Carlo physics, spectrum generation, and plasma treatments, rather than relying on automated suggestions. In VSCode, you can temporarily disable autocomplete in notebook cells by navigating to **Settings → Notebook: Suggest Enabled** and unchecking the box, or by creating a workspace with a `.vscode/settings.json` file containing `\"notebook.suggest.enabled\": false`. This will help you focus on understanding the physics behind each step."
   ]
  },
  {
   "cell_type": "code",
   "execution_count": null,
   "id": "66100f8b",
   "metadata": {},
   "outputs": [],
   "source": [
    "from matplotlib import pyplot as plt\n",
    "from tardis import run_tardis\n",
    "from tardis.io.configuration.config_reader import Configuration\n",
    "import numpy as np\n",
    "from astropy import units as u, constants as const\n",
    "from pathlib import Path\n",
    "import pandas as pd"
   ]
  },
  {
   "cell_type": "code",
   "execution_count": null,
   "id": "b4f1bf00",
   "metadata": {},
   "outputs": [],
   "source": [
    "from tardis.io.atom_data import download_atom_data\n",
    "# Download the Kurucz CD23 atomic data for H and He. This is a basic atomic data set. Will not download if already present.\n",
    "download_atom_data('kurucz_cd23_chianti_H_He_latest')"
   ]
  },
  {
   "cell_type": "code",
   "execution_count": null,
   "id": "63f4600a",
   "metadata": {},
   "outputs": [],
   "source": [
    "conf = Configuration.from_yaml('tardis_example.yml') \n",
    "conf.montecarlo.no_of_packets=1e4 \n",
    "conf.montecarlo.iterations = 10  \n",
    "conf.montecarlo.last_no_of_packets = 1e5\n",
    "conf.montecarlo.convergence_strategy.stop_if_converged = True\n",
    "conf.montecarlo.convergence_strategy.hold_iterations = 4"
   ]
  },
  {
   "cell_type": "markdown",
   "id": "88ae9398",
   "metadata": {},
   "source": [
    "## Setting Up for Deep Analysis\n",
    "\n",
    "We'll start with a well-converged TARDIS simulation using the parameters you learned to optimize in the morning session. This allows us to focus on understanding the detailed physics rather than convergence issues.\n",
    "\n",
    "<div style=\"background-color: #e3f2fd; border-left: 4px solid #2196f3; padding: 10px; margin: 10px 0;\">\n",
    "<strong>**Key Focus:**</strong> Today we're shifting from \"making TARDIS work\" to \"understanding how TARDIS works\" - the Monte Carlo physics, spectrum generation, and advanced plasma treatments.\n",
    "</div>"
   ]
  },
  {
   "cell_type": "code",
   "execution_count": null,
   "id": "0311832e",
   "metadata": {},
   "outputs": [],
   "source": [
    "sim = run_tardis(conf, virtual_packet_logging=True)"
   ]
  },
  {
   "cell_type": "markdown",
   "id": "dd90afff",
   "metadata": {},
   "source": [
    "# Line Interaction, the Macro Atom, and Fluorescence"
   ]
  },
  {
   "cell_type": "markdown",
   "id": "fc547164",
   "metadata": {},
   "source": [
    "### Understanding the Macro Atom: Beyond Simple Scattering\n",
    "\n",
    "The macro atom is TARDIS's sophisticated treatment of how packets interact with atomic lines. Rather than simple scattering, it models the complex pathways an atom can take when excited by a photon.\n",
    "\n",
    "**$\\blacktriangleright$ Why Macro Atoms Matter:**\n",
    "\n",
    "When a photon excites an atom, the atom doesn't have to re-emit at the same frequency. The macro atom treatment allows:\n",
    "1. **Fluorescence:** Absorption at one frequency, emission at another\n",
    "2. **Collisional de-excitation:** Energy can be converted to kinetic energy instead of radiation\n",
    "3. **Cascade processes:** Multi-step pathways through different energy levels\n",
    "\n",
    "Let's explore the macro atom data structure and see how different interaction types create different spectral signatures."
   ]
  },
  {
   "cell_type": "code",
   "execution_count": null,
   "id": "397e1ab2",
   "metadata": {},
   "outputs": [],
   "source": [
    "sim.plasma.macro_atom_data"
   ]
  },
  {
   "cell_type": "markdown",
   "id": "fae9f7c3",
   "metadata": {},
   "source": [
    "### Exploring Macro Atom Transition Data\n",
    "\n",
    "**$\\blacktriangleright$ Understanding the Data Structure:**\n",
    "\n",
    "The macro atom data contains the physics of how excited atoms can de-excite:\n",
    "\n",
    "1. **Transition types:** Numbers indicating whether the transition goes up, down without emission, or down with emission\n",
    "2. **Transition probabilities:** Weights that determine which pathway the macro atom follows\n",
    "3. **Source and destination levels:** The atomic states involved in each possible transition\n",
    "\n",
    "This data encodes the quantum mechanical pathways available to excited atoms, allowing TARDIS to model complex fluorescence and collision processes beyond simple scattering.\n",
    "\n",
    "Let's now explore how different line interaction treatments affect the resulting spectra by progressively adding complexity to the atomic physics."
   ]
  },
  {
   "cell_type": "code",
   "execution_count": null,
   "id": "a81c60a7",
   "metadata": {},
   "outputs": [],
   "source": [
    "conf.plasma.line_interaction_type = 'scatter'\n",
    "sim = run_tardis(conf, virtual_packet_logging=True)"
   ]
  },
  {
   "cell_type": "markdown",
   "id": "9f5aad0e",
   "metadata": {},
   "source": [
    "We provide a block of code below that grabs the frequencies of packets before and after they interact. You can investigate it if you want, but feel free to just examine the output plot as well since we go through a couple parts of TARDIS that we haven't had time to cover. "
   ]
  },
  {
   "cell_type": "code",
   "execution_count": null,
   "id": "f91b4ccf",
   "metadata": {},
   "outputs": [],
   "source": [
    "# Get the mask for the packets that experience line interaction as the interaction\n",
    "line_interaction_mask = sim.transport.transport_state.last_interaction_type == 2\n",
    "\n",
    "# get the frequency of the packets before the interaction\n",
    "freq_before_interaction = (\n",
    "    sim.transport.transport_state.last_interaction_in_nu[line_interaction_mask] * u.Hz\n",
    ")\n",
    "\n",
    "# get the frequency of the packets after the interaction\n",
    "freq_after_interaction = sim.transport.transport_state.output_nu[\n",
    "    line_interaction_mask\n",
    "]\n",
    "\n",
    "# convert the frequencies to wavelength\n",
    "wavelength_before_interaction = (const.c / freq_before_interaction).to(u.AA)\n",
    "wavelength_after_interaction = (const.c / freq_after_interaction).to(u.AA)\n",
    "\n",
    "# plot the frequencies before and after the interaction and color code by the ion type\n",
    "plt.figure(figsize=(6, 6))\n",
    "plt.plot(\n",
    "    wavelength_before_interaction,\n",
    "    wavelength_after_interaction,\n",
    "    \"o\",\n",
    "    markersize=1,\n",
    "    alpha=0.4,\n",
    "    label='Frequency before and after interaction'\n",
    ")\n",
    "plt.plot(\n",
    "    wavelength_before_interaction,\n",
    "    wavelength_before_interaction,\n",
    "    \"k--\",\n",
    "    alpha=0.5,\n",
    "    label='No change in wavelength'\n",
    ")\n",
    "plt.xlabel(r\"Wavelength before interaction ($\\AA$)\")\n",
    "plt.ylabel(r\"Wavelength after interaction ($\\AA$)\")\n",
    "plt.title(\"Wavelength before and after interaction\")\n",
    "plt.xscale(\"log\")\n",
    "plt.yscale(\"log\")\n",
    "plt.xlim(1e3, 1e4)\n",
    "plt.ylim(1e3, 1e4)\n",
    "plt.legend()"
   ]
  },
  {
   "cell_type": "markdown",
   "id": "25a86cdc",
   "metadata": {},
   "source": [
    "### **ANALYZE**: Simple Scattering Patterns\n",
    "\n",
    "**$\\blacktriangleright$ TASK -  Interpretation Challenge** - Study the wavelength interaction plot for scatter mode:\n",
    "\n",
    "Even in the simplest case (scatter), you see interesting structure rather than a perfect one-to-one line. \n",
    "\n",
    "1. **Blocky structure:** Why do you see distinct rectangular regions rather than smooth distributions?\n",
    "\n",
    "2. **Departure from diagonal:** What physical effects cause packets to change wavelength even in \"scatter\" mode?\n",
    "\n",
    "**Hint:** Think about the Doppler effect and the velocity structure you explored in the morning sessions. What happens when packets interact with moving material?"
   ]
  },
  {
   "cell_type": "markdown",
   "id": "7234a684",
   "metadata": {},
   "source": [
    "## Double click to edit this cell and put your thoughts down here. "
   ]
  },
  {
   "cell_type": "markdown",
   "id": "0c707dbe",
   "metadata": {},
   "source": [
    "Now let's switch on the more sophisticated line interaction treatments and see what happens to our interaction plots."
   ]
  },
  {
   "cell_type": "code",
   "execution_count": null,
   "id": "a845ccaf",
   "metadata": {},
   "outputs": [],
   "source": [
    "conf.plasma.line_interaction_type = 'downbranch'\n",
    "sim = run_tardis(conf, virtual_packet_logging=True)"
   ]
  },
  {
   "cell_type": "code",
   "execution_count": null,
   "id": "3c61dabb",
   "metadata": {},
   "outputs": [],
   "source": [
    "# Get the mask for the packets that experience line interaction as the interaction\n",
    "line_interaction_mask = sim.transport.transport_state.last_interaction_type == 2\n",
    "\n",
    "# get the frequency of the packets before the interaction\n",
    "freq_before_interaction = (\n",
    "    sim.transport.transport_state.last_interaction_in_nu[line_interaction_mask] * u.Hz\n",
    ")\n",
    "\n",
    "# get the frequency of the packets after the interaction\n",
    "freq_after_interaction = sim.transport.transport_state.output_nu[\n",
    "    line_interaction_mask\n",
    "]\n",
    "\n",
    "# convert the frequencies to wavelength\n",
    "wavelength_before_interaction = (const.c / freq_before_interaction).to(u.AA)\n",
    "wavelength_after_interaction = (const.c / freq_after_interaction).to(u.AA)\n",
    "\n",
    "# plot the frequencies before and after the interaction and color code by the ion type\n",
    "plt.figure(figsize=(6, 6))\n",
    "plt.plot(\n",
    "    wavelength_before_interaction,\n",
    "    wavelength_after_interaction,\n",
    "    \"o\",\n",
    "    markersize=1,\n",
    "    alpha=0.4,\n",
    "    label='Frequency before and after interaction'\n",
    ")\n",
    "plt.plot(\n",
    "    wavelength_before_interaction,\n",
    "    wavelength_before_interaction,\n",
    "    \"k--\",\n",
    "    alpha=0.5,\n",
    "    label='No change in wavelength'\n",
    ")\n",
    "plt.xlabel(r\"Wavelength before interaction ($\\AA$)\")\n",
    "plt.ylabel(r\"Wavelength after interaction ($\\AA$)\")\n",
    "plt.title(\"Wavelength before and after interaction\")\n",
    "plt.xscale(\"log\")\n",
    "plt.yscale(\"log\")\n",
    "plt.xlim(1e3, 1e4)\n",
    "plt.ylim(1e3, 1e4)\n",
    "plt.legend()"
   ]
  },
  {
   "cell_type": "markdown",
   "id": "8665726b",
   "metadata": {},
   "source": [
    "### Downbranch: Introducing Fluorescence\n",
    "\n",
    "**$\\blacktriangleright$ Enhanced Physics** - The downbranch mode allows atoms to de-excite to lower energy states than they were excited from, enabling fluorescence. Note that this doesn't mean the packets will be at lower frequencies though, because the packet might excite to a transition like 4 -> 5, and then 5 -> 1, which is a more energetic transition. \n",
    "\n",
    "**Observe the changes:** Notice how the interaction patterns now include patches away from the one-to-one line where packets depart significantly from their initial wavelengths.\n",
    "\n",
    "**Physical meaning:** This represents fluorescence processes where a high-energy photon excites an atom, which then emits at a different (typically longer) wavelength. This is a crucial process in supernova spectra."
   ]
  },
  {
   "cell_type": "code",
   "execution_count": null,
   "id": "1793badf",
   "metadata": {},
   "outputs": [],
   "source": [
    "conf.plasma.line_interaction_type = 'macroatom'\n",
    "sim = run_tardis(conf, virtual_packet_logging=True)"
   ]
  },
  {
   "cell_type": "code",
   "execution_count": null,
   "id": "34b5c1ed",
   "metadata": {},
   "outputs": [],
   "source": [
    "# Get the mask for the packets that experience line interaction as the interaction\n",
    "line_interaction_mask = sim.transport.transport_state.last_interaction_type == 2\n",
    "\n",
    "# get the frequency of the packets before the interaction\n",
    "freq_before_interaction = (\n",
    "    sim.transport.transport_state.last_interaction_in_nu[line_interaction_mask] * u.Hz\n",
    ")\n",
    "\n",
    "# get the frequency of the packets after the interaction\n",
    "freq_after_interaction = sim.transport.transport_state.output_nu[\n",
    "    line_interaction_mask\n",
    "]\n",
    "\n",
    "# convert the frequencies to wavelength\n",
    "wavelength_before_interaction = (const.c / freq_before_interaction).to(u.AA)\n",
    "wavelength_after_interaction = (const.c / freq_after_interaction).to(u.AA)\n",
    "\n",
    "# plot the frequencies before and after the interaction and color code by the ion type\n",
    "plt.figure(figsize=(6, 6))\n",
    "plt.plot(\n",
    "    wavelength_before_interaction,\n",
    "    wavelength_after_interaction,\n",
    "    \"o\",\n",
    "    markersize=1,\n",
    "    alpha=0.4,\n",
    "    label='Frequency before and after interaction'\n",
    ")\n",
    "plt.plot(\n",
    "    wavelength_before_interaction,\n",
    "    wavelength_before_interaction,\n",
    "    \"k--\",\n",
    "    alpha=0.5,\n",
    "    label='No change in wavelength'\n",
    ")\n",
    "plt.xlabel(r\"Wavelength before interaction ($\\AA$)\")\n",
    "plt.ylabel(r\"Wavelength after interaction ($\\AA$)\")\n",
    "plt.title(\"Wavelength before and after interaction\")\n",
    "plt.xscale(\"log\")\n",
    "plt.yscale(\"log\")\n",
    "plt.xlim(1e3, 1e4)\n",
    "plt.ylim(1e3, 1e4)\n",
    "plt.legend()"
   ]
  },
  {
   "cell_type": "markdown",
   "id": "1b917141",
   "metadata": {},
   "source": [
    "### Full Macro Atom: Complete Atomic Physics\n",
    "\n",
    "**$\\blacktriangleright$ Most Sophisticated Treatment** - The full macro atom allows transitions from any atomic state to any other accessible state.\n",
    "\n",
    "**Key observations:**\n",
    "1. **Scattering dominance:** The heaviest concentration still occurs near the diagonal because scattering remains the most probable process\n",
    "2. **Wide redistribution:** Packets can now be re-emitted at dramatically different wavelengths through complex cascade processes\n",
    "3. **Element-specific patterns:** Different atomic species access different regions of wavelength space\n",
    "\n",
    "This treatment provides the most realistic modeling of atomic physics in supernova ejecta."
   ]
  },
  {
   "cell_type": "code",
   "execution_count": null,
   "id": "7bfee10d",
   "metadata": {},
   "outputs": [],
   "source": [
    "from tardis.util.base import atomic_number2element_symbol, int_to_roman\n",
    "\n",
    "# first extract the line list from the simulation (recall from the Notebooks from Day 2 and 3)\n",
    "line_list = sim.plasma.atomic_data.lines.reset_index()\n",
    "\n",
    "# find the interaction line id to identify the ion\n",
    "line_in_ids = sim.transport.transport_state.last_line_interaction_in_id[\n",
    "    line_interaction_mask\n",
    "]\n",
    "line_out_ids = sim.transport.transport_state.last_line_interaction_out_id[\n",
    "    line_interaction_mask\n",
    "]\n",
    "line_in = line_list.loc[line_in_ids]\n",
    "line_out = line_list.loc[line_out_ids]\n",
    "\n",
    "# generate label for each line using the element + ionization state\n",
    "line_in[\"ion_name\"] = [\n",
    "    f\"{atomic_number2element_symbol(int(line['atomic_number']))} {int_to_roman(int(line['ion_number']))}\"\n",
    "    for _, line in line_in.iterrows()\n",
    "]\n",
    "line_out[\"ion_name\"] = [\n",
    "    f\"{atomic_number2element_symbol(int(line['atomic_number']))} {int_to_roman(int(line['ion_number']))}\"\n",
    "    for _, line in line_out.iterrows()\n",
    "]\n",
    "\n",
    "# now let's color code the points by the ion type\n",
    "plt.figure(figsize=(6, 6))\n",
    "colors = plt.cm.tab20(np.linspace(0, 1, len(line_in[\"ion_name\"].unique())))\n",
    "for ion_name, color in zip(line_in[\"ion_name\"].unique(), colors):\n",
    "    if ion_name.endswith(' '):\n",
    "        pass\n",
    "    else:\n",
    "        mask = line_in[\"ion_name\"] == ion_name\n",
    "        plt.plot(\n",
    "            wavelength_before_interaction[mask],\n",
    "            wavelength_after_interaction[mask],\n",
    "            \"o\",\n",
    "            markersize=1,\n",
    "            alpha=0.7,\n",
    "            label=ion_name,\n",
    "            zorder=1,\n",
    "            color=color,\n",
    "        )\n",
    "plt.xlabel(r\"Wavelength before interaction ($\\AA$)\")\n",
    "plt.ylabel(r\"Wavelength after interaction ($\\AA$)\")\n",
    "plt.title(\"Wavelength before and after interaction\")\n",
    "plt.xscale(\"log\")\n",
    "plt.yscale(\"log\")\n",
    "plt.xlim(1e3, 1e4)\n",
    "plt.ylim(1e3, 1e4)\n",
    "plt.legend(markerscale=5)\n",
    "plt.show()\n"
   ]
  },
  {
   "cell_type": "markdown",
   "id": "b897b327",
   "metadata": {},
   "source": [
    "### Connecting Atomic Physics to Observed Spectra\n",
    "\n",
    "**$\\blacktriangleright$ The Complete Picture** - Now you can see how atomic physics creates the spectral features we observe.\n",
    "\n",
    "The element-specific patterns in the wavelength redistribution plot directly connect to spectral line formation:\n",
    "\n",
    "1. **Symmetry and asymmetry:** All lines that can absorb can also emit, but the dependence of the absorption on the radiation field strength breaks symmetry about the 1-to-1 line.\n",
    "2. **Line strength correlation:** Heavy vertical patches in the interaction plot correspond to strong absorption features in the spectrum\n",
    "3. **Frequency redistribution:** The macro atom's ability to redistribute photon energies is what creates the complex line profiles we see\n",
    "\n",
    "This visualization shows you exactly where the strongest line interactions occur and how they redistribute energy across the spectrum."
   ]
  },
  {
   "cell_type": "code",
   "execution_count": null,
   "id": "ccd623d5",
   "metadata": {},
   "outputs": [],
   "source": [
    "sim.spectrum_solver.spectrum_virtual_packets.plot()\n",
    "plt.xlim(1e3, 1e4)\n",
    "plt.xscale(\"log\")"
   ]
  },
  {
   "cell_type": "markdown",
   "id": "9e38d97d",
   "metadata": {},
   "source": [
    "And now let's plot both of these on the on top of each other so we can see how the patches line up with the heavy line features in the spectrum."
   ]
  },
  {
   "cell_type": "code",
   "execution_count": null,
   "id": "9a34410d",
   "metadata": {},
   "outputs": [],
   "source": [
    "fig, (ax1, ax2) = plt.subplots(2, 1, figsize=(10, 10), sharex=True)\n",
    "\n",
    "# Plot the spectrum on the top subplot\n",
    "sim.spectrum_solver.spectrum_virtual_packets.plot(ax=ax1)\n",
    "ax1.set_xlabel('')  # Remove x-label from top plot\n",
    "\n",
    "# Plot the interaction data on the bottom subplot\n",
    "colors = plt.cm.tab20(np.linspace(0, 1, len(line_in[\"ion_name\"].unique())))\n",
    "for ion_name, color in zip(line_in[\"ion_name\"].unique(), colors):\n",
    "    if ion_name.endswith(' '):\n",
    "        pass\n",
    "    else:\n",
    "        mask = line_in[\"ion_name\"] == ion_name\n",
    "        ax2.plot(\n",
    "            wavelength_before_interaction[mask],\n",
    "            wavelength_after_interaction[mask],\n",
    "            \"o\",\n",
    "            markersize=1,\n",
    "            alpha=0.6,\n",
    "            label=ion_name,\n",
    "            zorder=1,\n",
    "            color=color,\n",
    "        )\n",
    "\n",
    "ax2.set_xlabel(r\"Wavelength before interaction ($\\AA$)\")\n",
    "ax2.set_ylabel(r\"Wavelength after interaction ($\\AA$)\")\n",
    "ax2.set_xscale(\"log\")\n",
    "ax2.set_yscale(\"log\")\n",
    "ax2.set_xlim(1e3, 1e4)\n",
    "ax2.set_ylim(1e3, 1e4)\n",
    "ax2.legend(markerscale=5, bbox_to_anchor=(1.05, 1), loc='upper left')\n",
    "\n",
    "plt.subplots_adjust(hspace=0)\n",
    "plt.show()\n"
   ]
  },
  {
   "cell_type": "markdown",
   "id": "2ab6426b",
   "metadata": {},
   "source": [
    "**$\\blacktriangleright$ TASK: Analyze Element-Specific Line Redistribution**\n",
    "\n",
    "Study the combined plot above that shows both the spectrum and the wavelength redistribution patterns by element. This visualization reveals how specific atomic species create the spectral features we observe.\n",
    "\n",
    "**Your Analysis Tasks:**\n",
    "\n",
    "1. **Identify Dominant Elements:**\n",
    "   - How do these strong redistribution regions correspond to absorption features in the spectrum above?\n",
    "   - Which elements show the strongest vertical \"columns\" in the redistribution plot? Can you always identify a single element for the strong line features in the spectrum?\n",
    "\n",
    "2. **Physical Interpretation:**\n",
    "   - Why do some elements (like Ca II, Si II) show such prominent redistribution patterns?\n",
    "   - What does the concentration of points near the diagonal tell you about the relative importance of scattering vs. fluorescence?\n",
    "\n",
    "**Key Insight:** This plot directly shows you how the macro atom's complex atomic physics creates the spectral features that astronomers use to identify elements in supernova ejecta."
   ]
  },
  {
   "cell_type": "markdown",
   "id": "a3abdeea",
   "metadata": {},
   "source": [
    "# LTE vs NLTE: When Physics Assumptions Matter\n",
    "\n",
    "Local Thermodynamic Equilibrium (LTE) is a powerful simplification, but supernova ejecta often violate its assumptions. Understanding when and how to depart from LTE is crucial for accurate modeling.\n",
    "\n",
    "**$\\blacktriangleright$ LTE Assumptions and Their Breakdown:**\n",
    "\n",
    "LTE assumes that collision rates dominate over radiative rates, leading to equilibrium distributions. In supernova ejecta:\n",
    "1. **Low densities:** Collision rates may be too low for equilibrium\n",
    "2. **Strong radiation fields:** Photoionization and photoexcitation become important\n",
    "3. **Large scale lengths:** Radiation can escape before establishing equilibrium\n",
    "\n",
    "TARDIS provides several \"NLTE\" treatments that modify LTE assumptions in physically motivated ways for explosive transients."
   ]
  },
  {
   "cell_type": "code",
   "execution_count": null,
   "id": "73acd189",
   "metadata": {},
   "outputs": [],
   "source": [
    "conf.plasma.excitation"
   ]
  },
  {
   "cell_type": "code",
   "execution_count": null,
   "id": "213a6dfd",
   "metadata": {},
   "outputs": [],
   "source": [
    "conf.plasma.ionization"
   ]
  },
  {
   "cell_type": "markdown",
   "id": "2ba88628",
   "metadata": {},
   "source": [
    "### Recommended NLTE Settings for Explosive Transients\n",
    "\n",
    "**$\\blacktriangleright$ Best Practice Configuration:**\n",
    "\n",
    "For explosive transients, we recommend:\n",
    "- **Excitation:** `dilute-lte` - accounts for diluted radiation field effects on level populations\n",
    "- **Ionization:** `nebular` - includes photoionization and recombination in low-density environments\n",
    "\n",
    "These settings modify LTE treatment in ways that have been shown to be more accurate for supernova-like conditions where densities are low and radiation fields are strong.\n",
    "\n",
    "**Why these matter:** Let's compare full LTE treatment with these recommended NLTE modifications to see how dramatically they can affect both the plasma state and the resulting spectrum."
   ]
  },
  {
   "cell_type": "code",
   "execution_count": null,
   "id": "73accf75",
   "metadata": {},
   "outputs": [],
   "source": [
    "conf.plasma.excitation = 'lte'\n",
    "conf.plasma.ionization = 'lte'\n",
    "sim_lte_plasma = run_tardis(conf)"
   ]
  },
  {
   "cell_type": "markdown",
   "id": "286a0e93",
   "metadata": {},
   "source": [
    "Let's begin by comparing the ion number densities of a couple elements to see how much they care about LTE vs. NLTE solvers. You can play around with the SHELL_ID and ATOMIC NUMBER like in previous notebooks to examine the elements of your choice, in the shells of your choice. \n",
    "\n",
    "Below, we set up the first plot to examine Argon in the 10th shell, halfway out. "
   ]
  },
  {
   "cell_type": "code",
   "execution_count": null,
   "id": "fac02028",
   "metadata": {},
   "outputs": [],
   "source": [
    "SHELL_ID = 10\n",
    "ATOMIC_NUMBER = 18\n",
    "plt.plot(sim_lte_plasma.plasma.ion_number_density.loc[ATOMIC_NUMBER][SHELL_ID], label = 'Argon Full LTE')\n",
    "plt.plot(sim.plasma.ion_number_density.loc[ATOMIC_NUMBER][SHELL_ID], label='Argon Nebular ionization and dilute-LTE excitation')\n",
    "\n",
    "plt.legend()\n",
    "plt.xlabel('Ionization State')\n",
    "plt.ylabel('Ion Number Density [cm$^{-3}$]')\n",
    "plt.xlim(0, 4)"
   ]
  },
  {
   "cell_type": "markdown",
   "id": "3b86692b",
   "metadata": {},
   "source": [
    "### Dramatic Impact on Ionization Balance\n",
    "\n",
    "**$\\blacktriangleright$ Case Study: Argon** - For elements with sensitive ionization edges, the choice of physics treatment can completely change which ionization state dominates.\n",
    "\n",
    "**Physical insight:** The difference between LTE and nebular ionization is most pronounced for elements where photoionization competes strongly with collisional ionization. Argon's ionization energy makes it particularly sensitive to these effects.\n",
    "\n",
    "Now let's examine Oxygen, which we saw in a previous notebook was particularly insensitive to small changes in temperature. "
   ]
  },
  {
   "cell_type": "code",
   "execution_count": null,
   "id": "2fa882db",
   "metadata": {},
   "outputs": [],
   "source": [
    "SHELL_ID = 10\n",
    "ATOMIC_NUMBER = 8\n",
    "plt.plot(sim_lte_plasma.plasma.ion_number_density.loc[ATOMIC_NUMBER][SHELL_ID], label = 'Full LTE')\n",
    "plt.plot(sim.plasma.ion_number_density.loc[ATOMIC_NUMBER][SHELL_ID], label='Nebular ionization and dilute-LTE excitation')\n",
    "\n",
    "plt.legend()\n",
    "plt.xlabel('Ionization State')\n",
    "plt.ylabel('Ion Number Density [cm$^{-3}$]')\n",
    "plt.xlim(0, 4)"
   ]
  },
  {
   "cell_type": "markdown",
   "id": "9d13a082",
   "metadata": {},
   "source": [
    "### Element-Dependent Sensitivity\n",
    "\n",
    "**$\\blacktriangleright$ Contrast: Oxygen** - Different elements show varying sensitivity to the physics treatment.\n",
    "\n",
    "**Why the difference:** Oxygen's ionization energy and the specific conditions in this model make it less sensitive to the LTE vs NLTE treatment compared to Argon. This demonstrates why understanding the physics is crucial - the importance of different approximations depends on the specific element and physical conditions."
   ]
  },
  {
   "cell_type": "code",
   "execution_count": null,
   "id": "d6a0e875",
   "metadata": {},
   "outputs": [],
   "source": [
    "SHELL_ID = 10\n",
    "ATOMIC_NUMBER = 18\n",
    "plt.plot(sim_lte_plasma.plasma.level_number_density.loc[ATOMIC_NUMBER, 1][SHELL_ID], label = 'Argon III Full LTE')\n",
    "plt.plot(sim.plasma.level_number_density.loc[ATOMIC_NUMBER, 1][SHELL_ID], label='Argon III Nebular ionization and dilute-LTE excitation')\n",
    "\n",
    "plt.legend()\n",
    "plt.xlabel('Excitation State')\n",
    "plt.ylabel('Level Number Density [cm$^{-3}$]')\n",
    "plt.xlim(0, 4)"
   ]
  },
  {
   "cell_type": "markdown",
   "id": "70dcc7ce",
   "metadata": {},
   "source": [
    "### Excitation Effects Propagate Through the Physics\n",
    "\n",
    "**$\\blacktriangleright$ Cascading Changes** - The ionization balance changes create corresponding shifts in the excitation level populations.\n",
    "\n",
    "This demonstrates how physics approximations cascade through the entire calculation: ionization changes affect which ions are present, which affects level populations, which affects line opacities, which affects the final spectrum."
   ]
  },
  {
   "cell_type": "code",
   "execution_count": null,
   "id": "f0d3d875",
   "metadata": {},
   "outputs": [],
   "source": [
    "plt.figure(figsize=(10, 6))\n",
    "sim_lte_plasma.spectrum_solver.spectrum_virtual_packets.plot(label='Full LTE', alpha=0.5)\n",
    "sim.spectrum_solver.spectrum_virtual_packets.plot(label='Nebular ionization and dilute-LTE excitation', alpha=0.5, color='red')\n",
    "plt.legend()\n",
    "plt.xlim(1e3, 1e4)"
   ]
  },
  {
   "cell_type": "markdown",
   "id": "a1b3bc04",
   "metadata": {},
   "source": [
    "### Critical Lesson: Physics Choices Have Major Consequences\n",
    "\n",
    "**$\\blacktriangleright$ Spectroscopic Impact** - The dramatically different spectra demonstrate why understanding the underlying physics is crucial for research.\n",
    "\n",
    "**Key takeaway:** Choosing appropriate physics treatments isn't just an academic exercise - it can mean the difference between correct and incorrect scientific conclusions. The \"best\" treatment depends on your specific physical conditions and scientific goals.\n",
    "\n",
    "**For explosive transients:** The recommended NLTE settings (dilute-LTE excitation, nebular ionization) are generally more appropriate than full LTE for the low-density, radiation-dominated environments typical of supernova ejecta."
   ]
  },
  {
   "cell_type": "markdown",
   "id": "97c26d45",
   "metadata": {},
   "source": [
    "# Estimators: Connecting Packets to Plasma\n",
    "\n",
    "Estimators are the bridge between Monte Carlo packets and the plasma state. They track how packets interact with the plasma and provide the radiation field information needed to calculate ionization and excitation balance.\n",
    "\n",
    "**$\\blacktriangleright$ One Example Understanding J-Nu Estimators:**\n",
    "\n",
    "The J-Nu estimator tracks the mean intensity of radiation approaching each atomic line from the nu (high-frequency) side. This quantity is crucial for calculating macroatom transition probabilities that care about stimulated emission. \n",
    "\n",
    "The plots below show these estimators across different shells and wavelengths, revealing the detailed radiation field structure that determines the plasma state."
   ]
  },
  {
   "cell_type": "code",
   "execution_count": null,
   "id": "6b374605",
   "metadata": {},
   "outputs": [],
   "source": [
    "fig, axes = plt.subplots(2, 2, figsize=(15, 12))\n",
    "axes = axes.flatten()\n",
    "\n",
    "for subplot_idx in range(4):\n",
    "    for index, estimator in enumerate(sim.transport.transport_state.j_nu_estimator.T[::5]):\n",
    "        if index % 4 == subplot_idx:  # Distribute shells across subplots\n",
    "            axes[subplot_idx].scatter(sim.plasma.atomic_data.lines.wavelength, estimator, alpha=0.7, s=0.6)\n",
    "    \n",
    "    axes[subplot_idx].set_xscale('log')\n",
    "    axes[subplot_idx].set_xlim(1e3, 5e4)\n",
    "    axes[subplot_idx].set_ylim(0, 6e-18)\n",
    "    axes[subplot_idx].set_xlabel(r'Wavelength [$\\AA$]')\n",
    "    axes[subplot_idx].set_ylabel(r'J Blue Estimator [$erg s^{-1} cm^{-2} Hz^{-1}$]')\n",
    "    axes[subplot_idx].set_title(f'Shell {subplot_idx * 5 + 1}')\n",
    "\n",
    "plt.tight_layout()\n",
    "plt.show()"
   ]
  },
  {
   "cell_type": "markdown",
   "id": "a43bfae6",
   "metadata": {},
   "source": [
    "**$\\blacktriangleright$ TASK**: Understanding the J-nu Estimator Structure\n",
    "\n",
    "**$\\blacktriangleright$ Critical Analysis Questions** - Study the J-nu estimator plots above and think about the physical meaning:\n",
    "\n",
    "1. **Overall Shape:** Why does the J-nu estimator show higher values at shorter wavelengths (UV region) and generally decrease toward longer wavelengths? What does this tell you about the radiation field spectrum?\n",
    "\n",
    "2. **Shell-to-Shell Variation:** Compare the different shells (subplots). How and why do the estimator values change as you move from inner to outer shells? What physical processes cause these differences?\n",
    "\n",
    "3. **Zero Values:** Why are there many atomic lines with essentially zero J-nu estimator values? What does this reveal about which lines are actually being interacted with by the radiation field?\n",
    "\n",
    "**Physical Connection:** Remember that these estimators directly determine the excitation and ionization balance of the plasma. The structure you see in these plots is what creates the specific plasma conditions that generate the final spectrum you observe."
   ]
  },
  {
   "cell_type": "markdown",
   "id": "f21e39f9",
   "metadata": {},
   "source": [
    "Congratulations on learning so much about how TARDIS works! Tomorrow we will explore how to use TARDIS in full research scenarios, and how you can set up physically interesting models!"
   ]
  },
  {
   "cell_type": "code",
   "execution_count": null,
   "id": "b2fe7a7e",
   "metadata": {},
   "outputs": [],
   "source": []
  }
 ],
 "metadata": {
  "kernelspec": {
   "display_name": "tardis",
   "language": "python",
   "name": "python3"
  },
  "language_info": {
   "codemirror_mode": {
    "name": "ipython",
    "version": 3
   },
   "file_extension": ".py",
   "mimetype": "text/x-python",
   "name": "python",
   "nbconvert_exporter": "python",
   "pygments_lexer": "ipython3",
   "version": "3.13.3"
  }
 },
 "nbformat": 4,
 "nbformat_minor": 5
}
