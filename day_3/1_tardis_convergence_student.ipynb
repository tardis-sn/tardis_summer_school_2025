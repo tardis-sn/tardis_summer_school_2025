{
 "cells": [
  {
   "cell_type": "markdown",
   "id": "c9cd8d4d",
   "metadata": {},
   "source": [
    "# How do we run TARDIS, and how do we make sure it's working well?\n",
    "\n",
    "> **Note:** We strongly recommend turning off code autocompletion for this notebook. This exercise is designed to engage your understanding of TARDIS convergence and simulation parameters, rather than relying on automated suggestions. In VSCode, you can temporarily disable autocomplete in notebook cells by navigating to **Settings → Notebook: Suggest Enabled** and unchecking the box, or by creating a workspace with a `.vscode/settings.json` file containing `\"notebook.suggest.enabled\": false`. This will help you focus on understanding the physics behind each step."
   ]
  },
  {
   "cell_type": "code",
   "execution_count": null,
   "id": "66100f8b",
   "metadata": {},
   "outputs": [],
   "source": [
    "from matplotlib import pyplot as plt\n",
    "from tardis.io.configuration.config_reader import Configuration\n",
    "from tardis import run_tardis"
   ]
  },
  {
   "cell_type": "markdown",
   "id": "92af79b6",
   "metadata": {},
   "source": [
    "Let's start by running a TARDIS simulation and plotting the spectrum it produces. If we want, we can do this in just two lines. \n",
    "\n",
    "**$\\blacktriangleright$ TASK**  Execute the cell below to see for yourself.\n",
    "\n",
    "<div style=\"background-color: #e3f2fd; border-left: 4px solid #2196f3; padding: 10px; margin: 10px 0;\">\n",
    "<strong>**Note:**</strong> TARDIS is designed to be easy to use. However, as we'll see, just because it runs doesn't mean the results are automatically reliable. We need to check that our simulation has converged properly.\n",
    "</div>"
   ]
  },
  {
   "cell_type": "code",
   "execution_count": null,
   "id": "4490a12d",
   "metadata": {},
   "outputs": [],
   "source": [
    "sim = run_tardis(Configuration.from_yaml('tardis_example.yml'))\n",
    "sim.spectrum_solver.spectrum_virtual_packets.plot()"
   ]
  },
  {
   "cell_type": "markdown",
   "id": "31f7e960",
   "metadata": {},
   "source": [
    "Great! You've just run your first TARDIS simulation and generated a spectrum. But what are we actually doing and how do we know that it's sensible? \n",
    "\n",
    "As we'll discover, just because TARDIS produces output doesn't guarantee that the output is physically meaningful or converged. We need to be critical about our results and check several diagnostics to ensure our simulation is reliable.\n",
    "\n",
    "Let's start by looking at the inputs to TARDIS and understanding what controls the simulation quality."
   ]
  },
  {
   "cell_type": "markdown",
   "id": "4ae9e4f3",
   "metadata": {},
   "source": [
    "## Understanding the Configuration\n",
    "\n",
    "The code needs a **configuration** object that sets many options in the code. This information gets stored in a dictionary structure. Many more options exist than in the one we'll see here.\n",
    "\n",
    "**$\\blacktriangleright$ TASK** - Before looking at the configuration object below:\n",
    "\n",
    "1. **Navigate to the `tardis_example.yml` file** in the same directory as this notebook and open it\n",
    "2. **Scan through the file structure** - what major sections do you see?\n",
    "3. **Look for parameters related to Monte Carlo** - what settings control the simulation?\n",
    "\n",
    "**Key parameters to identify:**\n",
    "- How many iterations does the simulation run?\n",
    "- How many Monte Carlo packets are used?\n",
    "- Are there any convergence criteria set?\n",
    "\n",
    "If you want to know more, you can also take a look at [the configuration documentation here](https://tardis-sn.github.io/tardis/io/configuration/tutorial_read_configuration.html) for a full list of the options that can be set in a configuration file."
   ]
  },
  {
   "cell_type": "code",
   "execution_count": null,
   "id": "35113b8b",
   "metadata": {},
   "outputs": [],
   "source": [
    "# Start by navigating around the directory that this notebook is in to find a .yml file, \n",
    "# and then take a minute to look at it just to see the structure and some of the fields.\n",
    "conf = Configuration.from_yaml('tardis_example.yml') \n",
    "conf.montecarlo"
   ]
  },
  {
   "cell_type": "markdown",
   "id": "0cc17dad",
   "metadata": {},
   "source": [
    "### Configuration Analysis\n",
    "\n",
    "If you've loaded in the file correctly, you'll see that the **configuration** object we got has many more fields and values than the .yml file that we generated it from. There are many default options that come along in TARDIS.\n",
    "\n",
    "**$\\blacktriangleright$ TASK** - Compare the YAML file with the loaded configuration:\n",
    "\n",
    "Take a look at how the loaded configuration that is ready for TARDIS is different from the YAML we loaded it from. Notice how there are a large number of extra fields with default parameters that we've picked up. \n",
    "\n",
    "You can change them all, but they're not all necessary to specify on your own. Feel free to ask us if anything catches your eye, but there are many more options than we'll have time to cover this week."
   ]
  },
  {
   "cell_type": "markdown",
   "id": "e6acc812",
   "metadata": {},
   "source": [
    "# Convergence and Packets"
   ]
  },
  {
   "cell_type": "markdown",
   "id": "e3a252b1",
   "metadata": {},
   "source": [
    "### Diagnosing Convergence\n",
    "\n",
    "**$\\blacktriangleright$ TASK** Let's run TARDIS again, but this time we'll ask it to show us convergence plots that will tell us how well the simulation is working."
   ]
  },
  {
   "cell_type": "code",
   "execution_count": null,
   "id": "a94c7ba5",
   "metadata": {},
   "outputs": [],
   "source": [
    "sim = run_tardis(conf, show_convergence_plots=True)"
   ]
  },
  {
   "cell_type": "code",
   "execution_count": null,
   "id": "30f78120",
   "metadata": {},
   "outputs": [],
   "source": [
    "sim.convergence_plots.plasma_plot"
   ]
  },
  {
   "cell_type": "code",
   "execution_count": null,
   "id": "d252dba5",
   "metadata": {},
   "outputs": [],
   "source": [
    "sim.convergence_plots.t_inner_luminosities_plot "
   ]
  },
  {
   "cell_type": "markdown",
   "id": "4f7501a7",
   "metadata": {},
   "source": [
    "### Interpreting the Convergence Plots\n",
    "\n",
    "What's going on here? We see something that looks like a step function, over a velocity range. Recall that TARDIS is built using shells that share a single constant density and temperature, and we see multiple lines because each iteration finds a new set of temperatures to try independently in each shell, based on the amount of energy that flows through it.\n",
    "\n",
    "Also notice that the first iteration seems pretty isolated and the radiative temperature jumps pretty far away from it after a single iteration. The first iteration is an informed initial guess that TARDIS uses to start the process.\n",
    "\n",
    "**$\\blacktriangleright$ TASK**  Ask yourself, is this simulation converged? Should we trust it, and why or why not?"
   ]
  },
  {
   "cell_type": "markdown",
   "id": "48092131",
   "metadata": {},
   "source": [
    "### Double click this cell to edit it, and then put your thoughts down here\n",
    "\n"
   ]
  },
  {
   "cell_type": "markdown",
   "id": "f12338f0",
   "metadata": {},
   "source": [
    "### Testing Reproducibility and Stability\n",
    "\n",
    "So now let's dive in and see if we can improve the simulation to make sure it's arriving at a reasonable plasma solution, and that we can trust the spectrum. Because TARDIS is a Monte Carlo code, it uses a lot of internal random numbers to sample probabilities. Setting the seed explicitly allows for reproducibility to make the random numbers be the same each time.\n",
    "\n",
    "Let's test this by running the simulation with different seeds and comparing the resulting spectra."
   ]
  },
  {
   "cell_type": "code",
   "execution_count": null,
   "id": "7cbe9626",
   "metadata": {},
   "outputs": [],
   "source": [
    "# We can see how the spectrum changes by trying a couple different seeds and seeing if we always get to the same spot. \n",
    "# Notice that, after we've loaded in the configuration object we can overwrite any of the values in it in python, \n",
    "# rather than having to go back to the .yml each time.\n",
    "\n",
    "for seed in [1,2,3,4]:\n",
    "\n",
    "    conf.montecarlo.seed = seed\n",
    "    sim = run_tardis(conf, show_convergence_plots=True)\n",
    "\n",
    "    sim.spectrum_solver.spectrum_virtual_packets.plot(alpha=0.5, label=f\"Seed {seed}\")\n",
    "    \n",
    "plt.xlim(3000, 7000)\n",
    "plt.legend()\n",
    "plt.xlabel(r'Wavelength [$\\AA]')\n",
    "plt.ylabel('Flux')"
   ]
  },
  {
   "cell_type": "markdown",
   "id": "b884aae2",
   "metadata": {},
   "source": [
    "### Diagnosing the Problem\n",
    "\n",
    "That also looks pretty bad. We tried to run TARDIS with a couple different seeds and we can see that we get a pretty different spectrum each time. They follow the same general pattern, but don't really look like one another.\n",
    "\n",
    "**$\\blacktriangleright$ Problem Solving** - Based on what you've observed so far:\n",
    "\n",
    "1. **What evidence do we have** that the simulation isn't working well?\n",
    "2. **What are the possible causes** of poor convergence in a Monte Carlo simulation?\n",
    "3. **What parameters might we adjust** to improve the situation?\n",
    "\n",
    "**Hint:** Think about the two main resources in a Monte Carlo simulation: time (iterations) and sampling (packets)."
   ]
  },
  {
   "cell_type": "markdown",
   "id": "650d6735",
   "metadata": {},
   "source": [
    "Let's start by making sure that TARDIS is converging to a stable plasma solution. One of the easiest things we can do is give TARDIS more iterations so that it has more time to move towards a stable solution.\n",
    "\n",
    "**$\\blacktriangleright$ Explore First** - Look at the Monte Carlo configuration below and identify:\n",
    "\n",
    "1. **How many iterations** is the simulation currently set to run?\n",
    "2. **How many packets** are being used per iteration?"
   ]
  },
  {
   "cell_type": "code",
   "execution_count": null,
   "id": "4a6b6f33",
   "metadata": {},
   "outputs": [],
   "source": [
    "conf.montecarlo"
   ]
  },
  {
   "cell_type": "markdown",
   "id": "46bb8c59",
   "metadata": {},
   "source": [
    "### **TASK**: Increase the Number of Iterations\n",
    "\n",
    "Based on your analysis, let's try to fix the convergence problem. First, let's give TARDIS more iterations to reach a stable solution."
   ]
  },
  {
   "cell_type": "code",
   "execution_count": null,
   "id": "a756d6fa",
   "metadata": {},
   "outputs": [],
   "source": [
    "# Your code here - increase the number of iterations\n",
    "conf.montecarlo.iterations = ?\n",
    "\n",
    "# Run the simulation\n",
    "sim = run_tardis(conf, show_convergence_plots=True)\n",
    "\n",
    "# Display the convergence plot\n",
    "sim.convergence_plots.plasma_plot"
   ]
  },
  {
   "cell_type": "markdown",
   "id": "731914f0",
   "metadata": {},
   "source": [
    "### Analyzing the Results\n",
    "\n",
    "Interesting. It still doesn't look like we're getting to a stable solution.\n",
    "\n",
    "**$\\blacktriangleright$ Analyze** - Look at the new convergence plot:\n",
    "\n",
    "1. **What changed** compared to the previous run with fewer iterations?\n",
    "2. **Is the simulation any closer to convergence?** What evidence supports your answer?\n",
    "3. **What might this tell us** about the root cause of the problem?\n",
    "\n",
    "**Think about it:** If more iterations don't help, what else could be the issue?\n",
    "\n",
    "Well, we know that TARDIS is a Monte Carlo code, and that it learns everything it needs to about the plasma by keeping track of how the packets interact with and move through the ejecta. Maybe we're not using enough packets in our simulation?"
   ]
  },
  {
   "cell_type": "markdown",
   "id": "7beb9cd7",
   "metadata": {},
   "source": [
    "## **$\\blacktriangleright$ TASK: Increase the number of packets**\n",
    "\n",
    "Now let's address the Monte Carlo sampling issue. TARDIS learns about the plasma state by tracking how packets interact with the ejecta. With too few packets, the statistics are poor and the results are noisy. We can also run even more packets on the very final iteration since that's the one we use to track the detailed radiation field and form the spectrum. "
   ]
  },
  {
   "cell_type": "code",
   "execution_count": null,
   "id": "48728266",
   "metadata": {},
   "outputs": [],
   "source": [
    "# Your code here - increase the number of packets\n",
    "conf.montecarlo.no_of_packets = ?\n",
    "conf.montecarlo_last_no_of_packets = ?\n",
    "\n",
    "# Run the simulation\n",
    "sim = run_tardis(conf, show_convergence_plots=True)\n",
    "\n",
    "# Display the convergence plot\n",
    "sim.convergence_plots.plasma_plot"
   ]
  },
  {
   "cell_type": "markdown",
   "id": "13a63613",
   "metadata": {},
   "source": [
    "### Success! But Can We Do Better?\n",
    "\n",
    "Much better! It seems like the radiative temperature reaches a place that it settles down and stays! In fact, now you might have more iterations than you actually need! And on top of that, the simulation took a lot longer to run this time.\n",
    "\n",
    "**$\\blacktriangleright$ Optimization Challenge** - Now we face a new problem:\n",
    "\n",
    "1. **Trade-offs:** We achieved convergence, but at what cost? How much longer did the simulation take?\n",
    "2. **Over-engineering:** Do we really need all those iterations if the solution converges earlier?\n",
    "3. **Efficiency:** How can we be smart about balancing computational cost and solution quality?\n",
    "\n",
    "Let's try to be clever and strike a good balance between computation time and a stable solution. This is especially helpful if you want to run your own simulation, and you don't want to hand-tune convergence parameters like we're doing here.\n",
    "\n",
    "**The Solution:** You can tell TARDIS to check if certain parameters have converged, and to make sure that they are stable for a set number of iterations before stopping and proceeding to the final iteration."
   ]
  },
  {
   "cell_type": "markdown",
   "id": "b92506ba",
   "metadata": {},
   "source": [
    "### **TASK**: Implement Automatic Convergence\n",
    "\n",
    "**$\\blacktriangleright$ Set Up Automatic Convergence** - Let's set up TARDIS to automatically detect convergence:\n",
    "\n",
    "1. **Understand the parameters:**\n",
    "   - `stop_if_converged = True`: Tells TARDIS to stop when convergence criteria are met\n",
    "   - `hold_iterations`: How many consecutive iterations must meet the criteria before stopping\n",
    "\n",
    "2. **Choose your strategy:** How many consecutive converged iterations would give you confidence?"
   ]
  },
  {
   "cell_type": "code",
   "execution_count": null,
   "id": "144f60a5",
   "metadata": {},
   "outputs": [],
   "source": [
    "conf.montecarlo...\n",
    "conf.montecarlo...\n",
    "\n",
    "sim = run_tardis(conf, show_convergence_plots=True)\n",
    "sim.convergence_plots.plasma_plot"
   ]
  },
  {
   "cell_type": "code",
   "execution_count": null,
   "id": "141df6dc",
   "metadata": {},
   "outputs": [],
   "source": [
    "sim.convergence_plots.t_inner_luminosities_plot"
   ]
  },
  {
   "cell_type": "markdown",
   "id": "9647c31a",
   "metadata": {},
   "source": [
    "### Final Spectrum Assessment\n",
    "\n",
    "Now let's take one more look at the spectrum to see how it looks with our improved convergence."
   ]
  },
  {
   "cell_type": "code",
   "execution_count": null,
   "id": "2129a76a",
   "metadata": {},
   "outputs": [],
   "source": [
    "sim.spectrum_solver.spectrum_virtual_packets.plot()"
   ]
  },
  {
   "cell_type": "markdown",
   "id": "53bea91b",
   "metadata": {},
   "source": [
    "### Excellent Work! Key Lessons Learned\n",
    "\n",
    "Your final spectrum should look much less noisy than what you saw at the beginning of the notebook. You've successfully diagnosed and fixed convergence problems in a Monte Carlo radiative transfer simulation!\n",
    "\n",
    "**Critical takeaways:**\n",
    "- **Always check convergence** - TARDIS will produce output even if it hasn't converged\n",
    "- **Monitor multiple diagnostics** - plasma plots, luminosity plots, spectrum consistency\n",
    "- **Balance accuracy vs. computational cost** - more packets and iterations improve results but take longer\n",
    "- **Use automatic convergence** - let TARDIS determine when it's done rather than guessing\n",
    "\n",
    "### **Final Reflection Questions:**\n",
    "\n",
    "1. **Computational Trade-offs:** You increased both iterations and packet number. How would you decide on optimal values for a new simulation?\n",
    "\n",
    "2. **Physical Insight:** Why is convergence particularly important for supernova simulations? What could go wrong if you used an unconverged model for scientific analysis?\n",
    "\n",
    "3. **Diagnostic Strategy:** If you encountered convergence problems in the future, what would be your systematic approach to diagnosing and fixing them?\n",
    "\n",
    "You can also see [the TARDIS documentation on convergence](https://tardis-sn.github.io/tardis/physics/update_and_conv/update_and_conv.html) for more advanced convergence strategies and diagnostics.\n",
    "\n",
    "Congratulations on making it to the end of this notebook! You've successfully learned how to diagnose and fix convergence problems in TARDIS simulations. \n",
    "\n",
    "Take a small breather and review as much as you want. After the break, we'll go on to the next notebook: **`tardis_intro_morning_2_tardis_plasma.ipynb`**"
   ]
  },
  {
   "cell_type": "markdown",
   "id": "5cea32b4",
   "metadata": {},
   "source": []
  },
  {
   "cell_type": "code",
   "execution_count": null,
   "id": "f2baefb2",
   "metadata": {},
   "outputs": [],
   "source": []
  }
 ],
 "metadata": {
  "kernelspec": {
   "display_name": "tardis",
   "language": "python",
   "name": "python3"
  },
  "language_info": {
   "codemirror_mode": {
    "name": "ipython",
    "version": 3
   },
   "file_extension": ".py",
   "mimetype": "text/x-python",
   "name": "python",
   "nbconvert_exporter": "python",
   "pygments_lexer": "ipython3",
   "version": "3.13.3"
  }
 },
 "nbformat": 4,
 "nbformat_minor": 5
}
