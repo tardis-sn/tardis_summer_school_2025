{
 "cells": [
  {
   "cell_type": "markdown",
   "id": "cb2636b6",
   "metadata": {},
   "source": [
    "> **Note:** We strongly recommend turning off code autocompletion for this notebook. This exercise is designed to engage your physical reasoning and familiarity with the structure of the data, rather than relying on automated suggestions. In VSCode, you can temporarily disable autocomplete in notebook cells by navigating to **Settings → Notebook: Suggest Enabled** and unchecking the box, or by creating a workspace with a `.vscode/settings.json` file containing `\"notebook.suggest.enabled\": false`. This will help you focus on understanding the logic behind each step."
   ]
  },
  {
   "cell_type": "markdown",
   "id": "379ef7a0",
   "metadata": {},
   "source": [
    "### Si II $\\lambda\\lambda$ 6355 — From Radiative Transfer to the Absorbers\n",
    "\n",
    "In yesterday's session, we focused on the propagation of radiation through the supernova ejecta. But what about the absorbers themselves?\n",
    "\n",
    "**Spectral line: Silicon II doublet (6348.864 $\\text{\\AA}$ and 6373.133 $\\text{\\AA}$ vacuum wavelengths)**\n",
    "\n",
    "Silicon II $\\lambda\\lambda$ 6355 is the iconic spectral feature of Type Ia supernovae. It is a doublet from the lines at 6348.864 $\\text{\\AA}$ and 6373.133 $\\text{\\AA}$ (vacuum wavelengths). We'll use the slightly stronger second line at 6373.133 $\\text{\\AA}$ for our simulation.\n",
    "\n",
    "This Si II doublet — a hallmark of Type Ia supernova spectra — is shaped by the interaction between radiation and a **very specific population of atoms**.\n",
    "\n",
    "**$\\blacktriangleright$ Your task:** look back at the physical expressions discussed yesterday. Specifically\n",
    "\n",
    "$$\n",
    "I = I_0 \\exp(-n \\sigma l)\n",
    "$$\n",
    "\n",
    " Based on what you already know (ejecta density, composition, temperature), what do you still need in order to predict the strength of this line?\n",
    "\n",
    "**What quantity sets the scale for how much light is absorbed at this wavelength?**\n",
    "\n",
    "<div style=\"background-color: #ffebee; border-left: 4px solid #f44336; padding: 10px; margin: 10px 0;\">\n",
    "<strong>**WARNING**: Simplify your problem:</strong> Think about a very simple system of a plasma in a box (particles in a box). The box is static and lives in an empty Universe. What happens when you send light through there? What are the important properties? We will connect it in the end to the larger picture of a supernova. <strong>**WARNING**: READ THIS BOX</strong>\n",
    "</div>"
   ]
  },
  {
   "cell_type": "markdown",
   "id": "5e36ccfd",
   "metadata": {},
   "source": [
    "**$\\blacktriangleright$ Do This** - Erase the contents of this cell and replace it with your answer to the above question!  (double-click on this text to edit this cell, and hit shift+enter to save the text)"
   ]
  },
  {
   "cell_type": "markdown",
   "id": "7b284d37",
   "metadata": {
    "tags": [
     "solution"
    ]
   },
   "source": [
    "**Solution** \n",
    "We now are looking for n and sigma"
   ]
  },
  {
   "cell_type": "markdown",
   "id": "f2110011",
   "metadata": {},
   "source": [
    "### What Does \"Si II $\\lambda\\lambda$ 6355\" Actually Mean?\n",
    "\n",
    "Let's break down the meaning of the label **Si II $\\lambda\\lambda$ 6355** — a key feature in Type Ia supernova spectra.\n",
    "\n",
    "You've seen this notation many times, but have you stopped to consider:\n",
    "\n",
    "- What does each part of it refer to?\n",
    "- What does it *not* tell you?\n",
    "- What assumptions are embedded in this shorthand?\n",
    "\n",
    "---\n",
    "\n",
    "### $\\blacktriangleright$ Your Task\n",
    "\n",
    "Discuss what each component of the label **Si II $\\lambda\\lambda$ 6355** means:\n",
    "\n",
    "- **Si**\n",
    "- **II**\n",
    "- **$\\lambda\\lambda$ 6355** (note: this refers to the doublet at 6348.864 $\\text{\\AA}$ and 6373.133 $\\text{\\AA}$ vacuum wavelengths)\n",
    "\n",
    "What physical quantities or concepts are represented here?\n",
    "\n",
    "Which ones are shorthand for more detailed atomic information?\n",
    "\n",
    "Which parts can you already connect to the atomic data you've explored?"
   ]
  },
  {
   "cell_type": "markdown",
   "id": "e7c8d18c",
   "metadata": {},
   "source": [
    "**$\\blacktriangleright$ Do This** - Erase the contents of this cell and replace it with your answer to the above question!  (double-click on this text to edit this cell, and hit shift+enter to save the text)"
   ]
  },
  {
   "cell_type": "markdown",
   "id": "1f965b9c",
   "metadata": {
    "tags": [
     "solution"
    ]
   },
   "source": [
    "**Instructor Solution:**\n",
    "\n",
    "Breaking down **Si II λλ 6355**:\n",
    "\n",
    "- **Si**: Silicon, the chemical element (atomic number Z=14). This tells us which atom we're dealing with, but not its ionization state or energy levels.\n",
    "\n",
    "- **II**: Roman numeral indicating the ionization stage. In spectroscopic notation, this means singly ionized silicon (Si⁺) - an atom that has lost one electron. In TARDIS notation, this corresponds to `ion_stage = 1`.\n",
    "\n",
    "- **λλ 6355**: The \"λλ\" indicates this is a doublet (two closely spaced lines), and 6355 refers to the approximate wavelength in Angstroms. The actual vacuum wavelengths are 6348.864 Å and 6373.133 Å.\n",
    "\n",
    "**What this notation hides:**\n",
    "- The specific atomic energy levels involved in the transitions\n",
    "- The quantum mechanical properties (J values, term symbols)\n",
    "- The oscillator strengths and Einstein coefficients\n",
    "- The fact that we're dealing with specific electronic transitions between bound states\n",
    "\n",
    "**Connections to atomic data:**\n",
    "- The \"Si\" maps to Z=14 in `atom_data.atom_data`\n",
    "- The \"II\" maps to `ion_stage = 1` in the levels and lines tables\n",
    "- The wavelengths can be found in `atom_data.lines` for the specific transitions\n",
    "- The energy levels involved are stored in `atom_data.levels.loc[(14, 1)]`\n"
   ]
  },
  {
   "cell_type": "markdown",
   "id": "9c5c0a85",
   "metadata": {},
   "source": [
    "### What Sets the Absorbing Population?\n",
    "\n",
    "We now know that the absorption strength in **the Si II doublet (6348.864 $\\text{\\AA}$ and 6373.133 $\\text{\\AA}$ vacuum wavelengths)** depends on how many absorbers are present in the relevant atomic state.  \n",
    "**For now, assume that the cross-section $\\sigma$ is known to you (we will discuss this later), and $l$ is part of the radiative transport — not part of this exercise.**\n",
    "\n",
    "This leads to a central question:\n",
    "\n",
    "> Given the macroscopic properties of the ejecta — specifically **density** $ \\rho \\, [\\mathrm{g/cm^3}] $ and **temperature** $ T \\, [\\mathrm{K}] $ — how do we determine the number of particles capable of absorbing at the specific wavelength?\n",
    "\n",
    "---\n",
    "\n",
    "$\\blacktriangleright$ Sketch out the sequence of physical considerations or filtering steps that connect the bulk ejecta properties to the population responsible for line absorption.\n",
    "\n",
    "- What do you start from?\n",
    "- What determines whether a given atom contributes to the absorption?\n",
    "- What intermediate quantities would you need to evaluate?\n",
    "\n",
    "Make a plan: Keep the reasoning general — no need to name equations or specific physical processes yet.\n",
    "\n",
    "We will walk you through the steps — for now, just think about the system.\n",
    "\n",
    "---\n",
    "\n",
    "<details>\n",
    "<summary><strong>**HINT 1**</strong></summary>\n",
    "\n",
    "We are talking about the **number density** for number densities — not mass density.\n",
    "</details>\n",
    "\n",
    "<details>\n",
    "<summary><strong>**HINT 2**</strong></summary>\n",
    "\n",
    "What are the units of $n$ (number density) and $\\rho$ (mass density)?  \n",
    "How do they relate to each other?\n",
    "</details>\n",
    "\n",
    "<details>\n",
    "<summary><strong>**HINT 3**</strong></summary>\n",
    "\n",
    "Assume a **pure silicon atmosphere**.  \n",
    "How do you convert from a mass density to a number density using atomic mass?\n",
    "</details>\n",
    "\n",
    "<details>\n",
    "<summary><strong>**HINT 4**</strong></summary>\n",
    "\n",
    "You now have a number density of **silicon** — all ions, all levels.  \n",
    "Think back to the **Si II doublet**. Is this total number the same as the number of absorbers?\n",
    "</details>\n",
    "\n",
    "<details>\n",
    "<summary><strong>**HINT 5**</strong></summary>\n",
    "\n",
    "The number of absorbers is the number of atoms that are in the **correct lower level** for the line transition.  \n",
    "What are the conceptual steps you need to get from total silicon to that specific population?\n",
    "</details>"
   ]
  },
  {
   "cell_type": "markdown",
   "id": "de198abd",
   "metadata": {},
   "source": [
    "**$\\blacktriangleright$ Do This** - Erase the contents of this cell and replace it with your answer to the above question!  (double-click on this text to edit this cell, and hit shift+enter to save the text)"
   ]
  },
  {
   "cell_type": "markdown",
   "id": "95546691",
   "metadata": {
    "tags": [
     "solution"
    ]
   },
   "source": [
    "**Instructor Solution**\n",
    "\n",
    "The sequence of steps to connect bulk ejecta properties to the absorbing population:\n",
    "\n",
    "**Starting Point:** Bulk ejecta properties\n",
    "- Mass density ρ [g/cm³] \n",
    "- Temperature T [K]\n",
    "- Composition (element abundances)\n",
    "\n",
    "**Step 1: Convert mass density to number density**\n",
    "- Use atomic masses to convert from mass density to total number density of each element\n",
    "- For silicon: n_Si,total = (ρ × X_Si) / m_Si\n",
    "- This gives the total number density of silicon atoms (all ionization stages, all energy levels)\n",
    "\n",
    "**Step 2: Determine ionization state distribution**\n",
    "- Use the Saha equation to find what fraction of silicon atoms are in each ionization stage (Si I, Si II, Si III, etc.)\n",
    "- This depends on temperature, electron density, and ionization energies\n",
    "- For the Si II doublet, we specifically need the number density of Si II (singly ionized silicon)\n",
    "\n",
    "**Step 3: Determine energy level populations within Si II**\n",
    "- Use the Boltzmann distribution to find how Si II atoms are distributed among their energy levels\n",
    "- This depends on temperature and the energy level structure of Si II\n",
    "- For absorption, we need the population of the **lower level** of the specific transition\n",
    "\n",
    "**Step 4: Identify the specific transition**\n",
    "- The Si II doublet involves specific energy level transitions\n",
    "- Extract the lower level population n_l for the relevant transition from the Boltzmann distribution\n",
    "\n",
    "**Final Result:** Number density of absorbers = n_l\n",
    "- This is the number density of Si II atoms in the correct lower energy level to absorb photons at the Si II doublet wavelengths\n",
    "\n",
    "**Key Physical Filtering Steps:**\n",
    "1. Element selection (Si vs other elements)\n",
    "2. Ionization state selection (Si II vs Si I, Si III, etc.)\n",
    "3. Energy level selection (correct lower level vs other levels in Si II)\n",
    "\n",
    "Each step progressively filters down from the total mass density to the specific population that can absorb at the target wavelength.\n"
   ]
  },
  {
   "cell_type": "markdown",
   "id": "ca7b45ca",
   "metadata": {},
   "source": [
    "# From Mass Density to a plasma made of pure Silicon.\n",
    "\n",
    "Assume:\n",
    "- **Total mass density**:  \n",
    "  $\\rho = 10^{-13} \\, \\text{g/cm}^3$\n",
    "\n",
    "<div style=\"background-color: #ffebee; border-left: 4px solid #f44336; padding: 10px; margin: 10px 0;\">\n",
    "<strong>**WARNING**:</strong> In Astronomy, the term abundance has various different definitions. In the context of TARDIS, we <strong>always</strong> think of mass fractions when we mention abundance (not number density fractions or logarithmic values scaled to solar number density).\n",
    "</div>\n",
    "\n",
    "$\\blacktriangleright$ Your task is to compute the **number densities** $n_{\\text{Si}}$ and $n_{\\text{S}}$ in units of 1/cm³.\n",
    "\n",
    "---\n",
    "### **$\\blacktriangleright$ TASK**\n",
    "Start by outlining the steps:\n",
    "- What do you need to extract from the atomic data?\n",
    "- What physical constants or conversions are needed?\n",
    "- What is the relationship between mass density and number density?"
   ]
  },
  {
   "cell_type": "markdown",
   "id": "5e6ff82f",
   "metadata": {},
   "source": [
    "**$\\blacktriangleright$ Do This** - Erase the contents of this cell and replace it with your answer to the above question!  (double-click on this text to edit this cell, and hit shift+enter to save the text)"
   ]
  },
  {
   "cell_type": "markdown",
   "id": "2e68da4e",
   "metadata": {
    "tags": [
     "solution"
    ]
   },
   "source": [
    "**Instructor solution**\n",
    "\n",
    "To compute number densities from mass density, we need to follow these key steps:\n",
    "\n",
    "**What to extract from atomic data:**\n",
    "- Atomic mass of silicon (Z=14) from `atom_data.atom_data.loc[14, \"mass\"]`\n",
    "- Units information (the mass values are in grams)\n",
    "\n",
    "**Physical constants/conversions needed:**\n",
    "- Avogadro's number (or atomic mass unit conversion)\n",
    "- Proper unit handling with `astropy.units`\n",
    "\n",
    "**Relationship between mass density and number density:**\n",
    "\n",
    "For a pure silicon plasma:\n",
    "$$n_{\\text{Si}} = \\frac{\\rho_{\\text{total}}}{m_{\\text{Si,atom}}}$$\n",
    "\n",
    "Where:\n",
    "- $\\rho_{\\text{total}}$ = total mass density [g/cm$^3$]\n",
    "- $m_{\\text{Si,atom}}$ = mass of one silicon atom [g]\n",
    "- $n_{\\text{Si}}$ = number density of silicon atoms [cm$^{-3}$]\n",
    "\n",
    "**Step-by-step process:**\n",
    "1. Extract silicon atomic mass from TARDIS atomic data\n",
    "2. Attach proper units (grams) to the mass value\n",
    "3. Convert to atomic mass units if needed for clarity\n",
    "4. Use the mass density ($\\rho = 10^{-13}$ g/cm$^3$) \n",
    "5. Calculate: number density = mass density / atomic mass\n",
    "6. Ensure final result has units of cm$^{-3}$\n",
    "\n",
    "This gives the **total** number density of silicon atoms (all ionization stages and energy levels combined).\n"
   ]
  },
  {
   "cell_type": "markdown",
   "id": "fe94311e",
   "metadata": {},
   "source": [
    "### Accessing Atomic Masses with AtomData\n",
    "\n",
    "Use the `AtomData` class from `tardis.atomic` to load the atomic data file.\n",
    "\n",
    "Once loaded, atomic data (including atomic masses) are stored in a `pandas.DataFrame` called:\n"
   ]
  },
  {
   "cell_type": "code",
   "execution_count": null,
   "id": "4c93227d",
   "metadata": {},
   "outputs": [
    {
     "data": {
      "application/vnd.microsoft.datawrangler.viewer.v0+json": {
       "columns": [
        {
         "name": "atomic_number",
         "rawType": "int64",
         "type": "integer"
        },
        {
         "name": "symbol",
         "rawType": "object",
         "type": "string"
        },
        {
         "name": "name",
         "rawType": "object",
         "type": "string"
        },
        {
         "name": "mass",
         "rawType": "float64",
         "type": "float"
        }
       ],
       "ref": "a770369e-cb36-4982-ad97-348f205c5695",
       "rows": [
        [
         "1",
         "H",
         "Hydrogen",
         "1.673781718894975e-24"
        ],
        [
         "2",
         "He",
         "Helium",
         "6.646476406272443e-24"
        ],
        [
         "3",
         "Li",
         "Lithium",
         "1.1569804932067498e-23"
        ],
        [
         "4",
         "Be",
         "Beryllium",
         "1.4965080800728435e-23"
        ],
        [
         "5",
         "B",
         "Boron",
         "1.79562376222335e-23"
        ],
        [
         "6",
         "C",
         "Carbon",
         "1.99440687645626e-23"
        ],
        [
         "7",
         "N",
         "Nitrogen",
         "2.3258927888303456e-23"
        ],
        [
         "8",
         "O",
         "Oxygen",
         "2.65676264126474e-23"
        ],
        [
         "9",
         "F",
         "Fluorine",
         "3.154758788901101e-23"
        ],
        [
         "10",
         "Ne",
         "Neon",
         "3.35091772641037e-23"
        ],
        [
         "11",
         "Na",
         "Sodium",
         "3.817540667425015e-23"
        ],
        [
         "12",
         "Mg",
         "Magnesium",
         "4.03602287443655e-23"
        ],
        [
         "13",
         "Al",
         "Aluminium",
         "4.4803894827709955e-23"
        ],
        [
         "14",
         "Si",
         "Silicon",
         "4.6636235596285e-23"
        ],
        [
         "15",
         "P",
         "Phosphorus",
         "5.143313732746973e-23"
        ],
        [
         "16",
         "S",
         "Sulfur",
         "5.32493318491675e-23"
        ],
        [
         "17",
         "Cl",
         "Chlorine",
         "5.886859555783149e-23"
        ],
        [
         "18",
         "Ar",
         "Argon",
         "6.6335208816108e-23"
        ],
        [
         "19",
         "K",
         "Potassium",
         "6.49242488949343e-23"
        ],
        [
         "20",
         "Ca",
         "Calcium",
         "6.6551078875838e-23"
        ],
        [
         "21",
         "Sc",
         "Scandium",
         "7.465103496289528e-23"
        ],
        [
         "22",
         "Ti",
         "Titanium",
         "7.9485016531507e-23"
        ],
        [
         "23",
         "V",
         "Vanadium",
         "8.45903434441215e-23"
        ],
        [
         "24",
         "Cr",
         "Chromium",
         "8.63415477902081e-23"
        ],
        [
         "25",
         "Mn",
         "Manganese",
         "9.122676030561052e-23"
        ],
        [
         "26",
         "Fe",
         "Iron",
         "9.2732796043245e-23"
        ],
        [
         "27",
         "Co",
         "Cobalt",
         "9.786086237584368e-23"
        ],
        [
         "28",
         "Ni",
         "Nickel",
         "9.74626751058214e-23"
        ],
        [
         "29",
         "Cu",
         "Copper",
         "1.05520606273866e-22"
        ],
        [
         "30",
         "Zn",
         "Zinc",
         "1.0856603465498e-22"
        ]
       ],
       "shape": {
        "columns": 3,
        "rows": 30
       }
      },
      "text/html": [
       "<div>\n",
       "<style scoped>\n",
       "    .dataframe tbody tr th:only-of-type {\n",
       "        vertical-align: middle;\n",
       "    }\n",
       "\n",
       "    .dataframe tbody tr th {\n",
       "        vertical-align: top;\n",
       "    }\n",
       "\n",
       "    .dataframe thead th {\n",
       "        text-align: right;\n",
       "    }\n",
       "</style>\n",
       "<table border=\"1\" class=\"dataframe\">\n",
       "  <thead>\n",
       "    <tr style=\"text-align: right;\">\n",
       "      <th></th>\n",
       "      <th>symbol</th>\n",
       "      <th>name</th>\n",
       "      <th>mass</th>\n",
       "    </tr>\n",
       "    <tr>\n",
       "      <th>atomic_number</th>\n",
       "      <th></th>\n",
       "      <th></th>\n",
       "      <th></th>\n",
       "    </tr>\n",
       "  </thead>\n",
       "  <tbody>\n",
       "    <tr>\n",
       "      <th>1</th>\n",
       "      <td>H</td>\n",
       "      <td>Hydrogen</td>\n",
       "      <td>1.673782e-24</td>\n",
       "    </tr>\n",
       "    <tr>\n",
       "      <th>2</th>\n",
       "      <td>He</td>\n",
       "      <td>Helium</td>\n",
       "      <td>6.646476e-24</td>\n",
       "    </tr>\n",
       "    <tr>\n",
       "      <th>3</th>\n",
       "      <td>Li</td>\n",
       "      <td>Lithium</td>\n",
       "      <td>1.156980e-23</td>\n",
       "    </tr>\n",
       "    <tr>\n",
       "      <th>4</th>\n",
       "      <td>Be</td>\n",
       "      <td>Beryllium</td>\n",
       "      <td>1.496508e-23</td>\n",
       "    </tr>\n",
       "    <tr>\n",
       "      <th>5</th>\n",
       "      <td>B</td>\n",
       "      <td>Boron</td>\n",
       "      <td>1.795624e-23</td>\n",
       "    </tr>\n",
       "    <tr>\n",
       "      <th>6</th>\n",
       "      <td>C</td>\n",
       "      <td>Carbon</td>\n",
       "      <td>1.994407e-23</td>\n",
       "    </tr>\n",
       "    <tr>\n",
       "      <th>7</th>\n",
       "      <td>N</td>\n",
       "      <td>Nitrogen</td>\n",
       "      <td>2.325893e-23</td>\n",
       "    </tr>\n",
       "    <tr>\n",
       "      <th>8</th>\n",
       "      <td>O</td>\n",
       "      <td>Oxygen</td>\n",
       "      <td>2.656763e-23</td>\n",
       "    </tr>\n",
       "    <tr>\n",
       "      <th>9</th>\n",
       "      <td>F</td>\n",
       "      <td>Fluorine</td>\n",
       "      <td>3.154759e-23</td>\n",
       "    </tr>\n",
       "    <tr>\n",
       "      <th>10</th>\n",
       "      <td>Ne</td>\n",
       "      <td>Neon</td>\n",
       "      <td>3.350918e-23</td>\n",
       "    </tr>\n",
       "    <tr>\n",
       "      <th>11</th>\n",
       "      <td>Na</td>\n",
       "      <td>Sodium</td>\n",
       "      <td>3.817541e-23</td>\n",
       "    </tr>\n",
       "    <tr>\n",
       "      <th>12</th>\n",
       "      <td>Mg</td>\n",
       "      <td>Magnesium</td>\n",
       "      <td>4.036023e-23</td>\n",
       "    </tr>\n",
       "    <tr>\n",
       "      <th>13</th>\n",
       "      <td>Al</td>\n",
       "      <td>Aluminium</td>\n",
       "      <td>4.480389e-23</td>\n",
       "    </tr>\n",
       "    <tr>\n",
       "      <th>14</th>\n",
       "      <td>Si</td>\n",
       "      <td>Silicon</td>\n",
       "      <td>4.663624e-23</td>\n",
       "    </tr>\n",
       "    <tr>\n",
       "      <th>15</th>\n",
       "      <td>P</td>\n",
       "      <td>Phosphorus</td>\n",
       "      <td>5.143314e-23</td>\n",
       "    </tr>\n",
       "    <tr>\n",
       "      <th>16</th>\n",
       "      <td>S</td>\n",
       "      <td>Sulfur</td>\n",
       "      <td>5.324933e-23</td>\n",
       "    </tr>\n",
       "    <tr>\n",
       "      <th>17</th>\n",
       "      <td>Cl</td>\n",
       "      <td>Chlorine</td>\n",
       "      <td>5.886860e-23</td>\n",
       "    </tr>\n",
       "    <tr>\n",
       "      <th>18</th>\n",
       "      <td>Ar</td>\n",
       "      <td>Argon</td>\n",
       "      <td>6.633521e-23</td>\n",
       "    </tr>\n",
       "    <tr>\n",
       "      <th>19</th>\n",
       "      <td>K</td>\n",
       "      <td>Potassium</td>\n",
       "      <td>6.492425e-23</td>\n",
       "    </tr>\n",
       "    <tr>\n",
       "      <th>20</th>\n",
       "      <td>Ca</td>\n",
       "      <td>Calcium</td>\n",
       "      <td>6.655108e-23</td>\n",
       "    </tr>\n",
       "    <tr>\n",
       "      <th>21</th>\n",
       "      <td>Sc</td>\n",
       "      <td>Scandium</td>\n",
       "      <td>7.465103e-23</td>\n",
       "    </tr>\n",
       "    <tr>\n",
       "      <th>22</th>\n",
       "      <td>Ti</td>\n",
       "      <td>Titanium</td>\n",
       "      <td>7.948502e-23</td>\n",
       "    </tr>\n",
       "    <tr>\n",
       "      <th>23</th>\n",
       "      <td>V</td>\n",
       "      <td>Vanadium</td>\n",
       "      <td>8.459034e-23</td>\n",
       "    </tr>\n",
       "    <tr>\n",
       "      <th>24</th>\n",
       "      <td>Cr</td>\n",
       "      <td>Chromium</td>\n",
       "      <td>8.634155e-23</td>\n",
       "    </tr>\n",
       "    <tr>\n",
       "      <th>25</th>\n",
       "      <td>Mn</td>\n",
       "      <td>Manganese</td>\n",
       "      <td>9.122676e-23</td>\n",
       "    </tr>\n",
       "    <tr>\n",
       "      <th>26</th>\n",
       "      <td>Fe</td>\n",
       "      <td>Iron</td>\n",
       "      <td>9.273280e-23</td>\n",
       "    </tr>\n",
       "    <tr>\n",
       "      <th>27</th>\n",
       "      <td>Co</td>\n",
       "      <td>Cobalt</td>\n",
       "      <td>9.786086e-23</td>\n",
       "    </tr>\n",
       "    <tr>\n",
       "      <th>28</th>\n",
       "      <td>Ni</td>\n",
       "      <td>Nickel</td>\n",
       "      <td>9.746268e-23</td>\n",
       "    </tr>\n",
       "    <tr>\n",
       "      <th>29</th>\n",
       "      <td>Cu</td>\n",
       "      <td>Copper</td>\n",
       "      <td>1.055206e-22</td>\n",
       "    </tr>\n",
       "    <tr>\n",
       "      <th>30</th>\n",
       "      <td>Zn</td>\n",
       "      <td>Zinc</td>\n",
       "      <td>1.085660e-22</td>\n",
       "    </tr>\n",
       "  </tbody>\n",
       "</table>\n",
       "</div>"
      ],
      "text/plain": [
       "              symbol        name          mass\n",
       "atomic_number                                 \n",
       "1                  H    Hydrogen  1.673782e-24\n",
       "2                 He      Helium  6.646476e-24\n",
       "3                 Li     Lithium  1.156980e-23\n",
       "4                 Be   Beryllium  1.496508e-23\n",
       "5                  B       Boron  1.795624e-23\n",
       "6                  C      Carbon  1.994407e-23\n",
       "7                  N    Nitrogen  2.325893e-23\n",
       "8                  O      Oxygen  2.656763e-23\n",
       "9                  F    Fluorine  3.154759e-23\n",
       "10                Ne        Neon  3.350918e-23\n",
       "11                Na      Sodium  3.817541e-23\n",
       "12                Mg   Magnesium  4.036023e-23\n",
       "13                Al   Aluminium  4.480389e-23\n",
       "14                Si     Silicon  4.663624e-23\n",
       "15                 P  Phosphorus  5.143314e-23\n",
       "16                 S      Sulfur  5.324933e-23\n",
       "17                Cl    Chlorine  5.886860e-23\n",
       "18                Ar       Argon  6.633521e-23\n",
       "19                 K   Potassium  6.492425e-23\n",
       "20                Ca     Calcium  6.655108e-23\n",
       "21                Sc    Scandium  7.465103e-23\n",
       "22                Ti    Titanium  7.948502e-23\n",
       "23                 V    Vanadium  8.459034e-23\n",
       "24                Cr    Chromium  8.634155e-23\n",
       "25                Mn   Manganese  9.122676e-23\n",
       "26                Fe        Iron  9.273280e-23\n",
       "27                Co      Cobalt  9.786086e-23\n",
       "28                Ni      Nickel  9.746268e-23\n",
       "29                Cu      Copper  1.055206e-22\n",
       "30                Zn        Zinc  1.085660e-22"
      ]
     },
     "execution_count": 1,
     "metadata": {},
     "output_type": "execute_result"
    }
   ],
   "source": [
    "import numpy as np\n",
    "\n",
    "from tardis.io.atom_data import AtomData\n",
    "\n",
    "# Download the Kurucz CD23 atom data for H and He - unless you have that\n",
    "# download_atom_data('kurucz_cd23_chianti_H_He_latest')\n",
    "atom_data = AtomData.from_hdf(\"kurucz_cd23_chianti_H_He_latest.h5\")\n",
    "atom_data.atom_data\n",
    "\n",
    "from astropy import units as u\n",
    "from astropy import constants as const\n",
    "\n",
    "# OR\n",
    "from tardis import constants as const\n",
    "# tardis constants always point to a specific version of astropy constants (ask us about it)\n"
   ]
  },
  {
   "cell_type": "markdown",
   "id": "67f80d5f",
   "metadata": {},
   "source": [
    "### Accessing Atomic Data with `.loc` and `.iloc`\n",
    "\n",
    "The atomic data in TARDIS is stored in a pandas DataFrame called `atom_data.atom_data`, indexed by atomic number (`Z`). Each row corresponds to an element and includes physical properties. Key columns include:\n",
    "\n",
    "- `\"symbol\"` — chemical symbol (e.g., \"C\", \"Si\")\n",
    "- `\"mass\"` — atomic mass  \n",
    "- `\"atomic_number\"` — charge number (equal to `Z`)\n",
    "\n",
    "---\n",
    "\n",
    "### Example\n",
    "\n",
    "Start by looking up the atomic mass of **carbon** (`Z = 6`):\n",
    "\n",
    "- To access the entire row:  \n",
    "  `atom_data.atom_data.loc[6]`\n",
    "\n",
    "- To access just the atomic mass:  \n",
    "  `atom_data.atom_data.loc[6, \"mass\"]`\n",
    "\n",
    "This returns a numerical value for the mass in **some mass unit** — it's up to you to determine which one and assign the appropriate unit using `astropy.units`.\n",
    "\n",
    "Once the unit is attached, you can convert the result into other mass units using the `.to(...)` method.\n",
    "\n",
    "---\n",
    "\n",
    "### $\\blacktriangleright$ Your Task\n",
    "\n",
    "- Extract the atomic mass of **silicon** from the atomic data table.\n",
    "- Figure out what units the number is in, and assign the correct `astropy.units`.\n",
    "- Convert this mass into **at least two other mass units** of your choice (e.g., kilograms, solar masses, atomic mass units).\n",
    "- Ensure that the result is available in **atomic mass units** for use in subsequent number density calculations and is available in `MASS_SILICON_ATOM`."
   ]
  },
  {
   "cell_type": "code",
   "execution_count": null,
   "id": "c82a5842",
   "metadata": {},
   "outputs": [],
   "source": [
    "# your code here\n",
    "MASS_SILICON_ATOM = ?"
   ]
  },
  {
   "cell_type": "code",
   "execution_count": null,
   "id": "f5426907",
   "metadata": {
    "tags": [
     "solution"
    ]
   },
   "outputs": [],
   "source": [
    "# Solution\n",
    "MASS_SILICON_ATOM = (atom_data.atom_data.loc[14].mass * u.g).to(u.u)"
   ]
  },
  {
   "cell_type": "markdown",
   "id": "644e4136",
   "metadata": {},
   "source": [
    "### Units and Constants with Astropy\n",
    "\n",
    "To ensure correct and consistent physical calculations, use `astropy.units` and `astropy.constants` to explicitly attach units and avoid dimensional mistakes.\n",
    "\n",
    "---\n",
    "\n",
    "#### Units\n",
    "\n",
    "Assign units using `astropy.units` (`u`):\n",
    "\n",
    "- `28.0855 * u.u` $\\rightarrow$ atomic mass in unified atomic mass units  \n",
    "- `1e-13 * u.g / u.cm**3` $\\rightarrow$ density in grams per cubic centimeter  \n",
    "- Use `.to(...)` to convert:  \n",
    "  `(28.0855 * u.u).to(u.g)` converts to grams\n",
    "\n",
    "Always attach units *before* doing calculations to ensure unit consistency.\n",
    "\n",
    "---\n",
    "\n",
    "#### Constants\n",
    "\n",
    "Astropy provides physical constants with units attached via `astropy.constants` (`const`):\n",
    "\n",
    "- `const.u` — atomic mass unit  \n",
    "- `const.k_B` — Boltzmann constant  \n",
    "- `const.h` — Planck constant  \n",
    "- `const.m_e` — electron mass  \n",
    "\n",
    "When defining physical constants or fixed inputs, use **ALL_CAPS** variable names (e.g., `DENSITY`) to indicate that they are not meant to be reassigned. This is a standard Python style convention for constants.\n",
    "\n",
    "---\n",
    "\n",
    "### $\\blacktriangleright$ Task\n",
    "\n",
    "Define the following constants using `astropy.units` and `astropy.constants`:\n",
    "\n",
    "- `DENSITY` — total ejecta mass density = $10^{-13} \\, \\text{g/cm}^3$\n",
    "\n",
    "Confirm:\n",
    "- That `DENSITY` has units of mass per volume,"
   ]
  },
  {
   "cell_type": "code",
   "execution_count": 6,
   "id": "4ebefda4",
   "metadata": {},
   "outputs": [],
   "source": [
    "# your code here\n",
    "DENSITY = ? # 1e-13 g/cm^3"
   ]
  },
  {
   "cell_type": "code",
   "execution_count": null,
   "id": "af6b18c6",
   "metadata": {
    "tags": [
     "solution"
    ]
   },
   "outputs": [],
   "source": [
    "#Instructor solution\n",
    "DENSITY = 1e-13 * u.g / u.cm**3"
   ]
  },
  {
   "cell_type": "markdown",
   "id": "47cbd067",
   "metadata": {},
   "source": [
    "### Calculating Number Densities\n",
    "\n",
    "You now have all the ingredients needed to compute the number densities of silicon and sulfur in the ejecta.\n",
    "\n",
    "- You've explored the atomic data and extracted atomic masses for Si ($Z=14$) and S ($Z=16$).\n",
    "- You've assigned proper physical units using `astropy.units`.\n",
    "- You've defined the total mass density and mass fractions using clear, constant-style variables.\n",
    "\n",
    "---\n",
    "\n",
    "### **$\\blacktriangleright$ TASK**\n",
    "\n",
    "Using these components, calculate the number densities of silicon and sulfur (in units of $cm^{-3}$) in the ejecta zone.\n",
    "\n",
    "Put everything together:\n",
    "- Use the atomic mass data from the TARDIS atomic database,\n",
    "- Use the constants you defined (`DENSITY`, `MASS_FRACTION_SILICON`, etc.),\n",
    "- Make sure all units are consistent, and that your final values carry units of **$cm^{-3}$**.\n",
    "\n",
    "Write your final result and check if it's within a physically reasonable range."
   ]
  },
  {
   "cell_type": "code",
   "execution_count": 7,
   "id": "661e92a5",
   "metadata": {},
   "outputs": [],
   "source": [
    "# your code here\n",
    "NUMBER_DENSITY_SILICON = ?  # make sure to conver to cm^-3"
   ]
  },
  {
   "cell_type": "code",
   "execution_count": 94,
   "id": "eb0f1d81",
   "metadata": {
    "tags": [
     "solution"
    ]
   },
   "outputs": [
    {
     "data": {
      "text/latex": [
       "$2.1442554 \\times 10^{9} \\; \\mathrm{\\frac{1}{cm^{3}}}$"
      ],
      "text/plain": [
       "<Quantity 2.1442554e+09 1 / cm3>"
      ]
     },
     "metadata": {},
     "output_type": "display_data"
    }
   ],
   "source": [
    "#  Instructor solution\n",
    "NUMBER_DENSITY_SILICON = (DENSITY / (\n",
    "    MASS_SILICON_ATOM\n",
    ")).to(u.cm**-3)\n",
    "display(NUMBER_DENSITY_SILICON)"
   ]
  },
  {
   "cell_type": "markdown",
   "id": "d9523089",
   "metadata": {},
   "source": [
    "### Preparing to Determine the Ionization State\n",
    "\n",
    "To calculate the ionization state of silicon in the ejecta, you'll use the **Saha equation**. This equation depends on the thermodynamic conditions and atomic properties of the system.\n",
    "\n",
    "Before evaluating the Saha equation, define the relevant constants and inputs with units using `astropy.units` and `astropy.constants`.\n",
    "\n",
    "---\n",
    "\n",
    "### **$\\blacktriangleright$ TASK**: Define the Following Quantities\n",
    "\n",
    "- `TEMPERATURE` — ejecta temperature (10000 K)  \n",
    "- `ELECTRON_DENSITY` — estimate of the free electron density (in 1/cm$^3$). You may start with an assumption or leave it as a symbol if solving iteratively. Think of charge conservation. How many electrons would be around if all of it was not ionized? What would be the number density if all silicon atoms where once ionized?"
   ]
  },
  {
   "cell_type": "code",
   "execution_count": 8,
   "id": "3c3d97c7",
   "metadata": {},
   "outputs": [
    {
     "data": {
      "text/latex": [
       "$2.1442554 \\times 10^{9} \\; \\mathrm{\\frac{1}{cm^{3}}}$"
      ],
      "text/plain": [
       "<Quantity 2.1442554e+09 1 / cm3>"
      ]
     },
     "metadata": {},
     "output_type": "display_data"
    }
   ],
   "source": [
    "# your code here\n",
    "TEMPERATURE = ? # 10000 K\n",
    "ELECTRON_DENSITY = ? # set to the number density of silicon"
   ]
  },
  {
   "cell_type": "code",
   "execution_count": 95,
   "id": "e3b7e51e",
   "metadata": {
    "tags": [
     "solution"
    ]
   },
   "outputs": [],
   "source": [
    "# Instructor Solution\n",
    "TEMPERATURE = 1e4 * u.K\n",
    "ELECTRON_DENSITY = NUMBER_DENSITY_SILICON"
   ]
  },
  {
   "cell_type": "markdown",
   "id": "a6386da3",
   "metadata": {},
   "source": [
    "# The Saha Equation (for Ionization Balance)\n",
    "\n",
    "The Saha equation describes the ionization balance between two adjacent ionization stages:\n",
    "\n",
    "$$\n",
    "\\frac{n_{i+1} \\cdot n_e}{n_i} = \\frac{Z_{i+1}}{Z_i} \\left( \\frac{2 \\pi m_e k_B T}{h^2} \\right)^{3/2} \\exp\\left(-\\frac{\\chi_i}{k_B T}\\right)\n",
    "$$\n",
    "\n",
    "Where:\n",
    "- $n_i$, $n_{i+1}$: number densities of ionization stages $i$ and $i+1$\n",
    "- $n_e$: electron density\n",
    "- $Z_i$, $Z_{i+1}$: partition functions for ionization stages $i$ and $i+1$\n",
    "- $\\chi_i$: ionization energy (from stage $i$ to $i+1$)\n",
    "- $T$: temperature\n",
    "- $k_B$, $h$, $m_e$: Boltzmann constant, Planck constant, electron mass\n",
    "\n",
    "---\n",
    "\n",
    "### Key Components:\n",
    "\n",
    "**Partition Function:**\n",
    "$$Z(T) = \\sum_j g_j \\exp\\left(-\\frac{E_j}{k_B T}\\right)$$\n",
    "\n",
    "**Free Electron Term:**\n",
    "$$g_e(T) = \\left( \\frac{2 \\pi m_e k_B T}{h^2} \\right)^{3/2}$$\n",
    "\n",
    "**Saha Factor:**\n",
    "$$\\phi_i(T) = \\frac{Z_{i+1}}{Z_i} \\cdot g_e(T) \\cdot \\exp\\left(-\\frac{\\chi_i}{k_B T}\\right)$$\n",
    "\n",
    "So the Saha equation becomes:\n",
    "$$\\frac{n_{i+1}}{n_i} = \\frac{\\phi_i(T)}{n_e}$$\n",
    "\n",
    "---\n",
    "\n",
    "### Calculation Sequence\n",
    "\n",
    "This exercise will guide you through the following sequence to determine which silicon atoms can absorb at the Si II doublet wavelengths (6348.864 $\\text{\\AA}$ and 6373.133 $\\text{\\AA}$ vacuum wavelengths):\n",
    "\n",
    "1. **Partition Functions** - Calculate $Z_i$ for each ionization stage using atomic energy level data\n",
    "2. **Free Electron Degeneracy** - Compute $g_e(T)$ from thermodynamic properties  \n",
    "3. **Saha Factors** - Combine these components to evaluate $\\phi_i(T)$ for ionization transitions\n",
    "4. **Ionization Balance** - Apply the complete Saha equation to determine relative populations of Si I, Si II, Si III, etc."
   ]
  },
  {
   "cell_type": "markdown",
   "id": "f06aaa80",
   "metadata": {},
   "source": [
    "## Extracting Level Data and Computing Partition Functions\n",
    "\n",
    "The atomic level data (`atom_data.levels`) is stored in a `pandas.DataFrame` with a **MultiIndex**:\n",
    "\n",
    "- `Z`: atomic number  \n",
    "- `ion_stage`: ionization stage (0 = neutral, 1 = singly ionized, etc.)\n",
    "\n",
    "Each row corresponds to a specific energy level of a specific ion. Important columns include:\n",
    "\n",
    "- `\"energy\"` — level energy \n",
    "- `\"g\"` — statistical weight (degeneracy)\n",
    "\n",
    "---\n",
    "\n",
    "<div style=\"background-color: #ffdddd; border-left: 4px solid #f44336; padding: 10px;\">\n",
    "<strong>**IMPORTANT:**</strong> In TARDIS, we refer to <strong>Si I</strong> as <code>ion_stage = 0</code>, <strong>Si II</strong> as <code>ion_stage = 1</code>, and so on.  \n",
    "This is different from the spectroscopic notation you might be used to — make sure you're referencing the correct ionization stage!\n",
    "</div>\n",
    "\n",
    "---\n",
    "\n",
    "To compute the partition function for a given ion, we use:\n",
    "\n",
    "$$\n",
    "Z(T) = \\sum_j g_j \\cdot \\exp\\left(-\\frac{E_j}{k_B T}\\right)\n",
    "$$\n",
    "\n",
    "---\n",
    "\n",
    "### $\\blacktriangleright$ Your Task\n",
    "\n",
    "1. Use `.loc[(Z, ion_stage)]` to extract the `\"energy\"` and `\"g\"` values for a specific ion.\n",
    "   - For example: `.loc[(14, 1)]` for Si II\n",
    "   - Use `.loc[Z]` to explore all ions for a given atomic number.\n",
    "   - Check how many levels are available — you may want to verify this before summing.\n",
    "   \n",
    "1.1 If you are using a loop, you can check the number of levels with:  \n",
    "`len(levels.loc[14, 0])`\n",
    "\n",
    "2. Attach the correct unit to the `\"energy\"` column (check what energy this is erg, J, eV? then multiply by the appropriate astropy units).\n",
    "3. Use your predefined value `TEMPERATURE` and the Boltzmann constant `const.k_B` for the exponential.\n",
    "4. For each level:\n",
    "   - Compute the Boltzmann factor:\n",
    "     $$\n",
    "     \\exp\\left(-\\frac{E_j}{k_B T}\\right)\n",
    "     $$\n",
    "   - Multiply by the statistical weight \\( g_j \\)\n",
    "5. Sum over all levels for that ion to compute the partition function \\( Z(T) \\).\n",
    "6. Do this for **Si I** (`ion_stage = 0`) and **Si II** (`ion_stage = 1`).\n",
    "\n",
    "---\n",
    "\n",
    "<details>\n",
    "<summary><strong>**SOLUTION HINT**</strong></summary>\n",
    "\n",
    "The value of the partition function for **Si I** (neutral silicon) at 10000 K should be approximately **11**.\n",
    "\n",
    "</details>"
   ]
  },
  {
   "cell_type": "code",
   "execution_count": 22,
   "id": "24814777",
   "metadata": {},
   "outputs": [],
   "source": [
    "# your code here\n",
    "Z_0 = None\n",
    "Z_1 = None\n",
    "Z_2 = None"
   ]
  },
  {
   "cell_type": "code",
   "execution_count": 96,
   "id": "c13cb851",
   "metadata": {
    "tags": [
     "solution"
    ]
   },
   "outputs": [
    {
     "data": {
      "text/latex": [
       "$11.397238 \\; \\mathrm{}$"
      ],
      "text/plain": [
       "<Quantity 11.39723838>"
      ]
     },
     "metadata": {},
     "output_type": "display_data"
    }
   ],
   "source": [
    "# Solution for Z_0, Z_1, Z_2\n",
    "partition_function_silicon_i = np.sum(\n",
    "    atom_data.levels.loc[(14, 0)].g.values * \n",
    "    np.exp(\n",
    "        -(\n",
    "            atom_data.levels.loc[(14, 0)].energy.values\n",
    "            * u.erg\n",
    "            / (const.k_B * TEMPERATURE)\n",
    "        ).to(1)\n",
    "    )\n",
    ")\n",
    "partition_function_silicon_ii = np.sum(\n",
    "    atom_data.levels.loc[(14, 1)].g.values * \n",
    "    np.exp(\n",
    "        -(\n",
    "            atom_data.levels.loc[(14, 1)].energy.values\n",
    "            * u.erg\n",
    "            / (const.k_B * TEMPERATURE)\n",
    "        ).to(1)\n",
    "    )\n",
    ")\n",
    "\n",
    "display(partition_function_silicon_i)"
   ]
  },
  {
   "cell_type": "markdown",
   "id": "f44d7f34",
   "metadata": {},
   "source": [
    "### Generalizing: Define a Partition Function Calculator (OPTIONAL)\n",
    "\n",
    "You’ve now seen how to compute the partition function \\( Z(T) \\) for a specific ion using energy levels and statistical weights from the atomic data.\n",
    "\n",
    "To make this reusable and general, implement a function:"
   ]
  },
  {
   "cell_type": "code",
   "execution_count": 75,
   "id": "931b5b56",
   "metadata": {},
   "outputs": [],
   "source": [
    "# your code here\n",
    "def calculate_partition_functions(atom_data, Z, temperature):\n",
    "    \"\"\"\n",
    "    Calculate partition functions for all ion stages of a given atomic number.\n",
    "\n",
    "    Parameters\n",
    "    ----------\n",
    "    atom_data : AtomData\n",
    "        The TARDIS AtomData object containing level information.\n",
    "    Z : int\n",
    "        Atomic number of the element (e.g., 14 for silicon).\n",
    "    temperature : Quantity\n",
    "        Temperature with units (e.g., 10000 * u.K)\n",
    "\n",
    "    Returns\n",
    "    -------\n",
    "    partition_functions : dict\n",
    "        Dictionary mapping ion_stage to partition function value.\n",
    "    \"\"\"\n",
    "    partition_functions = []\n",
    "    for ionization_stage in np.arange(Z + 1):\n",
    "        pass\n",
    "    # Your implementation here\n"
   ]
  },
  {
   "cell_type": "code",
   "execution_count": 124,
   "id": "1190a819",
   "metadata": {
    "tags": [
     "solution"
    ]
   },
   "outputs": [
    {
     "data": {
      "text/plain": [
       "array([11.39723838,  5.8668044 ,  1.00442155,  2.00020171,  1.        ,\n",
       "        4.96156769,  5.        ,  4.        ,  1.        ,  2.        ,\n",
       "        1.        ,  2.        ,  1.        ,  2.        ,  1.        ])"
      ]
     },
     "metadata": {},
     "output_type": "display_data"
    }
   ],
   "source": [
    "# Solution cell\n",
    "def calculate_partition_functions(atom_data, Z, temperature):\n",
    "    \"\"\"\n",
    "    Calculate partition functions for all ion stages of a given atomic number.\n",
    "\n",
    "    Parameters\n",
    "    ----------\n",
    "    atom_data : AtomData\n",
    "        The TARDIS AtomData object containing level information.\n",
    "    Z : int\n",
    "        Atomic number of the element (e.g., 14 for silicon).\n",
    "    temperature : Quantity\n",
    "        Temperature with units (e.g., 10000 * u.K)\n",
    "\n",
    "    Returns\n",
    "    -------\n",
    "    partition_functions : dict\n",
    "        Dictionary mapping ion_stage to partition function value.\n",
    "    \"\"\"\n",
    "    # Your implementation here\n",
    "\n",
    "    partition_functions = []\n",
    "    for ionization_stage in np.arange(Z + 1):\n",
    "        selected_ion_species_levels = atom_data.levels.loc[(Z, ionization_stage)]\n",
    "        partition_function = np.sum(\n",
    "            selected_ion_species_levels.g\n",
    "            * np.exp(\n",
    "                -(\n",
    "                    selected_ion_species_levels.energy.values\n",
    "                    * u.erg\n",
    "                    / (const.k_B * temperature)\n",
    "                ).to(1)\n",
    "            )\n",
    "        )\n",
    "        partition_functions.append(partition_function)\n",
    "    return np.array(partition_functions)\n",
    "\n",
    "\n",
    "partition_function_silicon = calculate_partition_functions(\n",
    "    atom_data=atom_data, Z=14, temperature=TEMPERATURE\n",
    ")\n",
    "display(partition_function_silicon)"
   ]
  },
  {
   "cell_type": "markdown",
   "id": "13b340b7",
   "metadata": {},
   "source": [
    "## The Free Electron Term in the Saha Equation\n",
    "\n",
    "The Saha equation for ionization balance contains a term that accounts for the entropy of the free electron:\n",
    "\n",
    "$$\n",
    "\\frac{n_{i+1}}{n_i} = \\frac{Z_{i+1}}{Z_i} \\cdot g_e(T) \\cdot \\frac{1}{n_e} \\cdot \\exp\\left(-\\frac{\\chi_i}{k_B T}\\right)\n",
    "$$\n",
    "\n",
    "The term $g_e(T)$ plays a role similar to a partition function for a free electron in a thermal gas. It represents the **number of available quantum states** for an electron at a given temperature. In quantum statistical mechanics, this arises from the number of accessible momentum states in phase space — which is fundamentally limited by the **de Broglie wavelength**.\n",
    "\n",
    "---\n",
    "\n",
    "### Connection to de Broglie Wavelength (Background)\n",
    "\n",
    "The de Broglie wavelength of a particle with thermal energy is:\n",
    "\n",
    "$$\n",
    "\\lambda_{\\text{de Broglie}} = \\frac{h}{\\sqrt{2\\pi m_e k_B T}}\n",
    "$$\n",
    "\n",
    "This wavelength sets the **volume of phase space per available quantum state**. So, $g_e(T)$ is inversely related to the cube of this wavelength:\n",
    "\n",
    "$$\n",
    "g_e(T) = \\left( \\frac{2 \\pi m_e k_B T}{h^2} \\right)^{3/2}\n",
    "$$\n",
    "\n",
    "This tells us:  \n",
    "> **The higher the temperature, the more distinguishable states a free electron can occupy.**\n",
    "\n",
    "---\n",
    "\n",
    "### $\\blacktriangleright$ Your Task\n",
    "\n",
    "Write a function or expression to compute $g_e(T)$. Use:\n",
    "\n",
    "- `astropy.constants.m_e` — electron mass  \n",
    "- `astropy.constants.k_B` — Boltzmann constant  \n",
    "- `astropy.constants.h` — Planck constant  \n",
    "- A temperature you defined earlier\n",
    "\n",
    "Make sure:\n",
    "- All constants carry units from `astropy.units`\n",
    "- Your result has **correct physical units** (what are they?, Hint - you can look at the Saha equation at the top and do a unit analysis)\n",
    "\n",
    "<details>\n",
    "<summary><strong>SOLUTION HINT</strong></summary>\n",
    "\n",
    "If you compute $g_e(T)$ at 10000 K, you should get a value around $ 1 \\times 10^{21} \\, \\text{cm}^{-3} $.\n",
    "\n",
    "</details>"
   ]
  },
  {
   "cell_type": "code",
   "execution_count": 11,
   "id": "39868239",
   "metadata": {},
   "outputs": [],
   "source": [
    "# your code here\n",
    "def calculate_g_e(temperature):\n",
    "    pass"
   ]
  },
  {
   "cell_type": "code",
   "execution_count": 98,
   "id": "4b6b00eb",
   "metadata": {
    "tags": [
     "solution"
    ]
   },
   "outputs": [],
   "source": [
    "# solution cell\n",
    "def calculate_g_e(temperature):\n",
    "    \"\"\"\n",
    "    Calculate the electron partition function at a given temperature.\n",
    "\n",
    "    Parameters\n",
    "    ----------\n",
    "    temperature : Quantity\n",
    "        Temperature with units (e.g., 10000 * u.K)\n",
    "\n",
    "    Returns\n",
    "    -------\n",
    "    g_e : float\n",
    "        Electron partition function value.\n",
    "    \"\"\"\n",
    "    # Your implementation here\n",
    "\n",
    "    g_e = (2 * np.pi * const.m_e * const.k_B * temperature / const.h**2) ** (3 / 2)\n",
    "\n",
    "    return g_e.to(1 / u.cm**3)\n",
    "\n",
    "\n",
    "g_e = calculate_g_e(TEMPERATURE)"
   ]
  },
  {
   "cell_type": "markdown",
   "id": "f84d6d00",
   "metadata": {},
   "source": [
    "### Computing the Saha Ionization Factor $\\phi_i(T)$\n",
    "\n",
    "You've already computed the **free electron term** \\( g_e(T) \\), which encodes the thermodynamic contribution of the electron gas. Now you will compute the full **Saha ionization factor**, often referred to as \\( \\phi_i(T) \\) or simply **`phi`**.\n",
    "\n",
    "This quantity encapsulates the temperature dependence of the ionization balance **between adjacent ionization stages**, combining entropy, partition functions, and ionization potential:\n",
    "\n",
    "$$\n",
    "\\phi_i(T) = \\frac{Z_{i+1}}{Z_i} \\cdot g_e(T) \\cdot \\exp\\left(-\\frac{\\chi_i}{k_B T}\\right)\n",
    "$$\n",
    "\n",
    "---\n",
    "\n",
    "### Why Use $\\phi_i(T)$?\n",
    "\n",
    "This form is convenient because:\n",
    "- It separates physics from plasma state: once computed, it's just scaled by $1/n_e$.\n",
    "- It allows the Saha equation to be written compactly as:\n",
    "\n",
    "$$\n",
    "\\frac{n_{i+1}}{n_i} = \\frac{\\phi_i(T)}{n_e}\n",
    "$$\n",
    "\n",
    "---\n",
    "\n",
    "**WARNING**: $\\phi_i(T)$ is **not** the fraction of atoms in a given ionization stage — it governs the **ratio** of populations between adjacent ionization states.\n",
    "\n",
    "---\n",
    "\n",
    "### Getting Ionization Energies\n",
    "\n",
    "Ionization energies $\\chi_i$ can be extracted from the atomic database:\n",
    "\n",
    "```python\n",
    "atom_data.ionization_data.loc[(Z, destination_ion_stage)]\n",
    "```\n",
    "\n",
    "**Attach units to the energies**\n",
    "\n",
    "### $\\blacktriangleright$ Your Task\n",
    "\n",
    "Compute the ionization factors $ \\phi_i(T) $ for **silicon** at a given temperature (e.g., `10000 * u.K`):\n",
    "\n",
    "- $ \\phi_{1 \\rightarrow 2}(T) $: from Si II (`Z=14`, `ion_stage=1`) to Si III (`ion_stage=2`)\n",
    "- $ \\phi_{2 \\rightarrow 3}(T) $: from Si III (`ion_stage=2`) to Si IV (`ion_stage=3`)\n",
    "\n",
    "Use your previously calculated:\n",
    "- Partition functions $ Z_i $, $ Z_{i+1} $\n",
    "- Free electron term $ g_e(T) $\n",
    "- Ionization energies $ \\chi_i $"
   ]
  },
  {
   "cell_type": "markdown",
   "id": "e6f0986f",
   "metadata": {},
   "source": [
    "You've already computed the **free electron term** $ g_e(T) $, which encodes the thermodynamic contribution of the electron gas. Now you will compute the full **Saha ionization factor**, often referred to as $ \\phi_i(T) $, **phi factor**, or sometimes just **`phi`**. This quantity is also sometimes called the **ionization ratio factor**, **Saha factor**, or **LTE ionization factor**, depending on the context or codebase.\n",
    "\n",
    "This factor encapsulates the atomic and thermodynamic properties that determine the ratio of number densities between two adjacent ionization stages:\n",
    "\n",
    "$$\n",
    "\\phi_i(T) = \\frac{Z_{i+1}}{Z_i} \\cdot g_e(T) \\cdot \\exp\\left(-\\frac{\\chi_i}{k_B T}\\right)\n",
    "$$\n",
    "\n",
    "You will use this factor in the next step to compute the actual ionization balance, via the Saha equation:\n",
    "\n",
    "$$\n",
    "\\frac{n_{i+1}}{n_i} = \\frac{\\phi_i(T)}{n_e}\n",
    "$$\n",
    "\n",
    "**WARNING**: $ \\phi_i(T) $ determines the **ratio** between ionization stages $ i+1 $ and $ i $. It is **not** the fraction of the total population in a given ionization state.\n",
    "\n",
    "<details>\n",
    "<summary><strong>**SOLUTION HINT**</strong></summary>\n",
    "\n",
    "If you've implemented the Saha ionization factor \\( \\phi_{0 \\rightarrow 1} \\) correctly for silicon at 10000 K, you should get a value on the order of:\n",
    "\n",
    "**$\\phi_{0 \\rightarrow 1} \\sim 10^{16} \\, \\text{cm}^{-3}$**\n",
    "\n",
    "This gives you a rough scale for checking your implementation of the Saha equation and unit consistency.\n",
    "\n",
    "</details>"
   ]
  },
  {
   "cell_type": "code",
   "execution_count": null,
   "id": "33e51eee",
   "metadata": {},
   "outputs": [],
   "source": [
    "# your code here\n",
    "\n",
    "phi_0_1 = None\n",
    "phi_1_2 = None\n",
    "phi_2_3 = None\n"
   ]
  },
  {
   "cell_type": "code",
   "execution_count": 99,
   "id": "f7d753df",
   "metadata": {
    "tags": [
     "solution"
    ]
   },
   "outputs": [
    {
     "data": {
      "text/latex": [
       "$9.687107 \\times 10^{16} \\; \\mathrm{\\frac{1}{cm^{3}}}$"
      ],
      "text/plain": [
       "<Quantity 9.68710696e+16 1 / cm3>"
      ]
     },
     "metadata": {},
     "output_type": "display_data"
    }
   ],
   "source": [
    "# Solution cell\n",
    "# Instructor solution\n",
    "phi_0_1 = (\n",
    "    partition_function_silicon_ii\n",
    "    / partition_function_silicon_i\n",
    "    * np.exp(-(atom_data.ionization_data.loc[14, 1] * u.erg) / (const.k_B * TEMPERATURE))\n",
    "    * g_e\n",
    ")\n",
    "\n",
    "phi_1_2 = (\n",
    "    calculate_partition_functions(atom_data, 14, TEMPERATURE)[2]\n",
    "    / partition_function_silicon_ii\n",
    "    * np.exp(-(atom_data.ionization_data.loc[14, 2] * u.erg) / (const.k_B * TEMPERATURE))\n",
    "    * g_e\n",
    ")\n",
    "\n",
    "phi_2_3 = (\n",
    "    calculate_partition_functions(atom_data, 14, TEMPERATURE)[3]\n",
    "    / calculate_partition_functions(atom_data, 14, TEMPERATURE)[2]\n",
    "    * np.exp(-(atom_data.ionization_data.loc[14, 3] * u.erg) / (const.k_B * TEMPERATURE))\n",
    "    * g_e\n",
    ")\n",
    "display(phi_0_1)"
   ]
  },
  {
   "cell_type": "markdown",
   "id": "96c2aa99",
   "metadata": {},
   "source": [
    "**You can also make a function if that is easier**"
   ]
  },
  {
   "cell_type": "code",
   "execution_count": 15,
   "id": "d17b89cf",
   "metadata": {},
   "outputs": [],
   "source": [
    "# your code here\n",
    "def calculate_saha_factor(\n",
    "    temperature, partition_function_element, ionization_energies_element\n",
    "):\n",
    "    pass"
   ]
  },
  {
   "cell_type": "code",
   "execution_count": 125,
   "id": "4210451d",
   "metadata": {},
   "outputs": [
    {
     "data": {
      "text/latex": [
       "$[9.687107 \\times 10^{16},~2.3901771 \\times 10^{12},~63428.798,~0.021444817,~1.0754709 \\times 10^{-62},~8.6334061 \\times 10^{-83},~1.399964 \\times 10^{-103},~5.5319064 \\times 10^{-133},~5.4607693 \\times 10^{-156},~6.2400154 \\times 10^{-182},~5.0084077 \\times 10^{-219},~1.9599463 \\times 10^{-243},~0,~0] \\; \\mathrm{\\frac{1}{cm^{3}}}$"
      ],
      "text/plain": [
       "<Quantity [9.68710696e+016, 2.39017708e+012, 6.34287985e+004,\n",
       "           2.14448169e-002, 1.07547091e-062, 8.63340607e-083,\n",
       "           1.39996398e-103, 5.53190635e-133, 5.46076929e-156,\n",
       "           6.24001537e-182, 5.00840770e-219, 1.95994630e-243,\n",
       "           0.00000000e+000, 0.00000000e+000] 1 / cm3>"
      ]
     },
     "metadata": {},
     "output_type": "display_data"
    }
   ],
   "source": [
    "# Instructor solution\n",
    "def calculate_saha_factor(\n",
    "    temperature, partition_function_element, ionization_energies_element\n",
    "):\n",
    "    partition_function_element = np.array(partition_function_element)\n",
    "    phi_factor = (\n",
    "        calculate_g_e(temperature)\n",
    "        * partition_function_element[1:]\n",
    "        / partition_function_element[:-1]\n",
    "    )\n",
    "    return phi_factor * np.exp(-ionization_energies_element / (const.k_B * temperature))\n",
    "\n",
    "\n",
    "saha_factor_silicon = calculate_saha_factor(\n",
    "    TEMPERATURE,\n",
    "    partition_function_silicon,\n",
    "    atom_data.ionization_data.loc[14].values * u.erg,\n",
    ")\n",
    "display(saha_factor_silicon)"
   ]
  },
  {
   "cell_type": "markdown",
   "id": "3c84de99",
   "metadata": {},
   "source": [
    "### From Ion Ratios to Absolute Number Densities\n",
    "\n",
    "You've computed the Saha ionization factors — also called $ \\phi $, $ \\Phi $, or Saha ratios — which express the **ratios** between neighboring ionization stages.\n",
    "\n",
    "The Saha equation gives:\n",
    "\n",
    "$$\n",
    "\\frac{N_{i, j+1} \\cdot N_e}{N_{i, j}} = \\Phi_{i, (j+1)/j}\n",
    "$$\n",
    "\n",
    "which allows you to compute the relative population of each ionization stage **step by step**.\n",
    "\n",
    "---\n",
    "\n",
    "### Building Up the Ion Populations\n",
    "\n",
    "Start by setting the number density of the base ionization state (e.g., Si II) to:\n",
    "\n",
    "$$\n",
    "N_1 = 1 \\, \\text{cm}^{-3}\n",
    "$$\n",
    "\n",
    "Then compute:\n",
    "\n",
    "$$\n",
    "N_2 = \\frac{\\Phi_{1 \\rightarrow 2}}{N_e} \\cdot N_1\n",
    "$$\n",
    "\n",
    "$$\n",
    "N_3 = \\frac{\\Phi_{2 \\rightarrow 3}}{N_e} \\cdot N_2\n",
    "$$\n",
    "\n",
    "$$\n",
    "N_4 = \\frac{\\Phi_{3 \\rightarrow 4}}{N_e} \\cdot N_3\n",
    "$$\n",
    "\n",
    "Each step builds on the previous one using the corresponding Saha factor and the electron density.\n",
    "\n",
    "---\n",
    "\n",
    "### Normalizing to the Total Silicon Number Density\n",
    "\n",
    "Once all relevant $N_j$ values have been computed, calculate the total:\n",
    "\n",
    "$$\n",
    "N_{\\text{sum}} = N_1 + N_2 + N_3 + N_4\n",
    "$$\n",
    "\n",
    "Then rescale all ion stages so that their total matches the actual silicon number density:\n",
    "\n",
    "$$\n",
    "N_j^{(\\text{final})} = \\frac{N_j}{N_{\\text{sum}}} \\cdot N_{\\text{Si}}\n",
    "$$\n",
    "\n",
    "---\n",
    "\n",
    "> **IMPORTANT**: If you truncate the series too early (e.g., stopping at $N_2$), your total will be inaccurate.  \n",
    "> For typical ejecta conditions, including up to $N_4$ (i.e., Si V) is often sufficient to capture the relevant ionization balance."
   ]
  },
  {
   "cell_type": "code",
   "execution_count": 60,
   "id": "68e5856f",
   "metadata": {},
   "outputs": [],
   "source": [
    "## your solution goes here"
   ]
  },
  {
   "cell_type": "code",
   "execution_count": 126,
   "id": "d2ea7c77",
   "metadata": {
    "tags": [
     "solution"
    ]
   },
   "outputs": [
    {
     "data": {
      "text/latex": [
       "$[1921855.3,~2.1422702 \\times 10^{9},~63370.074,~6.3376762 \\times 10^{-7},~3.1787195 \\times 10^{-78},~1.2798464 \\times 10^{-169},~8.3559956 \\times 10^{-282},~0,~0,~0,~0,~0,~0,~0] \\; \\mathrm{\\frac{1}{cm^{3}}}$"
      ],
      "text/plain": [
       "<Quantity [1.92185526e+006, 2.14227017e+009, 6.33700739e+004,\n",
       "           6.33767616e-007, 3.17871946e-078, 1.27984642e-169,\n",
       "           8.35599564e-282, 0.00000000e+000, 0.00000000e+000,\n",
       "           0.00000000e+000, 0.00000000e+000, 0.00000000e+000,\n",
       "           0.00000000e+000, 0.00000000e+000] 1 / cm3>"
      ]
     },
     "metadata": {},
     "output_type": "display_data"
    }
   ],
   "source": [
    "# Instructor solution\n",
    "N = [1.0]  # Start with Si I\n",
    "for phi in saha_factor_silicon[1:]:\n",
    "    N.append(phi/ ELECTRON_DENSITY.to(u.cm**-3) * N[-1])\n",
    "\n",
    "N_total = sum(N)\n",
    "ion_fractions = [n / N_total for n in N]\n",
    "number_densities = u.Quantity([frac * NUMBER_DENSITY_SILICON for frac in ion_fractions], u.cm**-3)\n",
    "display(number_densities)"
   ]
  },
  {
   "cell_type": "markdown",
   "id": "3c25c332",
   "metadata": {},
   "source": [
    "## Identifying the Si II Doublet Transitions\n",
    "\n",
    "The `atom_data.lines` table contains all bound-bound transitions included in the TARDIS atomic dataset. Each row corresponds to a spectral line and is indexed by:\n",
    "\n",
    "- `Z`: atomic number  \n",
    "- `ion_stage`: ionization stage  \n",
    "- `line_id`: unique identifier for the line within that ion\n",
    "\n",
    "The table includes:\n",
    "\n",
    "- `\"wavelength\"` — line wavelength in $\\text{\\AA}$ngstr$\\text{\\o}$m  \n",
    "- `\"f_ul\"` — oscillator strength  \n",
    "- `\"level_number_lower\"` and `\"level_number_upper\"` — indices for lower and upper energy levels\n",
    "\n",
    "---\n",
    "\n",
    "### $\\blacktriangleright$ Your Task\n",
    "\n",
    "1. Inspect the `atom_data.lines` table and search for lines with:\n",
    "   - `Z == 14` (silicon),\n",
    "   - `ion_stage == 1` (Si II),\n",
    "   - `wavelength` near 6348.864 $\\text{\\AA}$ or 6373.133 $\\text{\\AA}$ (vacuum wavelengths).\n",
    "\n",
    "2. Use `.loc[(Z, ion_stage)]` to extract all Si II lines, then filter for the target wavelengths.\n",
    "\n",
    "3. Inspect which lower and upper level numbers are involved in these transitions.\n",
    "\n",
    "> This information will be crucial to extract the correct level population later on.\n",
    "\n",
    "---\n",
    "**Hint**: Use a filter like:\n",
    "\n",
    "```python\n",
    "si_ii_6349 = si_ii_lines[np.abs(si_ii_lines[\"wavelength\"] - 6348.864) < 1]\n",
    "si_ii_6373 = si_ii_lines[np.abs(si_ii_lines[\"wavelength\"] - 6373.133) < 1]\n",
    "```"
   ]
  },
  {
   "cell_type": "code",
   "execution_count": null,
   "id": "ebd0ff3c",
   "metadata": {},
   "outputs": [],
   "source": [
    "# your answer goes here\n",
    "# the next part is needed to make sure you have access to the\n",
    "#  level_number_upper and level_number_lower\n",
    "si_ii_lines = atom_data.lines.loc[(14, 1)].reset_index()\n",
    "\n",
    "si_ii_6349 = ?\n",
    "si_ii_6373 = ?\n"
   ]
  },
  {
   "cell_type": "code",
   "execution_count": 127,
   "id": "3abc8c53",
   "metadata": {
    "tags": [
     "solution"
    ]
   },
   "outputs": [
    {
     "name": "stderr",
     "output_type": "stream",
     "text": [
      "/var/folders/fg/nwmb1mss6kq3hwhj10dt0qh00000gn/T/ipykernel_82719/4111404159.py:2: PerformanceWarning: indexing past lexsort depth may impact performance.\n",
      "  si_ii_lines = atom_data.lines.loc[(14, 1)].reset_index()\n"
     ]
    },
    {
     "name": "stderr",
     "output_type": "stream",
     "text": [
      "/var/folders/fg/nwmb1mss6kq3hwhj10dt0qh00000gn/T/ipykernel_82719/4111404159.py:2: PerformanceWarning: indexing past lexsort depth may impact performance.\n",
      "  si_ii_lines = atom_data.lines.loc[(14, 1)].reset_index()\n"
     ]
    },
    {
     "data": {
      "application/vnd.microsoft.datawrangler.viewer.v0+json": {
       "columns": [
        {
         "name": "index",
         "rawType": "object",
         "type": "string"
        },
        {
         "name": "183",
         "rawType": "float64",
         "type": "float"
        }
       ],
       "ref": "56627dbd-e3ef-4455-ab09-b30f0d83645f",
       "rows": [
        [
         "level_number_lower",
         "7.0"
        ],
        [
         "level_number_upper",
         "13.0"
        ],
        [
         "line_id",
         "65498.0"
        ],
        [
         "wavelength",
         "6373.132546927808"
        ],
        [
         "f_ul",
         "0.4965580242104669"
        ],
        [
         "f_lu",
         "0.4965580242104669"
        ],
        [
         "nu",
         "470400475421644.9"
        ],
        [
         "B_lu",
         "53132284904.12548"
        ],
        [
         "B_ul",
         "53132284904.12548"
        ],
        [
         "A_ul",
         "81546688.5625381"
        ],
        [
         "wavelength_cm",
         "6.373132546927809e-05"
        ]
       ],
       "shape": {
        "columns": 1,
        "rows": 11
       }
      },
      "text/plain": [
       "level_number_lower    7.000000e+00\n",
       "level_number_upper    1.300000e+01\n",
       "line_id               6.549800e+04\n",
       "wavelength            6.373133e+03\n",
       "f_ul                  4.965580e-01\n",
       "f_lu                  4.965580e-01\n",
       "nu                    4.704005e+14\n",
       "B_lu                  5.313228e+10\n",
       "B_ul                  5.313228e+10\n",
       "A_ul                  8.154669e+07\n",
       "wavelength_cm         6.373133e-05\n",
       "Name: 183, dtype: float64"
      ]
     },
     "execution_count": 127,
     "metadata": {},
     "output_type": "execute_result"
    }
   ],
   "source": [
    "# Instructor solution\n",
    "si_ii_lines = atom_data.lines.loc[(14, 1)].reset_index()\n",
    "si_ii_6349 = si_ii_lines[np.abs(si_ii_lines[\"wavelength\"] - 6348.864) < 1].iloc[0]\n",
    "si_ii_6373 = si_ii_lines[np.abs(si_ii_lines[\"wavelength\"] - 6373.133) < 1].iloc[0]\n",
    "si_ii_6373"
   ]
  },
  {
   "cell_type": "markdown",
   "id": "de2e5003",
   "metadata": {},
   "source": [
    "# Calculating Level Populations for Si II\n",
    "\n",
    "Now that you’ve determined the absolute number density of Si II (i.e., ionization stage 1 of Z=14), we turn to the next layer of detail: **how are those atoms distributed among their allowed energy levels?**\n",
    "\n",
    "This is described by the **Boltzmann distribution**, which gives the population of a level $j$ relative to the ground state:\n",
    "\n",
    "$$\n",
    "\\frac{n_j}{n_0} = \\frac{g_j}{g_0} \\cdot \\exp\\left(-\\frac{E_j - E_0}{k_B T}\\right)\n",
    "$$\n",
    "\n",
    "To get **absolute** level populations:\n",
    "\n",
    "$$\n",
    "n_j = n_{\\text{Si II}} \\cdot \\frac{g_j \\cdot \\exp(-E_j / k_B T)}{Z_{\\text{Si II}}(T)}\n",
    "$$\n",
    "\n",
    "where:\n",
    "\n",
    "- $n_{\\text{Si II}}$ is the number density of Si II  \n",
    "- $g_j$ is the statistical weight of level $j$  \n",
    "- $E_j$ is the energy of level $j$ (relative to ground, in erg or eV)  \n",
    "- $Z_{\\text{Si II}}$ is the partition function you already computed for this ion  \n",
    "- $T$ is the temperature of the ejecta  \n",
    "\n",
    "---\n",
    "\n",
    "### $\\blacktriangleright$ Your Task\n",
    "\n",
    "1. Use `atom_data.levels.loc[(14, 1)]` to access the levels of Si II.\n",
    "2. Extract the `\"g\"` and `\"energy\"` columns for each level.\n",
    "3. Convert the energies from eV to erg using `u.eV.to(u.erg)`.\n",
    "4. Compute the Boltzmann factor for each level.\n",
    "5. Multiply by $n_{\\text{Si II}} / Z$ to get the population of each level.\n",
    "\n",
    "This will give you a full level population distribution for Si II under LTE."
   ]
  },
  {
   "cell_type": "code",
   "execution_count": null,
   "id": "9487850b",
   "metadata": {},
   "outputs": [],
   "source": [
    "#You code goes here \n",
    "si_ii_levels = atom_data.levels.loc[(14, 1)]\n"
   ]
  },
  {
   "cell_type": "code",
   "execution_count": 128,
   "id": "e290c7c4",
   "metadata": {
    "tags": [
     "solution"
    ]
   },
   "outputs": [
    {
     "data": {
      "text/latex": [
       "$[7.3030223 \\times 10^{8},~1.4014718 \\times 10^{9},~1540332.1,~3033020.5,~4436224.9,~511106.92,~764916.23,~58977.541,~11831.665,~16108.063,~16108.063,~24104.733,~24104.733,~6169.331,~6169.3292,~12232.64,~4237.5354,~4237.5354,~8231.9351,~8231.9351,~551.68098,~711.34107,~1066.812,~988.17505,~741.11743,~236.44711,~471.22951,~233.0579,~347.48572,~82.434541,~138.52424,~207.78157,~227.62841,~170.71713,~55.277555,~110.32249,~214.37455,~267.96819,~105.83048,~157.34704,~207.17351,~254.73342,~36.418557,~71.631564,~104.40436,~31.30127,~57.358417,~86.036758,~25.848199,~51.484183,~102.41607,~76.810397,~98.555768,~123.19471,~18.837852,~36.892165,~17.860581,~33.971283,~50.956485,~63.301435,~47.475256,~61.684166,~77.105208,~29.974262,~14.849483,~29.524117,~12.532473,~37.380588,~24.890292,~12.423678,~48.898926,~24.287483,~36.431224,~36.05733,~23.872094,~11.8961,~46.346672,~34.759704,~45.511946,~56.889933,~11.25344,~22.478401,~18.90664,~9.3955561,~28.082151,~37.442868,~36.952373,~46.190466,~18.135566,~9.0422478,~24.11451,~32.15268,~31.83726,~39.796575,~21.548861,~28.731815,~28.515399,~35.644249,~12.964086,~4.2548546] \\; \\mathrm{\\frac{1}{cm^{3}}}$"
      ],
      "text/plain": [
       "<Quantity [7.30302232e+08, 1.40147175e+09, 1.54033215e+06, 3.03302048e+06,\n",
       "           4.43622490e+06, 5.11106918e+05, 7.64916231e+05, 5.89775407e+04,\n",
       "           1.18316653e+04, 1.61080628e+04, 1.61080628e+04, 2.41047325e+04,\n",
       "           2.41047325e+04, 6.16933099e+03, 6.16932922e+03, 1.22326401e+04,\n",
       "           4.23753545e+03, 4.23753545e+03, 8.23193515e+03, 8.23193515e+03,\n",
       "           5.51680983e+02, 7.11341071e+02, 1.06681205e+03, 9.88175054e+02,\n",
       "           7.41117428e+02, 2.36447105e+02, 4.71229513e+02, 2.33057902e+02,\n",
       "           3.47485717e+02, 8.24345405e+01, 1.38524237e+02, 2.07781572e+02,\n",
       "           2.27628414e+02, 1.70717135e+02, 5.52775551e+01, 1.10322485e+02,\n",
       "           2.14374552e+02, 2.67968190e+02, 1.05830485e+02, 1.57347039e+02,\n",
       "           2.07173509e+02, 2.54733417e+02, 3.64185571e+01, 7.16315645e+01,\n",
       "           1.04404359e+02, 3.13012704e+01, 5.73584165e+01, 8.60367582e+01,\n",
       "           2.58481986e+01, 5.14841828e+01, 1.02416073e+02, 7.68103970e+01,\n",
       "           9.85557680e+01, 1.23194710e+02, 1.88378517e+01, 3.68921651e+01,\n",
       "           1.78605805e+01, 3.39712831e+01, 5.09564848e+01, 6.33014349e+01,\n",
       "           4.74752565e+01, 6.16841664e+01, 7.71052081e+01, 2.99742619e+01,\n",
       "           1.48494825e+01, 2.95241171e+01, 1.25324733e+01, 3.73805884e+01,\n",
       "           2.48902924e+01, 1.24236778e+01, 4.88989260e+01, 2.42874827e+01,\n",
       "           3.64312240e+01, 3.60573303e+01, 2.38720941e+01, 1.18961002e+01,\n",
       "           4.63466716e+01, 3.47597036e+01, 4.55119463e+01, 5.68899329e+01,\n",
       "           1.12534398e+01, 2.24784011e+01, 1.89066401e+01, 9.39555605e+00,\n",
       "           2.80821511e+01, 3.74428682e+01, 3.69523729e+01, 4.61904661e+01,\n",
       "           1.81355660e+01, 9.04224783e+00, 2.41145101e+01, 3.21526802e+01,\n",
       "           3.18372603e+01, 3.97965754e+01, 2.15488609e+01, 2.87318146e+01,\n",
       "           2.85153990e+01, 3.56442488e+01, 1.29640856e+01, 4.25485457e+00] 1 / cm3>"
      ]
     },
     "metadata": {},
     "output_type": "display_data"
    }
   ],
   "source": [
    "# Instructor solution\n",
    "si_ii_levels = atom_data.levels.loc[(14, 1)]\n",
    "boltzmann_factors = si_ii_levels.g.values * np.exp(-(si_ii_levels.energy.values * u.erg) / (const.k_B * TEMPERATURE))\n",
    "level_populations = number_densities[1] * boltzmann_factors / partition_function_silicon_ii\n",
    "display(level_populations)"
   ]
  },
  {
   "cell_type": "markdown",
   "id": "f3895b43",
   "metadata": {},
   "source": [
    "### Calculating the Sobolev Optical Depth for a Transition in Si II\n",
    "\n",
    "Now that you have the level populations for Si II, you are ready to compute the **Sobolev optical depth** for a specific transition.\n",
    "\n",
    "The Sobolev optical depth is given by:\n",
    "\n",
    "$$\n",
    "\\tau_{\\rm Sob} = \\frac{\\sigma_{\\nu}\\, n_l\\, \\, c}{\\nu_{0}} \\left[\\mu^2 \\frac{dv}{dr} + (1 - \\mu^2) \\frac{v}{r}\\right]^{-1}\n",
    "$$\n",
    "\n",
    "However, for homologous expansion, this simplifies to:\n",
    "\n",
    "$$\n",
    "\\tau_{\\rm Sob} = \\sigma_{\\nu} \\, n_l \\, t_{\\exp}\\, \\lambda_{\\rm line}\n",
    "$$\n",
    "\n",
    "Where:\n",
    "\n",
    "- $n_l$ is the population of the **lower level** involved in the transition  \n",
    "- $f_{lu}$ is the oscillator strength of the transition  \n",
    "- $\\lambda_0$ is the rest-frame wavelength of the transition  \n",
    "- $t_{\\exp}$ is the **explosion time** — the time since the supernova explosion\n",
    "- $dv/dr$ is the **velocity gradient**, which in a homologous flow is $\\frac{v}{r}$ (and thus cancels for a given zone)\n",
    "\n",
    "---\n",
    "\n",
    "### The Role of Explosion Time $t_{\\exp}$\n",
    "\n",
    "The explosion time $t_{\\exp}$ appears in the Sobolev optical depth because it's directly related to the **velocity gradient** in the ejecta. In a homologously expanding supernova:\n",
    "\n",
    "- Velocity increases linearly with radius: $v = r / t_{\\exp}$\n",
    "- The velocity gradient is: $\\frac{dv}{dr} = \\frac{1}{t_{\\exp}}$\n",
    "\n",
    "This means that **later in the supernova's evolution** (larger $t_{\\exp}$), the velocity gradient becomes smaller, leading to:\n",
    "- **Higher optical depths** for the same physical conditions\n",
    "- **Stronger line absorption** at later times\n",
    "\n",
    "For Type Ia supernovae, typical explosion times range from a few days to several weeks after the explosion. We'll use $t_{\\exp} = 10$ days as a representative value for our calculation.\n",
    "\n",
    "---\n",
    "\n",
    "### $\\blacktriangleright$ Your Task\n",
    "\n",
    "1. **Define the explosion time**: Set `t_exp = 10 * u.day` (10 days after explosion, typical for Type Ia supernovae)\n",
    "2. Identify the relevant transition using `atom_data.lines`.\n",
    "   - Filter for `Z=14`, `ion_stage=1`, and the appropriate lower and upper levels for either the 6348.864 $\\text{\\AA}$ or 6373.133 $\\text{\\AA}$ line (vacuum wavelengths).\n",
    "3. Extract:\n",
    "   - The rest wavelength (`wavelength`) in Angstroms,\n",
    "   - The oscillator strength (`f_ul`),\n",
    "   - The lower level index (`level_lower_id`).\n",
    "4. Use the population $n_l$ of the lower level from your previous Boltzmann calculation.\n",
    "5. Compute the absorption cross-section:\n",
    "\n",
    "$$\n",
    "\\sigma = \\frac{\\pi e^2}{m_e c} \\cdot f_{lu}\n",
    "$$\n",
    "\n",
    "6. Compute the Sobolev optical depth using the formula above.\n",
    "\n",
    "> This gives the Sobolev optical depth of the transition — a measure of how strongly this line interacts with radiation in the ejecta.\n",
    "\n",
    "---\n",
    "\n",
    "You now have all physical ingredients necessary to compute the Sobolev optical depth for any LTE transition in your TARDIS atomic dataset."
   ]
  },
  {
   "cell_type": "code",
   "execution_count": 29,
   "id": "e459bba5",
   "metadata": {},
   "outputs": [],
   "source": [
    "## your answer goes here\n",
    "sigma_coefficient = ((np.pi * const.e.gauss**2) / (const.m_e.cgs * const.c.cgs)).value * u.cm**2"
   ]
  },
  {
   "cell_type": "code",
   "execution_count": 129,
   "id": "b1b7bebf",
   "metadata": {
    "tags": [
     "solution"
    ]
   },
   "outputs": [
    {
     "name": "stdout",
     "output_type": "stream",
     "text": [
      "Optical depth: 4.3e+04 s at 6373.13 Angstrom\n"
     ]
    }
   ],
   "source": [
    "# Instructor solution\n",
    "sigma_coefficient = ((np.pi * const.e.gauss**2) / (const.m_e.cgs * const.c.cgs)).value * u.cm**2\n",
    "line_6373 = si_ii_6373\n",
    "lower_level_pop = level_populations[int(line_6373.level_number_lower)]\n",
    "f_lu = line_6373.f_ul\n",
    "wavelength = line_6373.wavelength * u.AA\n",
    "sigma = sigma_coefficient * f_lu\n",
    "t_exp = 10 * u.day\n",
    "tau_sobolev = (sigma * lower_level_pop * t_exp * wavelength).cgs\n",
    "print(f\"Optical depth: {tau_sobolev:.2g} at {wavelength:.2f}\")"
   ]
  },
  {
   "cell_type": "markdown",
   "id": "2930ce62",
   "metadata": {},
   "source": [
    "## Summary: From Mass Density to Absorber Populations\n",
    "\n",
    "In this notebook, we traced the complete physical pipeline from macroscopic ejecta properties to microscopic absorber populations for the Si II $\\lambda\\lambda$ 6355 doublet---a hallmark spectral feature of Type Ia supernovae.\n",
    "\n",
    "### Implementation Highlights\n",
    "\n",
    "**Foundation: Atomic Data Structure**\n",
    "- Leveraged TARDIS atomic database containing energy levels, transitions, and atomic masses\n",
    "- Extracted Si II doublet transitions at 6348.864 $\\text{\\AA}$ and 6373.133 $\\text{\\AA}$ (vacuum wavelengths)\n",
    "- Connected spectroscopic notation (Si II) to database indices (Z=14, ion_stage=1)\n",
    "\n",
    "**Physical Pipeline: Density $\\to$ Absorbers**\n",
    "1. **Mass to Number Conversion**: $\\rho \\to n_{\\text{Si,total}}$ using atomic masses\n",
    "2. **Ionization Balance**: Applied Saha equation with partition functions and ionization energies\n",
    "3. **Level Populations**: Used Boltzmann distribution within Si II to find lower level populations\n",
    "4. **Optical Depth**: Computed Sobolev $\\tau_{\\text{Sob}}$ incorporating explosion time and velocity gradients\n",
    "\n",
    "**Key Physical Insights**\n",
    "- Total silicon density: $\\sim 2 \\times 10^{9}\\,{\\text cm}^{-3}$ from $\\rho = 10^{-13}\\, {\\text g\\, cm}^{-3}$\n",
    "- Ionization state: Si II dominates at T = 10,000 K due to ionization potential balance\n",
    "- Level populations: Ground state dominance with thermal tail from Boltzmann statistics\n",
    "- Optical depth: $\\tau_{\\text{Sob}} \\sim 10^{2}$ for a realistic ejecta\n",
    "\n",
    "### Scaling and Connections\n",
    "\n",
    "**Temperature Dependence**\n",
    "- Higher T $\\to$ increased ionization (more Si III, less Si II)\n",
    "- Higher T $\\to$ broader level population distribution\n",
    "- Saha factors scale exponentially: $\\exp(-\\chi_i/k_B T)$\n",
    "\n",
    "**Density Scaling**\n",
    "- Linear scaling: double density $\\to$ double absorber population\n",
    "- Electron density affects ionization balance through Saha equation\n",
    "- Optical depth scales linearly with absorber density\n",
    "\n",
    "**Time Evolution**\n",
    "- Later epochs (larger $t_{\\exp}$) $\\to$ higher optical depths\n",
    "- Velocity gradient decreases: $dv/dr = 1/t_{\\exp}$\n",
    "- Line strength increases with supernova age for same physical conditions\n",
    "\n",
    "### Forward Connections\n",
    "\n",
    "**Radiative Transfer Integration**\n",
    "- These absorber populations become input to Monte Carlo radiative transfer\n",
    "- Sobolev optical depths determine interaction probabilities\n",
    "- Level populations set emission/absorption coefficients\n",
    "\n",
    "**Spectral Synthesis**\n",
    "- Si II doublet strength directly proportional to computed absorber density\n",
    "- Line profile shapes depend on velocity structure and optical depth\n",
    "- Multiple transitions combine to create observed supernova spectrum\n",
    "\n",
    "**Parameter Space Exploration**\n",
    "- Framework enables systematic study of temperature/density effects\n",
    "- Connects observational line strengths to physical ejecta conditions\n",
    "- Foundation for inverse modeling: spectra $\\to$ physical properties\n",
    "\n",
    "This pipeline demonstrates how TARDIS bridges atomic physics and astrophysical observations, transforming bulk ejecta properties into detailed spectroscopic predictions through rigorous statistical mechanics."
   ]
  },
  {
   "cell_type": "code",
   "execution_count": null,
   "id": "8f561e24",
   "metadata": {
    "tags": [
     "solution"
    ]
   },
   "outputs": [
    {
     "name": "stdout",
     "output_type": "stream",
     "text": [
      "[NbConvertApp] Converting notebook 1_plasma_introduction_instructor.ipynb to notebook\n",
      "[NbConvertApp] Writing 42723 bytes to 1_plasma_introduction_student.ipynb\n",
      "Converted 1_plasma_introduction_instructor.ipynb to 1_plasma_introduction_student.ipynb\n"
     ]
    }
   ],
   "source": [
    "from IPython import get_ipython\n",
    "from pathlib import Path\n",
    "ip = get_ipython()\n",
    "path = None\n",
    "if '__vsc_ipynb_file__' in ip.user_ns:\n",
    "    path = ip.user_ns['__vsc_ipynb_file__']\n",
    "    \n",
    "nb_path = Path(path)\n",
    "# Get the current notebook name\n",
    "current_notebook = nb_path.name\n",
    "\n",
    "# Create the student version by replacing 'instructor' with 'student'\n",
    "output_notebook = current_notebook.replace('instructor', 'student')\n",
    "\n",
    "# Run the nbconvert command\n",
    "!jupyter nbconvert {current_notebook} --ClearOutputPreprocessor.enabled=True --TagRemovePreprocessor.enabled=True --TagRemovePreprocessor.remove_cell_tags=\"['solution']\" --to notebook --output {output_notebook}\n",
    "\n",
    "print(f\"Converted {current_notebook} to {output_notebook}\")"
   ]
  }
 ],
 "metadata": {
  "kernelspec": {
   "display_name": "tardis-sschool25",
   "language": "python",
   "name": "python3"
  },
  "language_info": {
   "codemirror_mode": {
    "name": "ipython",
    "version": 3
   },
   "file_extension": ".py",
   "mimetype": "text/x-python",
   "name": "python",
   "nbconvert_exporter": "python",
   "pygments_lexer": "ipython3",
   "version": "3.13.2"
  }
 },
 "nbformat": 4,
 "nbformat_minor": 5
}
