{
 "cells": [
  {
   "cell_type": "markdown",
   "id": "d0d44d7e",
   "metadata": {},
   "source": [
    "# Overview: Analyzing TARDIS spectra using built-in visualization tools\n",
    "\n",
    "How do we figure out which ion contributed to a specific spectral feature we are looking at in the spectrum? \n",
    "\n",
    "That is one of the most important questions we would like to answer from the observed spectra.\n",
    "\n",
    "In TARDIS we can do this by tracking the Monte Carlo packet properties, specifically the last interaction before the packet escapes from the outermost shell of the ejecta. \n",
    "\n",
    "This notebook introduces built-in TARDIS visualization tools and guides you through how to use them to interpret the outputs. \n",
    "These tools can help identify line profiles, line-forming regions, line ratios, and ionization states, which provide insights into whether your simulation is physically consistent and where potential adjustments are needed.\n"
   ]
  },
  {
   "cell_type": "markdown",
   "id": "349ae649",
   "metadata": {
    "editable": true,
    "slideshow": {
     "slide_type": ""
    },
    "tags": []
   },
   "source": [
    "# Run a TARDIS simulation\n",
    "\n",
    "$\\blacktriangleright$ Run the cell below to run a TARDIS simulation that has a uniform abundance. "
   ]
  },
  {
   "cell_type": "code",
   "execution_count": null,
   "id": "a7d1fe8f",
   "metadata": {
    "editable": true,
    "slideshow": {
     "slide_type": ""
    },
    "tags": []
   },
   "outputs": [
    {
     "data": {
      "application/vnd.jupyter.widget-view+json": {
       "model_id": "b92727b6721841d8a1b643827406ca38",
       "version_major": 2,
       "version_minor": 0
      },
      "text/plain": [
       "Iterations:          0/? [00:00<?, ?it/s]"
      ]
     },
     "metadata": {},
     "output_type": "display_data"
    },
    {
     "data": {
      "application/vnd.jupyter.widget-view+json": {
       "model_id": "984bd7d91aa344c8841d5ac34b6182a0",
       "version_major": 2,
       "version_minor": 0
      },
      "text/plain": [
       "Packets:             0/? [00:00<?, ?it/s]"
      ]
     },
     "metadata": {},
     "output_type": "display_data"
    },
    {
     "data": {
      "text/html": [
       "<script type=\"esms-options\">{\"shimMode\": true}</script><style>*[data-root-id],\n",
       "*[data-root-id] > * {\n",
       "  box-sizing: border-box;\n",
       "  font-family: var(--jp-ui-font-family);\n",
       "  font-size: var(--jp-ui-font-size1);\n",
       "  color: var(--vscode-editor-foreground, var(--jp-ui-font-color1));\n",
       "}\n",
       "\n",
       "/* Override VSCode background color */\n",
       ".cell-output-ipywidget-background:has(\n",
       "    > .cell-output-ipywidget-background > .lm-Widget > *[data-root-id]\n",
       "  ),\n",
       ".cell-output-ipywidget-background:has(> .lm-Widget > *[data-root-id]) {\n",
       "  background-color: transparent !important;\n",
       "}\n",
       "</style>"
      ]
     },
     "metadata": {},
     "output_type": "display_data"
    },
    {
     "data": {
      "application/javascript": "(function(root) {\n  function now() {\n    return new Date();\n  }\n\n  const force = true;\n  const py_version = '3.7.3'.replace('rc', '-rc.').replace('.dev', '-dev.');\n  const reloading = false;\n  const Bokeh = root.Bokeh;\n\n  // Set a timeout for this load but only if we are not already initializing\n  if (typeof (root._bokeh_timeout) === \"undefined\" || (force || !root._bokeh_is_initializing)) {\n    root._bokeh_timeout = Date.now() + 5000;\n    root._bokeh_failed_load = false;\n  }\n\n  function run_callbacks() {\n    try {\n      root._bokeh_onload_callbacks.forEach(function(callback) {\n        if (callback != null)\n          callback();\n      });\n    } finally {\n      delete root._bokeh_onload_callbacks;\n    }\n    console.debug(\"Bokeh: all callbacks have finished\");\n  }\n\n  function load_libs(css_urls, js_urls, js_modules, js_exports, callback) {\n    if (css_urls == null) css_urls = [];\n    if (js_urls == null) js_urls = [];\n    if (js_modules == null) js_modules = [];\n    if (js_exports == null) js_exports = {};\n\n    root._bokeh_onload_callbacks.push(callback);\n\n    if (root._bokeh_is_loading > 0) {\n      // Don't load bokeh if it is still initializing\n      console.debug(\"Bokeh: BokehJS is being loaded, scheduling callback at\", now());\n      return null;\n    } else if (js_urls.length === 0 && js_modules.length === 0 && Object.keys(js_exports).length === 0) {\n      // There is nothing to load\n      run_callbacks();\n      return null;\n    }\n\n    function on_load() {\n      root._bokeh_is_loading--;\n      if (root._bokeh_is_loading === 0) {\n        console.debug(\"Bokeh: all BokehJS libraries/stylesheets loaded\");\n        run_callbacks()\n      }\n    }\n    window._bokeh_on_load = on_load\n\n    function on_error(e) {\n      const src_el = e.srcElement\n      console.error(\"failed to load \" + (src_el.href || src_el.src));\n    }\n\n    const skip = [];\n    if (window.requirejs) {\n      window.requirejs.config({'packages': {}, 'paths': {}, 'shim': {}});\n      root._bokeh_is_loading = css_urls.length + 0;\n    } else {\n      root._bokeh_is_loading = css_urls.length + js_urls.length + js_modules.length + Object.keys(js_exports).length;\n    }\n\n    const existing_stylesheets = []\n    const links = document.getElementsByTagName('link')\n    for (let i = 0; i < links.length; i++) {\n      const link = links[i]\n      if (link.href != null) {\n        existing_stylesheets.push(link.href)\n      }\n    }\n    for (let i = 0; i < css_urls.length; i++) {\n      const url = css_urls[i];\n      const escaped = encodeURI(url)\n      if (existing_stylesheets.indexOf(escaped) !== -1) {\n        on_load()\n        continue;\n      }\n      const element = document.createElement(\"link\");\n      element.onload = on_load;\n      element.onerror = on_error;\n      element.rel = \"stylesheet\";\n      element.type = \"text/css\";\n      element.href = url;\n      console.debug(\"Bokeh: injecting link tag for BokehJS stylesheet: \", url);\n      document.body.appendChild(element);\n    }    var existing_scripts = []\n    const scripts = document.getElementsByTagName('script')\n    for (let i = 0; i < scripts.length; i++) {\n      var script = scripts[i]\n      if (script.src != null) {\n        existing_scripts.push(script.src)\n      }\n    }\n    for (let i = 0; i < js_urls.length; i++) {\n      const url = js_urls[i];\n      const escaped = encodeURI(url)\n      if (skip.indexOf(escaped) !== -1 || existing_scripts.indexOf(escaped) !== -1) {\n        if (!window.requirejs) {\n          on_load();\n        }\n        continue;\n      }\n      const element = document.createElement('script');\n      element.onload = on_load;\n      element.onerror = on_error;\n      element.async = false;\n      element.src = url;\n      console.debug(\"Bokeh: injecting script tag for BokehJS library: \", url);\n      document.head.appendChild(element);\n    }\n    for (let i = 0; i < js_modules.length; i++) {\n      const url = js_modules[i];\n      const escaped = encodeURI(url)\n      if (skip.indexOf(escaped) !== -1 || existing_scripts.indexOf(escaped) !== -1) {\n        if (!window.requirejs) {\n          on_load();\n        }\n        continue;\n      }\n      var element = document.createElement('script');\n      element.onload = on_load;\n      element.onerror = on_error;\n      element.async = false;\n      element.src = url;\n      element.type = \"module\";\n      console.debug(\"Bokeh: injecting script tag for BokehJS library: \", url);\n      document.head.appendChild(element);\n    }\n    for (const name in js_exports) {\n      const url = js_exports[name];\n      const escaped = encodeURI(url)\n      if (skip.indexOf(escaped) >= 0 || root[name] != null) {\n        if (!window.requirejs) {\n          on_load();\n        }\n        continue;\n      }\n      var element = document.createElement('script');\n      element.onerror = on_error;\n      element.async = false;\n      element.type = \"module\";\n      console.debug(\"Bokeh: injecting script tag for BokehJS library: \", url);\n      element.textContent = `\n      import ${name} from \"${url}\"\n      window.${name} = ${name}\n      window._bokeh_on_load()\n      `\n      document.head.appendChild(element);\n    }\n    if (!js_urls.length && !js_modules.length) {\n      on_load()\n    }\n  };\n\n  function inject_raw_css(css) {\n    const element = document.createElement(\"style\");\n    element.appendChild(document.createTextNode(css));\n    document.body.appendChild(element);\n  }\n\n  const js_urls = [\"https://cdn.holoviz.org/panel/1.7.1/dist/bundled/reactiveesm/es-module-shims@^1.10.0/dist/es-module-shims.min.js\", \"https://cdn.bokeh.org/bokeh/release/bokeh-3.7.3.min.js\", \"https://cdn.bokeh.org/bokeh/release/bokeh-gl-3.7.3.min.js\", \"https://cdn.bokeh.org/bokeh/release/bokeh-widgets-3.7.3.min.js\", \"https://cdn.bokeh.org/bokeh/release/bokeh-tables-3.7.3.min.js\", \"https://cdn.holoviz.org/panel/1.7.1/dist/panel.min.js\"];\n  const js_modules = [];\n  const js_exports = {};\n  const css_urls = [];\n  const inline_js = [    function(Bokeh) {\n      Bokeh.set_log_level(\"info\");\n    },\nfunction(Bokeh) {} // ensure no trailing comma for IE\n  ];\n\n  function run_inline_js() {\n    if ((root.Bokeh !== undefined) || (force === true)) {\n      for (let i = 0; i < inline_js.length; i++) {\n        try {\n          inline_js[i].call(root, root.Bokeh);\n        } catch(e) {\n          if (!reloading) {\n            throw e;\n          }\n        }\n      }\n      // Cache old bokeh versions\n      if (Bokeh != undefined && !reloading) {\n        var NewBokeh = root.Bokeh;\n        if (Bokeh.versions === undefined) {\n          Bokeh.versions = new Map();\n        }\n        if (NewBokeh.version !== Bokeh.version) {\n          Bokeh.versions.set(NewBokeh.version, NewBokeh)\n        }\n        root.Bokeh = Bokeh;\n      }\n    } else if (Date.now() < root._bokeh_timeout) {\n      setTimeout(run_inline_js, 100);\n    } else if (!root._bokeh_failed_load) {\n      console.log(\"Bokeh: BokehJS failed to load within specified timeout.\");\n      root._bokeh_failed_load = true;\n    }\n    root._bokeh_is_initializing = false\n  }\n\n  function load_or_wait() {\n    // Implement a backoff loop that tries to ensure we do not load multiple\n    // versions of Bokeh and its dependencies at the same time.\n    // In recent versions we use the root._bokeh_is_initializing flag\n    // to determine whether there is an ongoing attempt to initialize\n    // bokeh, however for backward compatibility we also try to ensure\n    // that we do not start loading a newer (Panel>=1.0 and Bokeh>3) version\n    // before older versions are fully initialized.\n    if (root._bokeh_is_initializing && Date.now() > root._bokeh_timeout) {\n      // If the timeout and bokeh was not successfully loaded we reset\n      // everything and try loading again\n      root._bokeh_timeout = Date.now() + 5000;\n      root._bokeh_is_initializing = false;\n      root._bokeh_onload_callbacks = undefined;\n      root._bokeh_is_loading = 0\n      console.log(\"Bokeh: BokehJS was loaded multiple times but one version failed to initialize.\");\n      load_or_wait();\n    } else if (root._bokeh_is_initializing || (typeof root._bokeh_is_initializing === \"undefined\" && root._bokeh_onload_callbacks !== undefined)) {\n      setTimeout(load_or_wait, 100);\n    } else {\n      root._bokeh_is_initializing = true\n      root._bokeh_onload_callbacks = []\n      const bokeh_loaded = root.Bokeh != null && (root.Bokeh.version === py_version || (root.Bokeh.versions !== undefined && root.Bokeh.versions.has(py_version)));\n      if (!reloading && !bokeh_loaded) {\n        if (root.Bokeh) {\n          root.Bokeh = undefined;\n        }\n        console.debug(\"Bokeh: BokehJS not loaded, scheduling load and callback at\", now());\n      }\n      load_libs(css_urls, js_urls, js_modules, js_exports, function() {\n        console.debug(\"Bokeh: BokehJS plotting callback run at\", now());\n        run_inline_js();\n      });\n    }\n  }\n  // Give older versions of the autoload script a head-start to ensure\n  // they initialize before we start loading newer version.\n  setTimeout(load_or_wait, 100)\n}(window));",
      "application/vnd.holoviews_load.v0+json": ""
     },
     "metadata": {},
     "output_type": "display_data"
    },
    {
     "data": {
      "application/javascript": "\nif ((window.PyViz === undefined) || (window.PyViz instanceof HTMLElement)) {\n  window.PyViz = {comms: {}, comm_status:{}, kernels:{}, receivers: {}, plot_index: []}\n}\n\n\n    function JupyterCommManager() {\n    }\n\n    JupyterCommManager.prototype.register_target = function(plot_id, comm_id, msg_handler) {\n      if (window.comm_manager || ((window.Jupyter !== undefined) && (Jupyter.notebook.kernel != null))) {\n        var comm_manager = window.comm_manager || Jupyter.notebook.kernel.comm_manager;\n        comm_manager.register_target(comm_id, function(comm) {\n          comm.on_msg(msg_handler);\n        });\n      } else if ((plot_id in window.PyViz.kernels) && (window.PyViz.kernels[plot_id])) {\n        window.PyViz.kernels[plot_id].registerCommTarget(comm_id, function(comm) {\n          comm.onMsg = msg_handler;\n        });\n      } else if (typeof google != 'undefined' && google.colab.kernel != null) {\n        google.colab.kernel.comms.registerTarget(comm_id, (comm) => {\n          var messages = comm.messages[Symbol.asyncIterator]();\n          function processIteratorResult(result) {\n            var message = result.value;\n            console.log(message)\n            var content = {data: message.data, comm_id};\n            var buffers = []\n            for (var buffer of message.buffers || []) {\n              buffers.push(new DataView(buffer))\n            }\n            var metadata = message.metadata || {};\n            var msg = {content, buffers, metadata}\n            msg_handler(msg);\n            return messages.next().then(processIteratorResult);\n          }\n          return messages.next().then(processIteratorResult);\n        })\n      }\n    }\n\n    JupyterCommManager.prototype.get_client_comm = function(plot_id, comm_id, msg_handler) {\n      if (comm_id in window.PyViz.comms) {\n        return window.PyViz.comms[comm_id];\n      } else if (window.comm_manager || ((window.Jupyter !== undefined) && (Jupyter.notebook.kernel != null))) {\n        var comm_manager = window.comm_manager || Jupyter.notebook.kernel.comm_manager;\n        var comm = comm_manager.new_comm(comm_id, {}, {}, {}, comm_id);\n        if (msg_handler) {\n          comm.on_msg(msg_handler);\n        }\n      } else if ((plot_id in window.PyViz.kernels) && (window.PyViz.kernels[plot_id])) {\n        var comm = window.PyViz.kernels[plot_id].connectToComm(comm_id);\n        comm.open();\n        if (msg_handler) {\n          comm.onMsg = msg_handler;\n        }\n      } else if (typeof google != 'undefined' && google.colab.kernel != null) {\n        var comm_promise = google.colab.kernel.comms.open(comm_id)\n        comm_promise.then((comm) => {\n          window.PyViz.comms[comm_id] = comm;\n          if (msg_handler) {\n            var messages = comm.messages[Symbol.asyncIterator]();\n            function processIteratorResult(result) {\n              var message = result.value;\n              var content = {data: message.data};\n              var metadata = message.metadata || {comm_id};\n              var msg = {content, metadata}\n              msg_handler(msg);\n              return messages.next().then(processIteratorResult);\n            }\n            return messages.next().then(processIteratorResult);\n          }\n        })\n        var sendClosure = (data, metadata, buffers, disposeOnDone) => {\n          return comm_promise.then((comm) => {\n            comm.send(data, metadata, buffers, disposeOnDone);\n          });\n        };\n        var comm = {\n          send: sendClosure\n        };\n      }\n      window.PyViz.comms[comm_id] = comm;\n      return comm;\n    }\n    window.PyViz.comm_manager = new JupyterCommManager();\n    \n\n\nvar JS_MIME_TYPE = 'application/javascript';\nvar HTML_MIME_TYPE = 'text/html';\nvar EXEC_MIME_TYPE = 'application/vnd.holoviews_exec.v0+json';\nvar CLASS_NAME = 'output';\n\n/**\n * Render data to the DOM node\n */\nfunction render(props, node) {\n  var div = document.createElement(\"div\");\n  var script = document.createElement(\"script\");\n  node.appendChild(div);\n  node.appendChild(script);\n}\n\n/**\n * Handle when a new output is added\n */\nfunction handle_add_output(event, handle) {\n  var output_area = handle.output_area;\n  var output = handle.output;\n  if ((output.data == undefined) || (!output.data.hasOwnProperty(EXEC_MIME_TYPE))) {\n    return\n  }\n  var id = output.metadata[EXEC_MIME_TYPE][\"id\"];\n  var toinsert = output_area.element.find(\".\" + CLASS_NAME.split(' ')[0]);\n  if (id !== undefined) {\n    var nchildren = toinsert.length;\n    var html_node = toinsert[nchildren-1].children[0];\n    html_node.innerHTML = output.data[HTML_MIME_TYPE];\n    var scripts = [];\n    var nodelist = html_node.querySelectorAll(\"script\");\n    for (var i in nodelist) {\n      if (nodelist.hasOwnProperty(i)) {\n        scripts.push(nodelist[i])\n      }\n    }\n\n    scripts.forEach( function (oldScript) {\n      var newScript = document.createElement(\"script\");\n      var attrs = [];\n      var nodemap = oldScript.attributes;\n      for (var j in nodemap) {\n        if (nodemap.hasOwnProperty(j)) {\n          attrs.push(nodemap[j])\n        }\n      }\n      attrs.forEach(function(attr) { newScript.setAttribute(attr.name, attr.value) });\n      newScript.appendChild(document.createTextNode(oldScript.innerHTML));\n      oldScript.parentNode.replaceChild(newScript, oldScript);\n    });\n    if (JS_MIME_TYPE in output.data) {\n      toinsert[nchildren-1].children[1].textContent = output.data[JS_MIME_TYPE];\n    }\n    output_area._hv_plot_id = id;\n    if ((window.Bokeh !== undefined) && (id in Bokeh.index)) {\n      window.PyViz.plot_index[id] = Bokeh.index[id];\n    } else {\n      window.PyViz.plot_index[id] = null;\n    }\n  } else if (output.metadata[EXEC_MIME_TYPE][\"server_id\"] !== undefined) {\n    var bk_div = document.createElement(\"div\");\n    bk_div.innerHTML = output.data[HTML_MIME_TYPE];\n    var script_attrs = bk_div.children[0].attributes;\n    for (var i = 0; i < script_attrs.length; i++) {\n      toinsert[toinsert.length - 1].childNodes[1].setAttribute(script_attrs[i].name, script_attrs[i].value);\n    }\n    // store reference to server id on output_area\n    output_area._bokeh_server_id = output.metadata[EXEC_MIME_TYPE][\"server_id\"];\n  }\n}\n\n/**\n * Handle when an output is cleared or removed\n */\nfunction handle_clear_output(event, handle) {\n  var id = handle.cell.output_area._hv_plot_id;\n  var server_id = handle.cell.output_area._bokeh_server_id;\n  if (((id === undefined) || !(id in PyViz.plot_index)) && (server_id !== undefined)) { return; }\n  var comm = window.PyViz.comm_manager.get_client_comm(\"hv-extension-comm\", \"hv-extension-comm\", function () {});\n  if (server_id !== null) {\n    comm.send({event_type: 'server_delete', 'id': server_id});\n    return;\n  } else if (comm !== null) {\n    comm.send({event_type: 'delete', 'id': id});\n  }\n  delete PyViz.plot_index[id];\n  if ((window.Bokeh !== undefined) & (id in window.Bokeh.index)) {\n    var doc = window.Bokeh.index[id].model.document\n    doc.clear();\n    const i = window.Bokeh.documents.indexOf(doc);\n    if (i > -1) {\n      window.Bokeh.documents.splice(i, 1);\n    }\n  }\n}\n\n/**\n * Handle kernel restart event\n */\nfunction handle_kernel_cleanup(event, handle) {\n  delete PyViz.comms[\"hv-extension-comm\"];\n  window.PyViz.plot_index = {}\n}\n\n/**\n * Handle update_display_data messages\n */\nfunction handle_update_output(event, handle) {\n  handle_clear_output(event, {cell: {output_area: handle.output_area}})\n  handle_add_output(event, handle)\n}\n\nfunction register_renderer(events, OutputArea) {\n  function append_mime(data, metadata, element) {\n    // create a DOM node to render to\n    var toinsert = this.create_output_subarea(\n    metadata,\n    CLASS_NAME,\n    EXEC_MIME_TYPE\n    );\n    this.keyboard_manager.register_events(toinsert);\n    // Render to node\n    var props = {data: data, metadata: metadata[EXEC_MIME_TYPE]};\n    render(props, toinsert[0]);\n    element.append(toinsert);\n    return toinsert\n  }\n\n  events.on('output_added.OutputArea', handle_add_output);\n  events.on('output_updated.OutputArea', handle_update_output);\n  events.on('clear_output.CodeCell', handle_clear_output);\n  events.on('delete.Cell', handle_clear_output);\n  events.on('kernel_ready.Kernel', handle_kernel_cleanup);\n\n  OutputArea.prototype.register_mime_type(EXEC_MIME_TYPE, append_mime, {\n    safe: true,\n    index: 0\n  });\n}\n\nif (window.Jupyter !== undefined) {\n  try {\n    var events = require('base/js/events');\n    var OutputArea = require('notebook/js/outputarea').OutputArea;\n    if (OutputArea.prototype.mime_types().indexOf(EXEC_MIME_TYPE) == -1) {\n      register_renderer(events, OutputArea);\n    }\n  } catch(err) {\n  }\n}\n",
      "application/vnd.holoviews_load.v0+json": ""
     },
     "metadata": {},
     "output_type": "display_data"
    },
    {
     "data": {
      "application/vnd.holoviews_exec.v0+json": "",
      "text/html": [
       "<div id='a2ce7d6c-6641-476a-a862-367b55d4a867'>\n",
       "  <div id=\"bb7903de-3400-470e-a2e8-96ed60c5b1f9\" data-root-id=\"a2ce7d6c-6641-476a-a862-367b55d4a867\" style=\"display: contents;\"></div>\n",
       "</div>\n",
       "<script type=\"application/javascript\">(function(root) {\n",
       "  var docs_json = {\"60aff232-b093-40a8-95d4-8a3509981d20\":{\"version\":\"3.7.3\",\"title\":\"Bokeh Application\",\"roots\":[{\"type\":\"object\",\"name\":\"panel.models.browser.BrowserInfo\",\"id\":\"a2ce7d6c-6641-476a-a862-367b55d4a867\"},{\"type\":\"object\",\"name\":\"panel.models.comm_manager.CommManager\",\"id\":\"9a98f1fb-0703-4569-afec-6221b16b15f1\",\"attributes\":{\"plot_id\":\"a2ce7d6c-6641-476a-a862-367b55d4a867\",\"comm_id\":\"6c6da42e81ef4ee2835ceed63e15c898\",\"client_comm_id\":\"53ac69c15398406ea2146c1676ad91d6\"}}],\"defs\":[{\"type\":\"model\",\"name\":\"ReactiveHTML1\"},{\"type\":\"model\",\"name\":\"FlexBox1\",\"properties\":[{\"name\":\"align_content\",\"kind\":\"Any\",\"default\":\"flex-start\"},{\"name\":\"align_items\",\"kind\":\"Any\",\"default\":\"flex-start\"},{\"name\":\"flex_direction\",\"kind\":\"Any\",\"default\":\"row\"},{\"name\":\"flex_wrap\",\"kind\":\"Any\",\"default\":\"wrap\"},{\"name\":\"gap\",\"kind\":\"Any\",\"default\":\"\"},{\"name\":\"justify_content\",\"kind\":\"Any\",\"default\":\"flex-start\"}]},{\"type\":\"model\",\"name\":\"FloatPanel1\",\"properties\":[{\"name\":\"config\",\"kind\":\"Any\",\"default\":{\"type\":\"map\"}},{\"name\":\"contained\",\"kind\":\"Any\",\"default\":true},{\"name\":\"position\",\"kind\":\"Any\",\"default\":\"right-top\"},{\"name\":\"offsetx\",\"kind\":\"Any\",\"default\":null},{\"name\":\"offsety\",\"kind\":\"Any\",\"default\":null},{\"name\":\"theme\",\"kind\":\"Any\",\"default\":\"primary\"},{\"name\":\"status\",\"kind\":\"Any\",\"default\":\"normalized\"}]},{\"type\":\"model\",\"name\":\"GridStack1\",\"properties\":[{\"name\":\"ncols\",\"kind\":\"Any\",\"default\":null},{\"name\":\"nrows\",\"kind\":\"Any\",\"default\":null},{\"name\":\"allow_resize\",\"kind\":\"Any\",\"default\":true},{\"name\":\"allow_drag\",\"kind\":\"Any\",\"default\":true},{\"name\":\"state\",\"kind\":\"Any\",\"default\":[]}]},{\"type\":\"model\",\"name\":\"drag1\",\"properties\":[{\"name\":\"slider_width\",\"kind\":\"Any\",\"default\":5},{\"name\":\"slider_color\",\"kind\":\"Any\",\"default\":\"black\"},{\"name\":\"value\",\"kind\":\"Any\",\"default\":50}]},{\"type\":\"model\",\"name\":\"click1\",\"properties\":[{\"name\":\"terminal_output\",\"kind\":\"Any\",\"default\":\"\"},{\"name\":\"debug_name\",\"kind\":\"Any\",\"default\":\"\"},{\"name\":\"clears\",\"kind\":\"Any\",\"default\":0}]},{\"type\":\"model\",\"name\":\"FastWrapper1\",\"properties\":[{\"name\":\"object\",\"kind\":\"Any\",\"default\":null},{\"name\":\"style\",\"kind\":\"Any\",\"default\":null}]},{\"type\":\"model\",\"name\":\"NotificationArea1\",\"properties\":[{\"name\":\"js_events\",\"kind\":\"Any\",\"default\":{\"type\":\"map\"}},{\"name\":\"max_notifications\",\"kind\":\"Any\",\"default\":5},{\"name\":\"notifications\",\"kind\":\"Any\",\"default\":[]},{\"name\":\"position\",\"kind\":\"Any\",\"default\":\"bottom-right\"},{\"name\":\"_clear\",\"kind\":\"Any\",\"default\":0},{\"name\":\"types\",\"kind\":\"Any\",\"default\":[{\"type\":\"map\",\"entries\":[[\"type\",\"warning\"],[\"background\",\"#ffc107\"],[\"icon\",{\"type\":\"map\",\"entries\":[[\"className\",\"fas fa-exclamation-triangle\"],[\"tagName\",\"i\"],[\"color\",\"white\"]]}]]},{\"type\":\"map\",\"entries\":[[\"type\",\"info\"],[\"background\",\"#007bff\"],[\"icon\",{\"type\":\"map\",\"entries\":[[\"className\",\"fas fa-info-circle\"],[\"tagName\",\"i\"],[\"color\",\"white\"]]}]]}]}]},{\"type\":\"model\",\"name\":\"Notification\",\"properties\":[{\"name\":\"background\",\"kind\":\"Any\",\"default\":null},{\"name\":\"duration\",\"kind\":\"Any\",\"default\":3000},{\"name\":\"icon\",\"kind\":\"Any\",\"default\":null},{\"name\":\"message\",\"kind\":\"Any\",\"default\":\"\"},{\"name\":\"notification_type\",\"kind\":\"Any\",\"default\":null},{\"name\":\"_rendered\",\"kind\":\"Any\",\"default\":false},{\"name\":\"_destroyed\",\"kind\":\"Any\",\"default\":false}]},{\"type\":\"model\",\"name\":\"TemplateActions1\",\"properties\":[{\"name\":\"open_modal\",\"kind\":\"Any\",\"default\":0},{\"name\":\"close_modal\",\"kind\":\"Any\",\"default\":0}]},{\"type\":\"model\",\"name\":\"BootstrapTemplateActions1\",\"properties\":[{\"name\":\"open_modal\",\"kind\":\"Any\",\"default\":0},{\"name\":\"close_modal\",\"kind\":\"Any\",\"default\":0}]},{\"type\":\"model\",\"name\":\"TemplateEditor1\",\"properties\":[{\"name\":\"layout\",\"kind\":\"Any\",\"default\":[]}]},{\"type\":\"model\",\"name\":\"MaterialTemplateActions1\",\"properties\":[{\"name\":\"open_modal\",\"kind\":\"Any\",\"default\":0},{\"name\":\"close_modal\",\"kind\":\"Any\",\"default\":0}]},{\"type\":\"model\",\"name\":\"ReactiveESM1\",\"properties\":[{\"name\":\"esm_constants\",\"kind\":\"Any\",\"default\":{\"type\":\"map\"}}]},{\"type\":\"model\",\"name\":\"JSComponent1\",\"properties\":[{\"name\":\"esm_constants\",\"kind\":\"Any\",\"default\":{\"type\":\"map\"}}]},{\"type\":\"model\",\"name\":\"ReactComponent1\",\"properties\":[{\"name\":\"esm_constants\",\"kind\":\"Any\",\"default\":{\"type\":\"map\"}}]},{\"type\":\"model\",\"name\":\"AnyWidgetComponent1\",\"properties\":[{\"name\":\"esm_constants\",\"kind\":\"Any\",\"default\":{\"type\":\"map\"}}]},{\"type\":\"model\",\"name\":\"request_value1\",\"properties\":[{\"name\":\"fill\",\"kind\":\"Any\",\"default\":\"none\"},{\"name\":\"_synced\",\"kind\":\"Any\",\"default\":null},{\"name\":\"_request_sync\",\"kind\":\"Any\",\"default\":0}]}]}};\n",
       "  var render_items = [{\"docid\":\"60aff232-b093-40a8-95d4-8a3509981d20\",\"roots\":{\"a2ce7d6c-6641-476a-a862-367b55d4a867\":\"bb7903de-3400-470e-a2e8-96ed60c5b1f9\"},\"root_ids\":[\"a2ce7d6c-6641-476a-a862-367b55d4a867\"]}];\n",
       "  var docs = Object.values(docs_json)\n",
       "  if (!docs) {\n",
       "    return\n",
       "  }\n",
       "  const py_version = docs[0].version.replace('rc', '-rc.').replace('.dev', '-dev.')\n",
       "  async function embed_document(root) {\n",
       "    var Bokeh = get_bokeh(root)\n",
       "    await Bokeh.embed.embed_items_notebook(docs_json, render_items);\n",
       "    for (const render_item of render_items) {\n",
       "      for (const root_id of render_item.root_ids) {\n",
       "\tconst id_el = document.getElementById(root_id)\n",
       "\tif (id_el.children.length && id_el.children[0].hasAttribute('data-root-id')) {\n",
       "\t  const root_el = id_el.children[0]\n",
       "\t  root_el.id = root_el.id + '-rendered'\n",
       "\t  for (const child of root_el.children) {\n",
       "            // Ensure JupyterLab does not capture keyboard shortcuts\n",
       "            // see: https://jupyterlab.readthedocs.io/en/4.1.x/extension/notebook.html#keyboard-interaction-model\n",
       "\t    child.setAttribute('data-lm-suppress-shortcuts', 'true')\n",
       "\t  }\n",
       "\t}\n",
       "      }\n",
       "    }\n",
       "  }\n",
       "  function get_bokeh(root) {\n",
       "    if (root.Bokeh === undefined) {\n",
       "      return null\n",
       "    } else if (root.Bokeh.version !== py_version) {\n",
       "      if (root.Bokeh.versions === undefined || !root.Bokeh.versions.has(py_version)) {\n",
       "\treturn null\n",
       "      }\n",
       "      return root.Bokeh.versions.get(py_version);\n",
       "    } else if (root.Bokeh.version === py_version) {\n",
       "      return root.Bokeh\n",
       "    }\n",
       "    return null\n",
       "  }\n",
       "  function is_loaded(root) {\n",
       "    var Bokeh = get_bokeh(root)\n",
       "    return (Bokeh != null && Bokeh.Panel !== undefined)\n",
       "  }\n",
       "  if (is_loaded(root)) {\n",
       "    embed_document(root);\n",
       "  } else {\n",
       "    var attempts = 0;\n",
       "    var timer = setInterval(function(root) {\n",
       "      if (is_loaded(root)) {\n",
       "        clearInterval(timer);\n",
       "        embed_document(root);\n",
       "      } else if (document.readyState == \"complete\") {\n",
       "        attempts++;\n",
       "        if (attempts > 200) {\n",
       "          clearInterval(timer);\n",
       "\t  var Bokeh = get_bokeh(root)\n",
       "\t  if (Bokeh == null || Bokeh.Panel == null) {\n",
       "            console.warn(\"Panel: ERROR: Unable to run Panel code because Bokeh or Panel library is missing\");\n",
       "\t  } else {\n",
       "\t    console.warn(\"Panel: WARNING: Attempting to render but not all required libraries could be resolved.\")\n",
       "\t    embed_document(root)\n",
       "\t  }\n",
       "        }\n",
       "      }\n",
       "    }, 25, root)\n",
       "  }\n",
       "})(window);</script>"
      ]
     },
     "metadata": {
      "application/vnd.holoviews_exec.v0+json": {
       "id": "a2ce7d6c-6641-476a-a862-367b55d4a867"
      }
     },
     "output_type": "display_data"
    },
    {
     "data": {
      "text/html": [
       "        <script type=\"text/javascript\">\n",
       "        window.PlotlyConfig = {MathJaxConfig: 'local'};\n",
       "        if (window.MathJax && window.MathJax.Hub && window.MathJax.Hub.Config) {window.MathJax.Hub.Config({SVG: {font: \"STIX-Web\"}});}\n",
       "        if (typeof require !== 'undefined') {\n",
       "        require.undef(\"plotly\");\n",
       "        requirejs.config({\n",
       "            paths: {\n",
       "                'plotly': ['https://cdn.plot.ly/plotly-2.32.0.min']\n",
       "            }\n",
       "        });\n",
       "        require(['plotly'], function(Plotly) {\n",
       "            window._Plotly = Plotly;\n",
       "        });\n",
       "        }\n",
       "        </script>\n",
       "        "
      ]
     },
     "metadata": {},
     "output_type": "display_data"
    },
    {
     "data": {
      "text/html": [
       "<script src=\"https://cdnjs.cloudflare.com/ajax/libs/mathjax/2.7.1/MathJax.js?config=TeX-MML-AM_SVG\"></script>"
      ],
      "text/plain": [
       "<IPython.core.display.HTML object>"
      ]
     },
     "metadata": {},
     "output_type": "display_data"
    },
    {
     "data": {
      "application/vnd.jupyter.widget-view+json": {
       "model_id": "5ae1d003e14f4ea392e0a1614ddb46f2",
       "version_major": 2,
       "version_minor": 0
      },
      "text/plain": [
       "BokehModel(combine_events=True, render_bundle={'docs_json': {'3a018f53-11d6-4908-b591-1f817bfb5fc6': {'version…"
      ]
     },
     "metadata": {},
     "output_type": "display_data"
    },
    {
     "data": {
      "application/vnd.jupyter.widget-view+json": {
       "model_id": "e48c11dc7e464b36b382a9a3edfd9c7f",
       "version_major": 2,
       "version_minor": 0
      },
      "text/plain": [
       "TqdmHBox(children=(HTML(value='Iterations:', layout=Layout(width='6%')), FloatProgress(value=0.0, layout=Layou…"
      ]
     },
     "metadata": {},
     "output_type": "display_data"
    },
    {
     "data": {
      "application/vnd.jupyter.widget-view+json": {
       "model_id": "bceab816f2974fed927be3682a4410cc",
       "version_major": 2,
       "version_minor": 0
      },
      "text/plain": [
       "TqdmHBox(children=(HTML(value='Packets:\\u2007\\u2007\\u2007', layout=Layout(width='6%')), FloatProgress(value=0.…"
      ]
     },
     "metadata": {},
     "output_type": "display_data"
    },
    {
     "data": {
      "application/vnd.jupyter.widget-view+json": {
       "model_id": "f257014f96124da89b9bd1f964c0bae8",
       "version_major": 2,
       "version_minor": 0
      },
      "text/plain": [
       "VBox(children=(FigureWidget({\n",
       "    'data': [{'type': 'scatter', 'uid': '67929aa7-e20a-4ee1-a622-2740e3f95dd5', …"
      ]
     },
     "metadata": {},
     "output_type": "display_data"
    }
   ],
   "source": [
    "from tardis import run_tardis\n",
    "from tardis.io.configuration.config_reader import Configuration\n",
    "\n",
    "config = Configuration.from_yaml(\"configs_and_data/tardis_example.yml\")\n",
    "\n",
    "sim = run_tardis(\n",
    "    config,\n",
    "    virtual_packet_logging=True,\n",
    "    show_convergence_plots=True,\n",
    "    export_convergence_plots=True,\n",
    "    log_level=\"INFO\",\n",
    ")\n"
   ]
  },
  {
   "cell_type": "markdown",
   "id": "f640cf38",
   "metadata": {},
   "source": [
    "# SDEC (Spectral element DEComposition) Plot\n"
   ]
  },
  {
   "cell_type": "markdown",
   "id": "16d47f0e",
   "metadata": {},
   "source": [
    "The SDEC plot in TARDIS visually presents what physical interactions contributed to the formation of the spectrum. The plot shows the photospheric blackbody SED and the emergent spectrum after the packets go through the ejecta, with packet contributions color-coded by the type of last interaction the energy packets experienced before they travel beyond the outermost shell of the ejecta. \n",
    "\n",
    "Let's first plot a SDEC plot and then see what's inside later.\n",
    "\n",
    "🔧 **SDEC plot settings**\n",
    "\n",
    "The common settings are:\n",
    "- `packet_type`: real or virtual, indicates which type of packets to use<br>\n",
    "        - **Real packets**: The Monte Carlo packets that started from the photosphere<br>\n",
    "        - **Virtual packets**: The virtual packets are a technique to increase spectral resolution, see [documentation here](https://tardis-sn.github.io/tardis/physics/spectrum/virtualpackets.html#:~:text=10%5D.-,Virtual%20Packets,-%C2%B6)<br>\n",
    "- `packet_wvl_range`: By default the SDEC spans the entire requested wavelength; you can use this setting to select a specific wavelength range\n",
    "- `species_list`: Only color-code a specific set of elements and/or ions, such as `species_list = ['Si II', 'S I-V', 'Ca I-III']`. \n",
    "\n",
    "\n",
    "See the [SDEC tutorial](https://tardis-sn.github.io/tardis/analyzing_tardis/visualization/how_to_sdec_plot.html) for more optional settings.\n",
    "\n",
    "--- \n",
    "## Plot a Static SDEC\n",
    "\n",
    "$\\blacktriangleright$ Run the cell below to produce a static matplotlib SDEC plot with default settings. \n"
   ]
  },
  {
   "cell_type": "code",
   "execution_count": null,
   "id": "fe4c2a3f",
   "metadata": {},
   "outputs": [],
   "source": [
    "from tardis.visualization import SDECPlotter\n",
    "from astropy import units as u\n",
    "\n",
    "plotter = SDECPlotter.from_simulation(sim)\n",
    "\n",
    "# generate a static matplotlib plot\n",
    "plotter.generate_plot_mpl()\n"
   ]
  },
  {
   "cell_type": "markdown",
   "id": "0168d3c6",
   "metadata": {},
   "source": [
    "$\\blacktriangleright$ Run the cell below, which specifies a specific wavelength range and ions."
   ]
  },
  {
   "cell_type": "code",
   "execution_count": null,
   "id": "29ce13fe",
   "metadata": {},
   "outputs": [],
   "source": [
    "plotter.generate_plot_mpl(\n",
    "    packets_mode=\"virtual\",\n",
    "    packet_wvl_range=[3000, 9000] * u.AA,\n",
    "    species_list=[\"O I-III\", \"Mg I-III\", \"S I-III\", \"Si I-III\", \"Ca I-III\", \"Ar I-III\"],\n",
    ")\n"
   ]
  },
  {
   "cell_type": "markdown",
   "id": "58141324",
   "metadata": {},
   "source": [
    "## What is the SDEC Plot?\n",
    "\n",
    "Let's look at each of the components in this plot\n",
    "\n",
    "- **<font color=red> Blackbody Photosphere </font>** (The red dashed line in the SDEC plot):<br>\n",
    "  This shows the luminosity density distribution of the energy packets when they are first initialized at the photosphere, which is a blackbody distribution. \n",
    "\n",
    "- **<font color=DodgerBlue> Spectrum </font>** (The blue dashed line in the SDEC plot):<br>\n",
    "  Depending on your choice of `packets_mode` (`real` or `virtual`), this shows the `spectrum_real_packets` or `spectrum_virtual_packets` from the spectrum_solver within the simulation object. The luminosity density at each wavelength is the cumulative luminosity of the escaped packets binned by frequency or wavelength, such as: \n",
    "  $$\n",
    "  L_{\\lambda} = \\Sigma_1^N l_i / \\Delta \\lambda\n",
    "  $$\n",
    "  where $l_i$ is the luminosity ([erg/s]) of each packet, N is the count of the packets in wavelength bin, and $\\Delta  \\lambda$ is the size of the wavelength bin [$\\AA$].\n",
    "\n",
    "- **<span style=\"background-color: rgba(255, 255, 0, 0.3); padding: 4px;\">Emitted Luminosity Density</span>** (The plotted spectral contribution with $L_{\\lambda}$ > 0):<br>\n",
    "  While the spectrum shows the total emitted luminosity density, the contributions within are color-coded by the last interaction type of the packet, which are:<br>\n",
    "    - No interaction: The packet experienced no interaction from starting at the photosphere to the outer edge of the last shell. \n",
    "    - Electron Scatter: The packet experienced electron scattering as its last interaction before escaping <br>\n",
    "      ($\\blacktriangleright$<u>**Question 1**</u>: Does the packet change its lab frame energy and wavelength after this process?)\n",
    "    - Line interaction: The packet experienced line interaction (bound-bound transition) as its last interaction before escaping <br>\n",
    "      ($\\blacktriangleright$<u>**Question 2**</u>: Does the packet change its co-moving frame frequency during line interaction?)\n",
    "\n",
    "- **<span style=\"background-color: rgba(255, 255, 0, 0.3); padding: 4px;\">Absorbed Luminosity Density</span>** (The plotted spectral contribution with $L_{\\lambda}$ < 0):<br>\n",
    "  <div style=\"background-color:rgb(95, 83, 77); border-left: 4px solid #f44336; padding: 10px; margin: 10px 0;\">\n",
    "  <strong>⚠️ Warning:</strong> These are NOT the \"reabsorbed_packets\" that traveled back inside the photosphere (which are discarded), rather these absorbed luminosity densities are plotting the cumulative luminosity of the packets **BEFORE** their last line interaction. \n",
    "  </div>\n",
    "  Among the emitted packets, there are a group of packets that experienced line interaction as their last interaction. This process represents that the photons are absorbed and re-emitted at a (different) wavelength and angle. This **fluorescence** process redistributes the ion energy across the spectrum. The packet luminosity **AFTER** the line interaction is counted into the emitted luminosity, and the packet luminosity **BEFORE** the line interaction is regarded as absorptions, plotted as $-L_{\\lambda}$.\n",
    "---\n",
    "<details>\n",
    "<summary><strong>💡 <u>Click here for Hint for Question 1</u> </strong></summary>\n",
    "YES, for any interaction event, TARDIS transform both energy and frequency of the packet into the co-moving frame, and a new direction is generated, then the packet energy and frequency is transformed back to the lab-frame (Only if the direction is the same, then the packet energy stays the same in the lab frame), see <a href=\"https://tardis-sn.github.io/tardis/physics/montecarlo/propagation.html#physical-interactions:~:text=employed%20by%20TARDIS.-,Performing%20an%20Interaction,-%C2%B6\" target=\"_blank\">documentation here</a>.\n",
    "</details>\n",
    "\n",
    "<details>\n",
    "<summary><strong>💡 <u>Click here for Hint for Question 2</u> </strong></summary>\n",
    "It depends on the <b>line_interaction_type</b> setting in the configuration (scatter, downbranch, macroatom). Recall from Day 3 or see <a href=\"https://tardis-sn.github.io/tardis/physics/montecarlo/lineinteraction.html\" target=\"_blank\">documentation here</a>. Only in the \"scatter\" line_interaction_type setting will the packet have the same co-moving frequency when interacting with resonant lines.\n",
    "</details>\n"
   ]
  },
  {
   "cell_type": "markdown",
   "id": "71ef2911",
   "metadata": {},
   "source": [
    "<font size=+3>&#9998;</font> Double click this cell to write your answer here."
   ]
  },
  {
   "cell_type": "markdown",
   "id": "fe490036",
   "metadata": {},
   "source": [
    "## Plot an interactive SDEC\n",
    "\n",
    "For exploration purposes, an interactive version of the SDEC plot is also available through `plotter.generate_plot_ply()`, in which you can zoom in on regions interactively. (Double click to zoom out to the full range.)\n",
    "\n",
    "$\\blacktriangleright$ Run the cell below to plot an interactive SDEC and explore different wavelength regions to answer the question below: \n",
    "\n",
    "$\\blacktriangleright$<u>**Question 3**</u>: Based on the SDEC plot, identify which wavelength regions are dominated by continuum opacity (contributed by electron scattering), and which regions are dominated by line opacity (contributed by line interaction) in this simulation. \n",
    "\n",
    "---\n",
    "<details>\n",
    "<summary><strong>💡 <u>Hint for Question 3</u> </strong></summary>\n",
    "In this specific simulation, the SDEC plot shows that line opacity dominates in the optical region, with strong contributions from ions like S II, Si II, and Ca II. Electron scattering is only significant in wavelength regions lacking strong lines. This reflects the strong wavelength dependence of opacity and highlights the limitations of the use of grey opacity in physical applications.\n",
    "</details>"
   ]
  },
  {
   "cell_type": "markdown",
   "id": "5fdb6e98",
   "metadata": {},
   "source": [
    "<font size=+3>&#9998;</font> Double click this cell to write your answer here."
   ]
  },
  {
   "cell_type": "code",
   "execution_count": null,
   "id": "a7a6d259",
   "metadata": {},
   "outputs": [],
   "source": [
    "plotter.generate_plot_ply()"
   ]
  },
  {
   "cell_type": "markdown",
   "id": "d8065a1b",
   "metadata": {},
   "source": [
    "# Line Info Widget\n",
    "\n",
    "The Line Info Widget provides an interactive way to explore atomic line data and identify which spectral lines contribute to specific wavelength regions using the last interaction information of the Monte Carlo packets. This widget is particularly useful for:\n",
    "\n",
    "- **Line identification**: Finding which atomic transitions produce absorption/emission features at specific wavelengths\n",
    "- **Ion analysis**: Understanding which ionization/excitation states of elements are present in different regions and show their fractions.\n",
    "\n",
    "**Key Features**:\n",
    "- **Interactive wavelength selection**: Click + hold to draw select box to filter the wavelength ranges to see contributing packets information\n",
    "- **Element filtering**: Focus on specific elements or ions within selected wavelength\n",
    "  - You can choose two different ways to filter the packets, by their emitted or absorbed wavelength, which corresponds to the wavelength before or after the last line interaction, (see the explanation for the SDEC plot above) \n",
    "- **Transition information**: View detailed atomic data for each line\n",
    "\n",
    "*This widget complements the SDEC plot by providing the atomic physics context for spectral features.*\n",
    "\n",
    "---\n",
    "## Display the interactive widget\n",
    "$\\blacktriangleright$ Run the cell below to display the Line info widget"
   ]
  },
  {
   "cell_type": "code",
   "execution_count": null,
   "id": "8b5253da",
   "metadata": {
    "editable": true,
    "slideshow": {
     "slide_type": ""
    },
    "tags": []
   },
   "outputs": [],
   "source": [
    "from tardis.visualization import LineInfoWidget\n",
    "\n",
    "line_info_widget = LineInfoWidget.from_simulation(sim)\n",
    "line_info_widget.display()"
   ]
  },
  {
   "cell_type": "markdown",
   "id": "56f8146c",
   "metadata": {},
   "source": [
    "## TASK: Si ionization ratio VS Temperature\n",
    "\n",
    "$\\blacktriangleright$ TASK: Use the Line Info Widget to investigate how ionization states change with luminosity:\n",
    "\n",
    "1. Using the current simulation, select the wavelength range [1000, 7000] $\\AA$ in the Line Info Widget and record the packet fractions for Si II and Si III.\n",
    "\n",
    "2. Calculate the Si III/Si II ratio: This ratio indicates the ionization balance - higher ratios suggest more higher ionization.\n",
    "\n",
    "3. Run another simulation with a modified config that has 60% of the original luminosity, and repeat Steps 1 and 2.\n",
    "\n",
    "4. Compare the ionization ratio of these two simulations. Which one is higher and why? \n",
    "\n",
    "---\n",
    "<details>\n",
    "<summary><strong>💡 <u> Click here for Hint</u> </strong></summary>\n",
    "Increasing the requested luminosity in TARDIS raises the inner boundary temperature, producing a hotter and more energetic radiation field. This enhances reaction rates, shifting the ionization balance toward higher stages. As a result, the Si III/Si II ratio increases with luminosity under otherwise identical conditions.\n",
    "</details>"
   ]
  },
  {
   "cell_type": "code",
   "execution_count": null,
   "id": "c0e6511a",
   "metadata": {},
   "outputs": [],
   "source": [
    "### fill in value and run the cell\n",
    "\n",
    "# from copy import deepcopy\n",
    "\n",
    "# config_lower_luminosity = deepcopy(config)\n",
    "# config_lower_luminosity.supernova.luminosity_requested = ???\n",
    "\n",
    "# sim_lower_luminosity = run_tardis(\n",
    "#     config_lower_luminosity,\n",
    "#     virtual_packet_logging=True,\n",
    "#     show_convergence_plots=True,\n",
    "#     export_convergence_plots=True,\n",
    "#     log_level=\"INFO\",\n",
    "# )\n"
   ]
  },
  {
   "cell_type": "code",
   "execution_count": null,
   "id": "60993f71",
   "metadata": {},
   "outputs": [],
   "source": [
    "### run this cell\n",
    "\n",
    "# line_info_widget_lower_luminosity = LineInfoWidget.from_simulation(sim_lower_luminosity)\n",
    "# line_info_widget_lower_luminosity.display()"
   ]
  },
  {
   "cell_type": "code",
   "execution_count": null,
   "id": "ecf53f31",
   "metadata": {},
   "outputs": [],
   "source": [
    "### fill in value and run the cell\n",
    "\n",
    "# sim_Si_ionization_ratio = ???\n",
    "# sim_lower_luminosity_Si_ionization_ratio = ???\n",
    "\n",
    "# print(\n",
    "#     f\"The Si ionization ratio for the original simulation is {sim_Si_ionization_ratio:.2f}\"\n",
    "# )\n",
    "# print(\n",
    "#     f\"The Si ionization ratio for the lower luminosity simulation is {sim_lower_luminosity_Si_ionization_ratio:.2f}\"\n",
    "# )\n"
   ]
  },
  {
   "cell_type": "code",
   "execution_count": null,
   "id": "c17b29f0",
   "metadata": {
    "tags": [
     "solution"
    ]
   },
   "outputs": [],
   "source": [
    "from copy import deepcopy\n",
    "\n",
    "config_lower_luminosity = deepcopy(config)\n",
    "config_lower_luminosity.supernova.luminosity_requested = (\n",
    "    config.supernova.luminosity_requested * 0.6\n",
    ")\n",
    "\n",
    "sim_lower_luminosity = run_tardis(\n",
    "    config_lower_luminosity,\n",
    "    virtual_packet_logging=True,\n",
    "    show_convergence_plots=True,\n",
    "    export_convergence_plots=True,\n",
    "    log_level=\"INFO\",\n",
    ")"
   ]
  },
  {
   "cell_type": "code",
   "execution_count": null,
   "id": "7ba8304b",
   "metadata": {
    "tags": [
     "solution"
    ]
   },
   "outputs": [],
   "source": [
    "line_info_widget = LineInfoWidget.from_simulation(sim)\n",
    "line_info_widget.display()\n",
    "display(\n",
    "    line_info_widget.get_species_interactions(\n",
    "        wavelength_range=[1000, 7000], filter_mode=\"packet_out_nu\"\n",
    "    ).loc[[\"Si II\", \"Si III\"]]\n",
    ")\n",
    "\n",
    "line_info_widget_lower_luminosity = LineInfoWidget.from_simulation(sim_lower_luminosity)\n",
    "line_info_widget_lower_luminosity.display()\n",
    "display(\n",
    "    line_info_widget_lower_luminosity.get_species_interactions(\n",
    "        wavelength_range=[1000, 7000], filter_mode=\"packet_out_nu\"\n",
    "    ).loc[[\"Si II\", \"Si III\"]]\n",
    ")\n",
    "\n",
    "\n",
    "sim_Si_ionization_ratio = 0.138498 / 0.261607\n",
    "sim_lower_luminosity_Si_ionization_ratio = 0.037750 / 0.351872\n",
    "\n",
    "print(\n",
    "    f\"The Si ionization ratio for the original simulation is {sim_Si_ionization_ratio:.2f}\"\n",
    ")\n",
    "print(\n",
    "    f\"The Si ionization ratio for the lower luminosity simulation is {sim_lower_luminosity_Si_ionization_ratio:.2f}\"\n",
    ")\n"
   ]
  },
  {
   "cell_type": "markdown",
   "id": "afe1c467",
   "metadata": {},
   "source": [
    "## Access line interacting ion fractions as a dataframe\n",
    "\n",
    "Within the line information widget class, you can also directly access the aggregated packet fractional stats by `get_species_interactions`, which takes:\n",
    "- `wavelength_range` as a required input \n",
    "- `filter_mode`: `packet_out_nu` (default) or `packet_in_nu`, which filters the packets based on their wavelength before or after the last line interaction.\n",
    "--- \n",
    "$\\blacktriangleright$ Run the cell below to check the packet fraction within the wavelength range of [1000, 7000] $\\AA$, which should be dominated by S II."
   ]
  },
  {
   "cell_type": "code",
   "execution_count": null,
   "id": "7282c3e0",
   "metadata": {},
   "outputs": [],
   "source": [
    "line_info_widget.get_species_interactions(\n",
    "    wavelength_range=[1000, 7000], filter_mode=\"packet_out_nu\"\n",
    ")"
   ]
  },
  {
   "cell_type": "markdown",
   "id": "3e48f324",
   "metadata": {},
   "source": [
    "# Last Interaction Velocity (LIV) Plot"
   ]
  },
  {
   "cell_type": "markdown",
   "id": "8768752f",
   "metadata": {},
   "source": [
    "Previously we looked at the SDEC plot and the Line Info Widget, both of which show the packet distribution grouped by packet wavelength.\n",
    "\n",
    "How about the interaction location? For packets that experienced line interaction as their last interaction, where in the ejecta did the line interaction happen? \n",
    "\n",
    "This is essentially what's presented in the LIV plot, which offers information about the line-forming region for each ion. \n",
    "\n",
    "--- \n",
    "🔧 **LIV plot settings**\n",
    "\n",
    "LIV plots share several similar settings as the SDEC plot, such as:\n",
    "- `packet_type`: real or virtual, indicates which type of packets to use<br>\n",
    "        - **Real packets**: The Monte Carlo packets that started from the photosphere<br>\n",
    "        - **Virtual packets**: The virtual packets are a technique to increase spectral resolution, see [documentation here](https://tardis-sn.github.io/tardis/physics/spectrum/virtualpackets.html#:~:text=10%5D.-,Virtual%20Packets,-%C2%B6)<br>\n",
    "- `packet_wvl_range`: By default the LIV plot includes all packets; you can use this setting to select packets that are within a specific wavelength range\n",
    "- `species_list`: Only show a specific set of elements and/or ions, such as `species_list = ['Si II', 'S I-V', 'Ca']`. \n",
    "\n",
    "\n",
    "See the [LIV plot tutorial](https://tardis-sn.github.io/tardis/analyzing_tardis/visualization/how_to_liv_plot.html) for more optional settings.\n",
    "\n",
    "---\n",
    "## Plot a LIV plot using virtual VS real packets\n",
    "$\\blacktriangleright$ Run the cell below to see the LIV plot using \"real\" and \"virtual\" packets, respectively. "
   ]
  },
  {
   "cell_type": "code",
   "execution_count": null,
   "id": "af893947",
   "metadata": {},
   "outputs": [],
   "source": [
    "from tardis.visualization.tools.liv_plot import LIVPlotter\n",
    "from matplotlib import pyplot as plt\n",
    "\n",
    "LIVplotter = LIVPlotter.from_simulation(sim)\n",
    "LIVplotter.generate_plot_mpl(\n",
    "    packets_mode=\"real\",\n",
    "    xlog_scale=False,\n",
    "    ylog_scale=True,\n",
    ")\n",
    "plt.title(\"LIV plot with real packets\", fontsize=16)\n",
    "\n",
    "LIVplotter.generate_plot_mpl(\n",
    "    packets_mode=\"virtual\",\n",
    "    xlog_scale=False,\n",
    "    ylog_scale=True,\n",
    ")\n",
    "plt.title(\"LIV plot with virtual packets\", fontsize=16)\n"
   ]
  },
  {
   "cell_type": "markdown",
   "id": "884e2a38",
   "metadata": {},
   "source": [
    "$\\blacktriangleright$ **Questions** \n",
    "(After running the LIV plot above) \n",
    "\n",
    "- Question 1: What difference did you notice between the real vs virtual packets LIV plot and why is that?  \n",
    "- Question 2: What determines the **quantity** of a line interaction at a given location physically, and what does the LIV plot tell us about ion opacity?\n",
    "\n",
    "<details>\n",
    "<summary><strong>💡 <u>Hint 1</u> </strong></summary>\n",
    "The total number of packet counts is the major difference. Recall from Day 3, N virtual packets are spawned at the location where each interaction happens, hence the total number of virtual packets scales up with the number of interactions the real packets have.\n",
    "</details>\n",
    "\n",
    "<details>\n",
    "<summary><strong>💡 <u>Hint 2</u> </strong></summary>\n",
    "The quantity of a bound-bound interaction of an ion depends on the number of ions, the number of available photons and free electrons within the plasma that induce the interaction, which are related to the opacity of the ion. The LIV plot shows the ion opacity distribution, which is determined by a combination of the radiation field and ion number density.\n",
    "</details>\n",
    "\n",
    "--- \n",
    "\n",
    "<div style=\"background-color:rgb(95, 83, 77); border-left: 4px solid #f44336; padding: 10px; margin: 10px 0;\">\n",
    "<strong>Note:</strong> \n",
    "Related to the first question, some simulations might take a while to plot the LIV plot using virtual packets if there are MANY interactions that occurred. Try using real packets if needed in these cases.\n",
    "</div>\n"
   ]
  },
  {
   "cell_type": "markdown",
   "id": "b96c13f4",
   "metadata": {},
   "source": [
    "<font size=+3>&#9998;</font> Double click this cell to write your answer here."
   ]
  },
  {
   "cell_type": "markdown",
   "id": "5cbc7d62",
   "metadata": {},
   "source": [
    "## TASK: Exploring Si II $\\lambda\\lambda$ 5972 vs 6355\n",
    "\n",
    "LIV plots show the velocity distribution of bound-bound interactions of ions. Let's dive deeper into a specific case: the iconic Si II $\\lambda\\lambda$ 5972 and $\\lambda\\lambda$ 6355 doublet features in Type Ia supernovae. \n",
    "\n",
    "**Background**: These two features encode rich information about the structure of the SN Ia ejecta, and the relative feature strength of these two features is often correlated with the diversity within SNe Ia (Branch diagram). \n",
    "\n",
    "Understanding where these lines form in velocity space can help us interpret the physical conditions in the ejecta! \n",
    "\n",
    "---\n",
    "\n",
    "$\\blacktriangleright$**Your task**: \n",
    "1. Identify the unique identifier of the doublet Si II line transitions (`atomic_number`,`ion_number`,`level_number_lower`, `level_number_upper`) of the major spectral features ( $\\lambda\\lambda$ 5972, $\\lambda\\lambda$ 6355) using the atomic line list. \n",
    "2. Filter out the packets that interacted with these lines (select based on the unique identifier found in step 1 above) and map where these interactions occur in velocity space.\n",
    "3. Overlay other information to discuss the physical conditions and potential reason behind the distribution you see (radiative temperature and the number density of the ion).\n",
    "4. Estimate the Doppler velocity of the feature from the synthetic spectra of these two features and compare with the median velocity of the corresponding packets. \n",
    "\n",
    "\n",
    "This exercise will hopefully refresh some of the skills that you picked up from the previous days, such as accessing the atomic lines (from Days 2-3) and the last interaction packet information (from Day 3).\n",
    "\n",
    "---\n",
    "$\\blacktriangleright$ Run the cell below to filter out the Si II line list"
   ]
  },
  {
   "cell_type": "code",
   "execution_count": null,
   "id": "a1d51763",
   "metadata": {},
   "outputs": [],
   "source": [
    "TARGET_ATOMIC_NUMBER = 14  # Si\n",
    "TARGET_ION_NUMBER = 1  # II\n",
    "\n",
    "# Find line information for the features\n",
    "line_list = (\n",
    "    sim.plasma.atomic_data.lines.reset_index()\n",
    ")  # Reset index to access index columns\n",
    "ion_mask = (line_list[\"atomic_number\"] == TARGET_ATOMIC_NUMBER) & (\n",
    "    line_list[\"ion_number\"] == TARGET_ION_NUMBER\n",
    ")\n",
    "Si_II_line_list = line_list[ion_mask]\n",
    "Si_II_line_list"
   ]
  },
  {
   "cell_type": "markdown",
   "id": "24ac0f42",
   "metadata": {},
   "source": [
    "$\\blacktriangleright$ Filter the line list based on wavelength, sort it by the `f_ul` column,\n",
    "and find the strongest 2 lines contributing to each of the main features. \n",
    "\n",
    "- Si II 5972: try filtering the wavelength range [5950, 6200] $\\AA$ \n",
    "\n",
    "- Si II 6355: try filtering the wavelength range [6340, 6380] $\\AA$"
   ]
  },
  {
   "cell_type": "code",
   "execution_count": null,
   "id": "86e2949f",
   "metadata": {},
   "outputs": [],
   "source": [
    "## filter the wavelength range\n",
    "# subdf_line_list = Si_II_line_list.loc[]\n",
    "\n",
    "## sort by the f_ul column\n",
    "# subdf_line_list.sort_values(\"f_ul\", ascending=False)"
   ]
  },
  {
   "cell_type": "code",
   "execution_count": null,
   "id": "faa74cba",
   "metadata": {
    "tags": [
     "solution"
    ]
   },
   "outputs": [],
   "source": [
    "# Find the doublets level information for 5972\n",
    "si_ii_5972_line_id_s = (\n",
    "    Si_II_line_list.loc[\n",
    "        (Si_II_line_list[\"wavelength\"] > 5950) & (Si_II_line_list[\"wavelength\"] < 6200)\n",
    "    ]\n",
    "    .sort_values(\"f_ul\", ascending=False)\n",
    "    .iloc[:2]\n",
    ")\n",
    "\n",
    "\n",
    "si_ii_6355_line_id_s = (\n",
    "    Si_II_line_list.loc[\n",
    "        (Si_II_line_list[\"wavelength\"] > 6340) & (Si_II_line_list[\"wavelength\"] < 6380)\n",
    "    ]\n",
    "    .sort_values(\"f_ul\", ascending=False)\n",
    "    .iloc[:2]\n",
    ")\n",
    "display(si_ii_5972_line_id_s), display(si_ii_6355_line_id_s)\n"
   ]
  },
  {
   "cell_type": "markdown",
   "id": "923e62a7",
   "metadata": {},
   "source": [
    "$\\blacktriangleright$ Uncomment the cell below and fill in the missing parts. \n",
    "\n",
    "Access the last line interaction packet information, and filter out the packets that interacted with the above lines. Plot the distribution in velocity space.\n",
    "\n",
    "Use astropy units for quantity unit conversion."
   ]
  },
  {
   "cell_type": "code",
   "execution_count": null,
   "id": "bc20d1a8",
   "metadata": {},
   "outputs": [],
   "source": [
    "# import matplotlib.pyplot as plt\n",
    "\n",
    "# ### Define the target line IDs for the Si II doublet\n",
    "# TARGET_LINE_LEVELS = [\n",
    "#     [(14, 1,  ???,  ???), (14, 1,  ???,  ???)],\n",
    "#     [(14, 1, ???,  ???), (14, 1, ???,  ???)],\n",
    "# ]\n",
    "# LABELS = [\"Si II 5972\", \"Si II 6355\"]\n",
    "\n",
    "# ### Filter packets with line interaction as last interaction\n",
    "# line_interaction_mask = ???\n",
    "\n",
    "# ### Get interaction radius and convert to velocity\n",
    "# interaction_location_in_radius = (\n",
    "#     sim.transport.transport_state.last_interaction_in_r[line_interaction_mask] * u.cm\n",
    "# )\n",
    "# interaction_location_in_velocity =  ???\n",
    "\n",
    "# ### Get the packet line interaction information\n",
    "# line_list_all = sim.plasma.atomic_data.lines\n",
    "# packet_line_ids = sim.transport.transport_state.last_line_interaction_in_id[\n",
    "#     line_interaction_mask\n",
    "# ]\n",
    "# packet_line_info = line_list_all.iloc[packet_line_ids]\n",
    "\n",
    "\n",
    "# ### Plot Si II doublet formation regions as a function of velocity\n",
    "# fig, ax = plt.subplots(figsize=(12, 6))\n",
    "# velocities = sim.simulation_state.v_inner.to(u.km / u.s).value\n",
    "\n",
    "# for i, target_line_level in enumerate(TARGET_LINE_LEVELS):\n",
    "#     # Find packets that interacted with these specific lines\n",
    "#     target_mask = packet_line_info.index.isin(target_line_level)\n",
    "#     interaction_velocities = interaction_location_in_velocity[target_mask].value\n",
    "#     ax.hist(\n",
    "#         interaction_velocities,\n",
    "#         bins=velocities,\n",
    "#         label=LABELS[i],\n",
    "#         alpha=0.6,\n",
    "#         linewidth=2,\n",
    "#         histtype=\"stepfilled\",\n",
    "#     )\n",
    "\n",
    "# ### Add temperature profile on secondary axis\n",
    "# ax_temp = ax.twinx()\n",
    "# ax_temp.plot(???, color= \"r\")\n",
    "# ax_temp.set_ylabel(\"Temperature (K)\", color=\"red\")\n",
    "\n",
    "# ### Add number density of each level as well\n",
    "# ax_num_density = ax.twinx()\n",
    "# levels = [?????]\n",
    "# for level in levels:\n",
    "#     ax_num_density.plot(\n",
    "#         sim.simulation_state.v_inner.to(u.km / u.s).value,\n",
    "#         sim.plasma.level_number_density.loc[TARGET_ATOMIC_NUMBER, TARGET_ION_NUMBER, level],\n",
    "#         ls=\"--\",\n",
    "#         alpha=0.7,\n",
    "#         label=f\"Level {level}\",\n",
    "#     )\n",
    "#     ax_num_density.spines[\"right\"].set_position((\"outward\", 60))\n",
    "#     ax_num_density.set_ylabel(\"Si II Number Density (cm$^{-3}$)\")\n",
    "# ax_num_density.legend(loc=\"upper left\")\n",
    "\n",
    "# #### Set labels and title\n",
    "# ax.set_xlabel(\"Velocity (km/s)\")\n",
    "# ax.set_ylabel(\"Number of Line Interactions\")\n",
    "# ax.set_title(\"Si II Formation Regions\")\n",
    "# ax.legend(loc=\"upper right\")\n",
    "# ax.grid(True, alpha=0.3)\n"
   ]
  },
  {
   "cell_type": "code",
   "execution_count": null,
   "id": "31842e23",
   "metadata": {
    "tags": [
     "solution"
    ]
   },
   "outputs": [],
   "source": [
    "import matplotlib.pyplot as plt\n",
    "\n",
    "# Define the target line IDs for the Si II doublet\n",
    "TARGET_LINE_LEVELS = [\n",
    "    [(14, 1, 15, 20), (14, 1, 13, 20)],\n",
    "    [(14, 1, 7, 13), (14, 1, 7, 15)],\n",
    "]\n",
    "LABELS = [\"Si II 5972\", \"Si II 6355\"]\n",
    "\n",
    "# Filter packets with line interaction as last interaction\n",
    "line_interaction_mask = sim.transport.transport_state.last_interaction_type == 2\n",
    "\n",
    "# Get interaction locations and convert to velocity\n",
    "interaction_location_in_radius = (\n",
    "    sim.transport.transport_state.last_interaction_in_r[line_interaction_mask] * u.cm\n",
    ")\n",
    "interaction_location_in_velocity = (\n",
    "    interaction_location_in_radius / sim.transport.transport_state.time_explosion\n",
    ").to(u.km / u.s)\n",
    "\n",
    "### Get the packet line interaction information\n",
    "line_list_all = sim.plasma.atomic_data.lines\n",
    "packet_line_ids = sim.transport.transport_state.last_line_interaction_in_id[\n",
    "    line_interaction_mask\n",
    "]\n",
    "packet_line_info = line_list_all.iloc[packet_line_ids]\n",
    "\n",
    "### Plot Si II doublet formation regions as a function of velocity\n",
    "fig, ax = plt.subplots(figsize=(12, 6))\n",
    "velocities = sim.simulation_state.v_inner.to(u.km / u.s).value\n",
    "\n",
    "for i, target_line_level in enumerate(TARGET_LINE_LEVELS):\n",
    "    # Find packets that interacted with these specific lines\n",
    "    target_mask = packet_line_info.index.isin(target_line_level)\n",
    "    interaction_velocities = interaction_location_in_velocity[target_mask].value\n",
    "\n",
    "    ax.hist(\n",
    "        interaction_velocities,\n",
    "        bins=velocities,\n",
    "        label=LABELS[i],\n",
    "        alpha=0.6,\n",
    "        linewidth=2,\n",
    "        histtype=\"stepfilled\",\n",
    "    )\n",
    "\n",
    "# Add temperature profile on secondary axis\n",
    "ax_temp = ax.twinx()\n",
    "ax_temp.plot(\n",
    "    sim.simulation_state.v_inner.to(u.km / u.s).value,\n",
    "    sim.simulation_state.t_radiative.to(u.K).value,\n",
    "    \"r-\",\n",
    "    lw=2,\n",
    "    alpha=0.6,\n",
    "    label=\"Temperature\",\n",
    ")\n",
    "ax_temp.set_ylabel(\"Temperature (K)\", color=\"red\")\n",
    "\n",
    "### Add number density of each level as well\n",
    "ax_num_density = ax.twinx()\n",
    "levels = [7, 13, 15, 20]\n",
    "for level in levels:\n",
    "    ax_num_density.plot(\n",
    "        sim.simulation_state.v_inner.to(u.km / u.s).value,\n",
    "        sim.plasma.level_number_density.loc[\n",
    "            TARGET_ATOMIC_NUMBER, TARGET_ION_NUMBER, level\n",
    "        ],\n",
    "        ls=\"--\",\n",
    "        alpha=0.7,\n",
    "        label=f\"Level {level}\",\n",
    "    )\n",
    "    ax_num_density.spines[\"right\"].set_position((\"outward\", 60))\n",
    "    ax_num_density.set_ylabel(\"Si II Number Density (cm$^{-3}$)\")\n",
    "ax_num_density.legend(loc=\"upper left\")\n",
    "\n",
    "\n",
    "#### Set labels and title\n",
    "ax.set_xlabel(\"Velocity (km/s)\")\n",
    "ax.set_ylabel(\"Number of Line Interactions\")\n",
    "ax.set_title(\"Si II Formation Regions\")\n",
    "ax.legend(loc=\"upper right\")\n",
    "ax.grid(True, alpha=0.3)"
   ]
  },
  {
   "cell_type": "markdown",
   "id": "77b794d7",
   "metadata": {},
   "source": [
    "$\\blacktriangleright$ Estimate the Doppler velocity of the two Si II features using the synthetic spectrum: \n",
    "\n",
    "**Velocity calculation from absorption minima:**\n",
    "$$v = c \\times \\frac{\\lambda_{rest} - \\lambda_{obs}}{\\lambda_{rest}}$$\n",
    "\n",
    "\n",
    "And compare it to the median velocity of the packets that contribute to those features. \n"
   ]
  },
  {
   "cell_type": "code",
   "execution_count": null,
   "id": "07e4a450",
   "metadata": {},
   "outputs": [],
   "source": [
    "### Run this cell to get the median velocity of the interaction site\n",
    "import numpy as np\n",
    "\n",
    "for i, target_line_level in enumerate(TARGET_LINE_LEVELS):\n",
    "    target_mask = packet_line_info.index.isin(target_line_level)\n",
    "    interaction_velocities = interaction_location_in_velocity[target_mask].value\n",
    "    print(\n",
    "        f\"label: {LABELS[i]}, median velocity: {np.median(interaction_velocities):.0f} km/s\"\n",
    "    )\n"
   ]
  },
  {
   "cell_type": "code",
   "execution_count": null,
   "id": "2e513033",
   "metadata": {},
   "outputs": [],
   "source": [
    "# Your code/analysis to estimate the feature Doppler shift by identifying the absorption minima location"
   ]
  },
  {
   "cell_type": "code",
   "execution_count": null,
   "id": "34e85492",
   "metadata": {
    "tags": [
     "solution"
    ]
   },
   "outputs": [],
   "source": [
    "# Estimate v_inner from Si II 6355 absorption minimum\n",
    "\"\"\"\n",
    "Note that this is just an estimation. In observational studies, \n",
    "a more precise method is applied, in which the continuum is \n",
    "removed before measuring the absorption minima.\n",
    "\"\"\"\n",
    "from astropy import constants as const\n",
    "import numpy as np\n",
    "from scipy.ndimage import gaussian_filter1d\n",
    "\n",
    "\n",
    "wavelength = sim.spectrum_solver.spectrum_virtual_packets.wavelength.to(u.AA)\n",
    "lum_density = gaussian_filter1d(\n",
    "    sim.spectrum_solver.spectrum_virtual_packets.luminosity_density_lambda, sigma=5\n",
    ")\n",
    "\n",
    "# Find Si II 6355 absorption minimum in spectrum\n",
    "rest_wavelength_s = np.array([5972, 6355]) * u.AA\n",
    "absorption_minima = []\n",
    "for rest_wavelength in rest_wavelength_s:\n",
    "    si_region_mask = (wavelength.value >= rest_wavelength.value - 400) & (\n",
    "        wavelength.value <= rest_wavelength.value - 50\n",
    "    )\n",
    "    si_region_lum_density = lum_density[si_region_mask]\n",
    "    si_region_wavelength = wavelength[si_region_mask]\n",
    "    # Find absorption minimum (lowest flux point)\n",
    "    min_flux_index = np.argmin(si_region_lum_density)\n",
    "    absorption_minima.append(si_region_wavelength[min_flux_index])\n",
    "\n",
    "w = np.where((wavelength.value >= 5700) & (wavelength.value <= 6400))[0]\n",
    "plt.plot(\n",
    "    wavelength[w],\n",
    "    lum_density[w],\n",
    "    \"b-\",\n",
    ")\n",
    "for i, rest_wavelength in enumerate(rest_wavelength_s):\n",
    "    # Calculate expansion velocity from Doppler shift\n",
    "    expansion_velocity = (\n",
    "        const.c * (rest_wavelength - absorption_minima[i]) / rest_wavelength\n",
    "    )\n",
    "    expansion_velocity_km_s = expansion_velocity.to(u.km / u.s)\n",
    "    plt.axvline(\n",
    "        absorption_minima[i].value,\n",
    "        color=\"r\",\n",
    "        linestyle=\"--\",\n",
    "        label=f\"Si II {rest_wavelength.value:.0f} velocity: {expansion_velocity_km_s:.0f}\",\n",
    "    )\n",
    "plt.xlabel(r\"Wavelength ($\\AA$)\")\n",
    "plt.ylabel(r\"Luminosity Density ($erg/s/\\AA$)\")\n",
    "plt.legend()\n"
   ]
  },
  {
   "cell_type": "markdown",
   "id": "eeda3f45",
   "metadata": {},
   "source": [
    "---\n",
    "\n",
    "$\\blacktriangleright$ **Questions** \n",
    "(After finish the task above) \n",
    "\n",
    "- Question 1: Which feature has a faster expansion velocity measured from the spectrum? How about from the median velocity location of the interaction site? Do they match?\n",
    "- Question 2: Quantitatively, does the velocity measured from the spectrum match with the median interaction site location?\n",
    "\n",
    "<details>\n",
    "<summary><strong>💡 <u> Click here for Hint 1</u> </strong></summary>\n",
    "**In this simulation**, the Si II 6355 has a faster expansion velocity measured from the spectrum. This is also reflected in the median interaction site velocity of Si II 6355.\n",
    "</details>\n",
    "\n",
    "<details>\n",
    "<summary><strong>💡 <u> Click here for Hint 2</u> </strong></summary>\n",
    "These values are not expected to be the same. The Doppler shift velocity measured from the absorption minima of a spectral feature is a combined effect from interaction site velocity and the traveling direction of the photons, from all the contributing ions.\n",
    "</details>"
   ]
  },
  {
   "cell_type": "markdown",
   "id": "f3a467d5",
   "metadata": {},
   "source": [
    "---\n",
    "\n",
    "# **Summary**\n",
    "\n",
    "Congratulations! We have gone through the following powerful visualization tools in TARDIS and some related exercises:\n",
    "\n",
    "- **SDEC plots** - Understanding which ions contribute to spectral features  \n",
    "- **LIV plots** - Mapping where line interactions occur in velocity space  \n",
    "- **Line Info Widget** - Exploring atomic line data (when available)  \n",
    "\n",
    "## **What's Next for today?**\n",
    "\n",
    "**Notebook 2: Post-processing Hydro Models**\n",
    "- Learn how to work with hydrodynamic simulation outputs using csvy files\n",
    "- Optimize photospheric velocity using the dilution factor $W=0.5$ criterion  \n",
    "- Apply visualization tools to analyze synthetic spectra from realistic explosion models\n",
    "\n",
    "**Notebook 3: Exploring Parameterized Models** (for the afternoon)\n",
    "- Systematically vary model parameters (luminosity, v_inner, time_explosion, density, abundance)\n",
    "- Compare synthetic spectra with observations\n",
    "- Understand parameter degeneracies and their physical effects\n",
    "\n",
    "---\n",
    "\n",
    "**Ready to continue?** Open `2_postprocessing_hydromodel.ipynb` to dive into realistic supernova modeling!\n",
    "\n",
    "The visualization skills you've learned here will be essential for analyzing and interpreting the models in the upcoming notebooks."
   ]
  },
  {
   "cell_type": "code",
   "execution_count": 2,
   "id": "499d9595",
   "metadata": {
    "tags": [
     "solution"
    ]
   },
   "outputs": [
    {
     "name": "stdout",
     "output_type": "stream",
     "text": [
      "/Users/jing/mambaforge/bin/jupyter-nbconvert:6: DeprecationWarning: Parsing dates involving a day of month without a year specified is ambiguious\n",
      "and fails to parse leap day. The default behavior will change in Python 3.15\n",
      "to either always raise an exception or to use a different default year (TBD).\n",
      "To avoid trouble, add a specific year to the input & format.\n",
      "See https://github.com/python/cpython/issues/70647.\n",
      "  from nbconvert.nbconvertapp import main\n",
      "[NbConvertApp] Converting notebook 1_tardis_visualizations_instructor.ipynb to notebook\n",
      "[NbConvertApp] Writing 33715 bytes to 1_tardis_visualizations_student.ipynb\n",
      "Converted 1_tardis_visualizations_instructor.ipynb to 1_tardis_visualizations_student.ipynb\n"
     ]
    }
   ],
   "source": [
    "from IPython import get_ipython\n",
    "from pathlib import Path\n",
    "ip = get_ipython()\n",
    "path = None\n",
    "if '__vsc_ipynb_file__' in ip.user_ns:\n",
    "    path = ip.user_ns['__vsc_ipynb_file__']\n",
    "    \n",
    "nb_path = Path(path)\n",
    "# Get the current notebook name\n",
    "current_notebook = nb_path.name\n",
    "\n",
    "# Create the student version by replacing 'instructor' with 'student'\n",
    "output_notebook = current_notebook.replace('instructor', 'student')\n",
    "\n",
    "# Run the nbconvert command\n",
    "!jupyter nbconvert {current_notebook} --ClearOutputPreprocessor.enabled=True --TagRemovePreprocessor.enabled=True --TagRemovePreprocessor.remove_cell_tags=\"['solution']\" --to notebook --output {output_notebook}\n",
    "\n",
    "print(f\"Converted {current_notebook} to {output_notebook}\")"
   ]
  }
 ],
 "metadata": {
  "kernelspec": {
   "display_name": "base",
   "language": "python",
   "name": "python3"
  },
  "language_info": {
   "codemirror_mode": {
    "name": "ipython",
    "version": 3
   },
   "file_extension": ".py",
   "mimetype": "text/x-python",
   "name": "python",
   "nbconvert_exporter": "python",
   "pygments_lexer": "ipython3",
   "version": "3.13.2"
  }
 },
 "nbformat": 4,
 "nbformat_minor": 5
}
