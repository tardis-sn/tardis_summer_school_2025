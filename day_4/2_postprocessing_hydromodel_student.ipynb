{
 "cells": [
  {
   "cell_type": "markdown",
   "id": "a3d7f656",
   "metadata": {
    "editable": true,
    "slideshow": {
     "slide_type": ""
    },
    "tags": []
   },
   "source": [
    "# Overview: Post-Processing Hydro Models - From Explosion to Spectra\n",
    "\n",
    "In this notebook, we will learn how to post-process hydrodynamic simulation models to create synthetic spectra using TARDIS. The example used here are from a delayed detonation model for thermonuclear supernova, obtained from [Heidelberg Supernova Model Archive (HESMA, see reference within)](https://old-hesma.h-its.org/doku.php?id=data:models:ddt_2013_n100_overview).\n",
    "This model is pre-parsed into the TARDIS configuration format and contains the ejecta conditions at $t = 100.22 s$ after the start of the explosion.\n",
    "\n",
    "**The Physics Behind Time Series Modeling in TARDIS**\n",
    "\n",
    "**Key Insight**: During the photospheric phase, supernovae undergo homologous expansion where density $\\rho(t) = \\rho(t_0) (\\frac{t}{t_0})^{-3}$ while maintaining the same structure in velocity space. This allows us to use a single ejecta model to generate spectra at multiple epochs by adjusting:\n",
    "- Time since explosion ($t_{\\text{exp}}$)\n",
    "- Bolometric luminosity ($L$) at given time\n",
    "- Inner boundary velocity ($v_{\\text{inner}}$) at given time\n",
    "\n",
    "<div style=\"background-color:rgb(95, 83, 77); border-left: 4px solid #f44336; padding: 10px; margin: 10px 0;\">\n",
    "<strong> Note:</strong> \n",
    "For thermonuclear explosions, the time it takes from the start of explosion to homology is usually short (on the scale of tens of seconds). However, it is often longer for core collapse supernovae (on the scale of hours to days).\n",
    "</div>\n",
    "\n",
    "\n",
    "If the hydro model output does not provide photospheric velocity, the challenge is determining the correct $v_{\\text{inner}}$ at each epoch, which should correspond to the photospheric location where optical depth $\\tau \\approx 2/3$.\n",
    "\n",
    "In TARDIS, this position corresponds to the location where the dilution factor $W=0.5$, which represents that 50% of the energy escapes compares to a black body. \n",
    "\n",
    "\n",
    "**Learning Objectives**:<br>\n",
    "\n",
    "In this notebook, you will be instructed to:\n",
    "1. **Visualize and interpret** hydrodynamic model structure (density, abundance profiles)\n",
    "2. **Estimate v_inner_boundary velocity** using the dilution factor $W = 0.5$ criterion\n",
    "3. **Analyze spectral features** using TARDIS built-in visualization tools\n",
    "\n"
   ]
  },
  {
   "cell_type": "markdown",
   "id": "e0a8e25e",
   "metadata": {
    "editable": true,
    "slideshow": {
     "slide_type": ""
    },
    "tags": []
   },
   "source": [
    "# Importing the modules we need \n",
    "$\\blacktriangleright$ run the cell below to import the modules you need. "
   ]
  },
  {
   "cell_type": "code",
   "execution_count": null,
   "id": "c07513b9",
   "metadata": {},
   "outputs": [],
   "source": [
    "import numpy as np\n",
    "import matplotlib.pyplot as plt\n",
    "import pandas as pd\n",
    "from pathlib import Path\n",
    "\n",
    "from tardis.model import SimulationState\n",
    "from tardis import run_tardis\n",
    "from tardis.io.configuration.config_reader import Configuration\n",
    "from tardis.workflows.util import get_tau_integ\n",
    "from tardis.visualization import SDECPlotter, LIVPlotter, LineInfoWidget\n",
    "from tardis.util.base import atomic_number2element_symbol, int_to_roman, element_symbol2atomic_number\n",
    "\n",
    "from astropy import units as u\n",
    "from astropy import constants as const\n"
   ]
  },
  {
   "cell_type": "markdown",
   "id": "1ec29265",
   "metadata": {},
   "source": [
    "# Loading and Understanding the ejecta Model \n",
    "\n",
    "In TARDIS, the ejecta model information is processed into the `simulation_state` class, and it can be parsed directly from the config. \n",
    "\n",
    "$\\blacktriangleright$ run the cell below to read the config into a simulation_state WITHOUT actually running TARDIS.  \n",
    "\n",
    "See the [source code of the simulation_state](https://github.com/tardis-sn/tardis/blob/fa4c4ea98055ea3bef24d69feba26fb5f74c2ddf/tardis/model/base.py#L38) to see the available attributes and properties. "
   ]
  },
  {
   "cell_type": "code",
   "execution_count": null,
   "id": "03a49a1d",
   "metadata": {},
   "outputs": [],
   "source": [
    "CONFIG_FILE = \"configs_and_data/tardis_ddt_2013_n100.yml\"\n",
    "config = Configuration.from_yaml(CONFIG_FILE)\n",
    "simulation_state = SimulationState.from_csvy(config)\n"
   ]
  },
  {
   "cell_type": "markdown",
   "id": "6668ecb1",
   "metadata": {},
   "source": [
    "### Visualize the Model Structure (Density and abundance profile as a function of velocity)\n",
    "\n",
    "$\\blacktriangleright$ Your task: Examine the ejecta model visually - plot the mass fractions of the elements and the density profile as a function of velocity, on the same figure.\n",
    "(Plot mass fraction using the normal yaxis, and plot density using the y-axis on the right hand side.) \n",
    "\n",
    "---\n",
    "**Useful information**\n",
    "\n",
    "- The velocity can be accessed through `simulation_state.v_inner` (v_inner/v_outer are the inner/outer velocities of the shells)\n",
    "- The density can be accessed through `simulation_state.density`\n",
    "- The abundance can be accessed through `simulation_state.composition.elemental_mass_fraction` (which is a pandas dataframe of mass fractions of each element (row) across each shell (columns))\n",
    "- `atomic_number2element_symbol` function, which can convert a integer atomic number to the elemental symbol, is already imported\n"
   ]
  },
  {
   "cell_type": "code",
   "execution_count": null,
   "id": "c890d432",
   "metadata": {},
   "outputs": [],
   "source": [
    "# #### your code here\n",
    "\n",
    "# fig, ax = plt.subplots(1, 1, figsize=(8, 6))\n",
    "\n",
    "# ### plot mass fractions of each element\n",
    "# velocity = ???\n",
    "# element_names = ???\n",
    "# for i, element_name in enumerate(element_names):\n",
    "#     ax.plot()\n",
    "\n",
    "# ### plot the density on the same subplot \n",
    "# ax_twin = ax.twinx()\n",
    "# ax_twin.plot()\n"
   ]
  },
  {
   "cell_type": "markdown",
   "id": "32fdfb4c",
   "metadata": {},
   "source": [
    "### Compare the initial vs current profiles\n",
    "\n",
    "The profiles you see above from the simulation state is already processed through time assuming the ejecta is expanding homologously, which includes the following:\n",
    "\n",
    "- <u>**Density**</u>: In the assumption of homologous expansion, the radius ($r$) of the ejecta can be approximated with $r = v\\times t$, hence the volume expansion scales with $t^{-3}$, which leads to the density scaling as $\\rho(t) = \\rho(t_0) (\\frac{t}{t_0})^{-3}$.  \n",
    "    - **The model initial density time is set by the `model_density_time_0` in the csvy file.** \n",
    "- <u>**Radiative isotope mass fractions**</u>: If the ejecta contains radioactive isotopes, TARDIS decays these isotopes from the model initial isotope time to the specified time since explosion. \n",
    "    - **The model initial isotope time is set by the `model_isotope_time_0` in the csvy file.** \n",
    "\n",
    "---\n",
    "\n",
    "$\\blacktriangleright$ TASK: Compare the initial and current profiles of:\n",
    "- The density profile \n",
    "- The mass fraction of the iron group elements (Fe, Co, and Ni)\n",
    "\n",
    "The original profiles can be accessed by reading in the csv part of the csvy file, eg: `pd.read_csv(file_path, skiprows=n)` where n is the number of lines before the the csv data part starts"
   ]
  },
  {
   "cell_type": "code",
   "execution_count": null,
   "id": "13dca8b1",
   "metadata": {},
   "outputs": [],
   "source": [
    "df_original_profiles = pd.read_csv(\"configs_and_data/tardis_ddt_2013_n100_profile.csvy\", skiprows=35)\n",
    "df_original_profiles.head()"
   ]
  },
  {
   "cell_type": "code",
   "execution_count": null,
   "id": "26b9f292",
   "metadata": {},
   "outputs": [],
   "source": [
    "# reuse the code you wrote above to start with \n",
    "# your code here to overlay the initial and current profiles"
   ]
  },
  {
   "cell_type": "markdown",
   "id": "da68a2ce",
   "metadata": {},
   "source": [
    "# Set up the time and luminosity\n",
    "\n",
    "While the initial ejecta profiles doesn't need to be changed, the time snapshot information including the time since explosion and the bolometric luminosity at that time should be updated for each TARDIS simulation. \n",
    "\n",
    "Let's pick 10 days past explosion as the time of interest as an example.\n",
    "\n",
    "$\\blacktriangleright$ Your task: Identify the luminosity at 10 days past explosion and update the information in the TARDIS config. \n",
    "- Identify the bolometric luminosity of given model at 10 days past explosion from the provided `ddt_2013_n100_lightcurve.dat`.\n",
    "- Plot the bolometric luminosity as a function of time and verify the value you identified on the plot. \n",
    "- Update the `luminosity_requested` and `time_explosion` in the TARDIS config. \n",
    "\n",
    "<details>\n",
    "<summary><strong>💡 <u>Click here for Hint</u> </strong></summary>\n",
    "The interpolated bolometric luminosity at 10 day should be around 7.35e+42 erg/s. \n",
    "</details>\n",
    "\n"
   ]
  },
  {
   "cell_type": "code",
   "execution_count": null,
   "id": "f1b4a0fa",
   "metadata": {},
   "outputs": [],
   "source": [
    "### Read in the bolometric luminosity light curve data and identify the luminosity at 10 days past explosion\n",
    "\n",
    "## read the file\n",
    "df_bolo_LC = pd.read_csv(\"configs_and_data/ddt_2013_n100_lightcurve.dat\", sep=r\"\\s+\")\n",
    "df_bolo_LC\n",
    "# plot the bolometric Light curve\n",
    "plt.plot(\n",
    "    df_bolo_LC[\"time[day]\"],\n",
    "    df_bolo_LC[\"bolometric_luminosity[erg/s]\"],\n",
    "    \"b-\",\n",
    "    marker=\".\",\n",
    ")\n",
    "plt.xlabel(\"Time (day)\")\n",
    "plt.ylabel(\"Bolometric Luminosity (erg/s)\")\n",
    "\n",
    "## your code here to identify the luminosity at 10 days past explosion, \n",
    "## can use interpolation or simply read off the value from the most close time point\n",
    "## and plot the point on the light curve to veri\n",
    "# lum_10_day = ???\n",
    "\n",
    "# print(f\"Luminosity at 10 days: {lum_10_day:.2e} erg/s\")"
   ]
  },
  {
   "cell_type": "markdown",
   "id": "113da6bd",
   "metadata": {},
   "source": [
    " $\\blacktriangleright$ Fill in the value in cell below to update the TARDIS config\n"
   ]
  },
  {
   "cell_type": "code",
   "execution_count": null,
   "id": "44db0333",
   "metadata": {},
   "outputs": [],
   "source": [
    "config.supernova.time_explosion = 10 * u.day\n",
    "config.supernova.luminosity_requested = ???? * u.erg / u.s"
   ]
  },
  {
   "cell_type": "markdown",
   "id": "b079f398",
   "metadata": {},
   "source": [
    "# Photospheric Velocity Optimization\n",
    "\n",
    "TARDIS currently relies on the photospheric assumption, where the energy source starts at the innermost boundary and is transported outward, with no additional energy input above this inner boundary. \n",
    "\n",
    "Thus it is important to set the optimal v_inner_boundary for a specific TARDIS simulation to ensure the synthetic spectrum is physically consistent. \n",
    "\n",
    "$\\blacktriangleright$ Questions: Let's think about very extreme cases in TARDIS. What if:\n",
    "- The inner boundary is set at a location with VERY LARGE optical depth?\n",
    "- The inner boundary is set at a location with VERY SMALL optical depth?\n",
    "\n",
    "Keep these thoughts in mind as we continue and verify your ideas along the way. \n"
   ]
  },
  {
   "cell_type": "markdown",
   "id": "223129fd",
   "metadata": {},
   "source": [
    "<font size=+3>&#9998;</font> Double click this cell to write your answer here."
   ]
  },
  {
   "cell_type": "markdown",
   "id": "e68ce219",
   "metadata": {},
   "source": [
    "---\n",
    "\n",
    "**How to find the optimal v_inner_boundary value in TARDIS?**\n",
    "\n",
    "Each TARDIS simulation goes through an iterative process of:\n",
    "- Initializing packets at the given v_inner_boundary, distributed as a (dilute) blackbody with temperature $T_{\\text{inner}}$\n",
    "- Transporting the packets through the ejecta and estimating radiation field properties (radiative temperature $T_{\\text{rad}}$ and dilution factors $W$ in each shell)\n",
    "- Updating the radiation field based on the estimators and convergence strategy, and updating $T_{\\text{inner}}$ based on the ratio of requested luminosity to output luminosity, following the convergence strategy\n",
    "- Calculating the plasma and opacity state based on the radiation field in each shell\n",
    "- Repeating all above steps until the simulation converges \n",
    "\n",
    "<div style=\"background-color:rgb(95, 83, 77); border-left: 4px solid #f44336; padding: 10px; margin: 10px 0;\">\n",
    "<strong>Note:</strong> \n",
    "Even if the simulation converges, it doesn't necessarily mean the simulation results are physically consistent.\n",
    "</div>\n",
    "\n",
    "If the v_inner_boundary is set too deep compared to the true photosphere, then the dilution factor $W$ at the v_inner will be larger than 0.5, meaning that more than 50% of the energy is trapped within, and vice versa. \n",
    "\n",
    "----\n",
    "\n",
    "We can use an iterative process to find the optimal location of v_inner_boundary.\n",
    "\n",
    "Since our goal is to find a v_inner_boundary that has a dilution factor of 0.5, we can start a simulation run and nudge the v_inner_boundary inward/outward if the dilution factor $W$ at that location is too low/high.\n",
    "\n",
    "Let's start with a relatively low value first and walk through the iterative process step by step to find the optimal v_inner_boundary.\n",
    "\n",
    "---"
   ]
  },
  {
   "cell_type": "markdown",
   "id": "bcaaefe6",
   "metadata": {},
   "source": [
    "## Iter1 - Run a simulation with the initial guess\n",
    "\n",
    "$\\blacktriangleright$ Run the cell below to run a TARDIS simulation with initial v_inner_boundary value (8097 km/s), which will take a couple minutes, monitor the dilution factor in the convergence plot. \n",
    "\n",
    "$\\blacktriangleright$ While you are waiting the simulation to finish, think about what other properties can inform you which direction to nudge?\n",
    "\n",
    "<div style=\"background-color:rgb(95, 83, 77); border-left: 4px solid #f44336; padding: 10px; margin: 10px 0;\">\n",
    "<strong> READ THIS:</strong> Keep each simulation named differently so that we can compare them later.\n",
    "</div>\n",
    "\n",
    "Optional: You can also check the rosseland mean optical depth: \n",
    "```python\n",
    "from tardis.workflows.util import get_tau_integ\n",
    "tau = get_tau_integ(\n",
    "        sim.plasma,\n",
    "        sim.opacity_state,\n",
    "        sim.simulation_state,\n",
    "    )[\"rosseland\"].to(1)\n",
    "```"
   ]
  },
  {
   "cell_type": "code",
   "execution_count": null,
   "id": "432cfa65",
   "metadata": {},
   "outputs": [],
   "source": [
    "### this is a guard for the correct v_inner_boundary value\n",
    "v_inner_boundary = 8097.66\n",
    "df_csvy_data = pd.read_csv(\"configs_and_data/tardis_ddt_2013_n100_profile.csvy\", skiprows=35)\n",
    "assert np.isclose( df_csvy_data[\"velocity\"].values[0].round(2), v_inner_boundary, atol=1e-3), f\"Looks like you have not the csvy file yet to adjust the v_inner_boundary, \\n please remove/add rows to make sure the first shells starts at {v_inner_boundary:2f} km/s.\"\n",
    "\n",
    "\n",
    "### keep each simulation named differently so that we can compare them later\n",
    "sim_iter1 = run_tardis(\n",
    "    config,\n",
    "    virtual_packet_logging=True,\n",
    "    show_convergence_plots=True,\n",
    "    export_convergence_plots=True\n",
    ")"
   ]
  },
  {
   "cell_type": "markdown",
   "id": "e1a17aa9",
   "metadata": {},
   "source": [
    "$\\blacktriangleright$ Did the simulation converge? Does the dilution factor make sense? How about $T_{\\text{inner}}$?\n",
    "\n",
    "**Congratulations! You just witnessed an unphysical TARDIS simulation!**\n",
    "\n",
    "If the v_inner_boundary is located too deep where optical depth is too high, relatively few packets will escape, resulting in low output luminosity. To compensate, the convergence solver in TARDIS will increase $T_{\\text{inner}}$ to increase the output energy, but the radiation field condition may no longer be suitable for the physical assumptions in TARDIS.\n",
    "\n",
    "---- \n",
    "\n",
    "The dilution factor should be within the range of (0,1) in normal settings. If the simulation has a dilution factor outside this range, then the results are NOT physical and should NOT be trusted.\n",
    "\n",
    "In the simulation above, the dilution factors are >> 1, which corresponds to a radiation field that no longer follows the blackbody distribution and will provide a false mean intensity estimation.\n",
    "\n",
    "Recall from Day 3, TARDIS uses the `j_blue_estimator` to bridge between the Monte Carlo packets and plasma state to gain information about the radiation field.\n",
    "\n",
    "$\\blacktriangleright$ Run the cell below to see the `j_blue_estimator` vs atomic line wavelength in shell indices [0, 4, 39], labeling each shell with the corresponding dilution factor.\n",
    "\n",
    "Notice that in shells with a dilution factor outside the range of (0,1), the `j_blue_estimator` does NOT follow a blackbody distribution."
   ]
  },
  {
   "cell_type": "code",
   "execution_count": null,
   "id": "4385a6bf",
   "metadata": {},
   "outputs": [],
   "source": [
    "sim = sim_iter1\n",
    "fig, axes = plt.subplots(1,3, figsize=(15, 4))\n",
    "shell_index_s = [0,4,49]\n",
    "for i, shell_index in enumerate(shell_index_s):\n",
    "    ax = axes[i]\n",
    "    j_estimator = sim.transport.transport_state.j_blue_estimator[:,shell_index]\n",
    "    ax.plot(\n",
    "        sim.plasma.atomic_data.lines.wavelength,\n",
    "        j_estimator,\n",
    "        alpha = 0.8\n",
    "    )\n",
    "    ax.set_title(f\"Shell {shell_index} (W = {sim.simulation_state.dilution_factor[shell_index]:.1f})\", fontsize=14)\n",
    "    ax.grid(alpha=0.3)\n",
    "    ax.set_xscale('log')\n",
    "    ax.set_xlabel(r'Wavelength [$\\AA$]')\n",
    "    ax.set_ylabel(r'J Blue Estimator [$erg s^{-1} cm^{-2} Hz^{-1}$]')\n"
   ]
  },
  {
   "cell_type": "markdown",
   "id": "1207f04a",
   "metadata": {},
   "source": [
    "\n",
    "\n",
    "## Iter2 - Iterate to Find Optimal v_inner_boundary\n",
    "\n",
    "The above iteration shows too high of a dilution factor. Let's move the v_inner_boundary outwards with the hope of reducing the dilution factor!\n",
    "\n",
    "$\\blacktriangleright$ Increase the v_inner_boundary to 10122 km/s and run another simulation.\n",
    "\n",
    "<div style=\"background-color:rgb(95, 83, 77); border-left: 4px solid #f44336; padding: 10px; margin: 10px 0;\">\n",
    "<strong>READ THIS:</strong> Due to a recent refactor of the code, the v_inner_boundary setting in the csvy model is not available at the moment (will be fixed soon), so you will have to modify the file manually <strong>for now</strong> to change it. Only keep the shells starting from the intended v_inner_boundary in the csv part of the csvy file. For your convenience, a `tardis_ddt_2013_n100_profile_original.csvy` file is provided if you need to add back inner layers.\n",
    "</div>\n",
    "\n",
    "For this next iteration with v_inner_boundary = 10122 km/s, **modify the csvy file** (delete the data rows with velocity values smaller than 10122).\n"
   ]
  },
  {
   "cell_type": "code",
   "execution_count": null,
   "id": "5780a09d",
   "metadata": {},
   "outputs": [],
   "source": [
    "v_inner_boundary = 10122.08\n",
    "df_csvy_data = pd.read_csv(\"configs_and_data/tardis_ddt_2013_n100_profile.csvy\", skiprows=35)\n",
    "assert np.isclose( df_csvy_data[\"velocity\"].values[0].round(2), v_inner_boundary, atol=1e-3), f\"Looks like you have not the csvy file yet to adjust the v_inner_boundary, \\n please remove/add rows to make sure the first shells starts at {v_inner_boundary:2f} km/s.\"\n",
    "\n",
    "sim_iter2 = run_tardis(\n",
    "    config,\n",
    "    model = simulation_state,\n",
    "    virtual_packet_logging=True,\n",
    "    show_convergence_plots=True,\n",
    "    export_convergence_plots=True,\n",
    ")"
   ]
  },
  {
   "cell_type": "markdown",
   "id": "3fb2483d",
   "metadata": {},
   "source": [
    "## Iter3 - Iterate to Find Optimal v_inner_boundary\n",
    "\n",
    "$\\blacktriangleright$ Did the simulation converge? Does the dilution factor make sense? How does it compare to the previous run?\n",
    "\n",
    "The dilution factors still seem to be in a region of unphysical parameter space, but the value is decreasing as we hoped.\n",
    "\n",
    "$\\blacktriangleright$ Increase the v_inner_boundary out to 15038 km/s and run another simulation. "
   ]
  },
  {
   "cell_type": "code",
   "execution_count": null,
   "id": "91d583bc",
   "metadata": {},
   "outputs": [],
   "source": [
    "v_inner_boundary = 15038.52\n",
    "df_csvy_data = pd.read_csv(\"configs_and_data/tardis_ddt_2013_n100_profile.csvy\", skiprows=35)\n",
    "assert np.isclose( df_csvy_data[\"velocity\"].values[0].round(2), v_inner_boundary, atol=1e-3), f\"Looks like you have not the csvy file yet to adjust the v_inner_boundary, \\n please remove/add rows to make sure the first shells starts at {v_inner_boundary:2f} km/s.\"\n",
    "\n",
    "sim_iter3 = run_tardis(\n",
    "    config,\n",
    "    virtual_packet_logging=True,\n",
    "    show_convergence_plots=True,\n",
    "    export_convergence_plots=True,\n",
    ")"
   ]
  },
  {
   "cell_type": "markdown",
   "id": "0b3b2c15",
   "metadata": {},
   "source": [
    "You have done it! Now the dilution factor is within the physical range (0,1)!\n",
    "\n",
    "## Iter4 - Iterate to Find Optimal v_inner_boundary\n",
    "\n",
    "Since now the dilution factor is smaller than the target value (0.5), let's nudge it in the other direction.\n",
    "\n",
    "$\\blacktriangleright$ Run another simulation with v_inner_boundary of 13014 km/s. **Modify the csvy file** (add the data rows with velocity values between 13014.10 and 15038 km/s from the `tardis_ddt_2013_n100_profile_original.csvy` file.)\n"
   ]
  },
  {
   "cell_type": "code",
   "execution_count": null,
   "id": "3ec0a538",
   "metadata": {},
   "outputs": [],
   "source": [
    "v_inner_boundary = 13014.10\n",
    "df_csvy_data = pd.read_csv(\"configs_and_data/tardis_ddt_2013_n100_profile.csvy\", skiprows=35)\n",
    "assert np.isclose( df_csvy_data[\"velocity\"].values[0].round(2), v_inner_boundary, atol=1e-3), f\"Looks like you have not the csvy file yet to adjust the v_inner_boundary, \\n please remove/add rows to make sure the first shells starts at {v_inner_boundary:2f} km/s.\"\n",
    "\n",
    "sim_iter4 = run_tardis(\n",
    "    config,\n",
    "    virtual_packet_logging=True,\n",
    "    show_convergence_plots=True,\n",
    "    export_convergence_plots=True,\n",
    ")"
   ]
  },
  {
   "cell_type": "markdown",
   "id": "b81ca01b",
   "metadata": {},
   "source": [
    "Congratulations! You are very close! Let's check how close we are, and in an iterative process, it is good practice to do at least one more iteration when you think you have found the optimal solution, to confirm that the answer you found is stable.\n",
    "\n",
    "Before we do that, let's plot the dilution factor vs velocity of all the simulations run so far to provide evidence for a better educated guess. \n",
    "\n",
    "$\\blacktriangleright$ Plot the dilution factors vs velocity of each simulation, and mark the target value W = 0.5 as well."
   ]
  },
  {
   "cell_type": "code",
   "execution_count": null,
   "id": "01afc2d3",
   "metadata": {},
   "outputs": [],
   "source": [
    "# ### uncomment this cell and fill in the comparison code here\n",
    "# fig,ax = plt.subplots(1, 1, figsize=(8, 6))\n",
    "\n",
    "# for i, sim in enumerate([sim_iter1, sim_iter2, sim_iter3, sim_iter4]):\n",
    "#     velocity = ???\n",
    "#     dilution_factor = ???\n",
    "#     ax.plot(\n",
    "#         velocity,\n",
    "#         dilution_factor,\n",
    "#         label=f\"v_inner_boundary={sim.simulation_state.v_inner_boundary.to(u.km/u.s).value:.2f} km/s, W={dilution_factor[0]:.2f}\",\n",
    "#     )\n",
    "\n",
    "# ### Mark the target dilution factor W = 0.5\n",
    "# ax.???\n",
    "\n",
    "# ax.set_yscale(\"log\")\n",
    "# ax.set_xlabel(\"Velocity (km/s)\", fontsize=14)\n",
    "# ax.set_ylabel(\"Dilution Factor\", fontsize=14)\n",
    "# ax.legend(loc=\"upper right\", fontsize=12, ncol=1)\n",
    "# ax.grid(alpha=0.3)  "
   ]
  },
  {
   "cell_type": "markdown",
   "id": "f3d27824",
   "metadata": {},
   "source": [
    "## Iter5 - Iterate to Find Optimal v_inner_boundary\n",
    "\n",
    "The last simulation has a dilution factor of 0.48 in the first shell, which is slightly smaller than 0.5. Let's nudge it two shells further in this time.\n",
    "\n",
    "$\\blacktriangleright$ Run another simulation with v_inner_boundary of 12435 km/s. (Add back 2 rows in the csvy file)\n"
   ]
  },
  {
   "cell_type": "code",
   "execution_count": null,
   "id": "313f6e6e",
   "metadata": {},
   "outputs": [],
   "source": [
    "v_inner_boundary = 12435.69\n",
    "df_csvy_data = pd.read_csv(\"configs_and_data/tardis_ddt_2013_n100_profile.csvy\", skiprows=35)\n",
    "assert np.isclose( df_csvy_data[\"velocity\"].values[0].round(2), v_inner_boundary, atol=1e-3), f\"Looks like you have not the csvy file yet to adjust the v_inner_boundary, \\n please remove/add rows to make sure the first shells starts at {v_inner_boundary:2f} km/s.\"\n",
    "\n",
    "sim_iter5 = run_tardis(\n",
    "    config,\n",
    "    virtual_packet_logging=True,\n",
    "    show_convergence_plots=True,\n",
    "    export_convergence_plots=True,\n",
    ")\n",
    "\n",
    "print(f\"Iteration 5 Dilution Factor: {sim_iter5.simulation_state.dilution_factor[0]}\")"
   ]
  },
  {
   "cell_type": "markdown",
   "id": "7c026ce2",
   "metadata": {},
   "source": [
    "# Analyze the spectrum\n",
    "\n",
    "Congratulations! You found the optimal v_inner_boundary value through an iterative process!\n",
    "\n",
    "$\\blacktriangleright$ Looking at the radiative temperature and dilution factor in the convergence plot, did you notice something interesting?\n",
    "\n",
    "<details>\n",
    "<summary><strong>💡 <u>Click here for Hint</u> </strong></summary>\n",
    "Both the radiative temperature and dilution factor show a slope change at a location around 17,500 km/s.\n",
    "</details>\n",
    "\n",
    "---\n",
    "\n",
    "Let's try to figure this out. What's the physical reason behind this?\n",
    "\n",
    "First, take a look at the spectrum and the ion contribution using the visualization tools we learned in the previous notebook, and also think about the underlying properties of the radiation field and plasma state.\n",
    "\n",
    "$\\blacktriangleright$ Use SDEC plot to visualize the ion contribution (see the previous notebook on how to plot the SDEC plot). "
   ]
  },
  {
   "cell_type": "code",
   "execution_count": null,
   "id": "cf5bf311",
   "metadata": {},
   "outputs": [],
   "source": [
    "### your code here\n",
    "\n",
    "# sim = sim_iter5\n",
    "# plotter = ???"
   ]
  },
  {
   "cell_type": "markdown",
   "id": "e35320c8",
   "metadata": {},
   "source": [
    "$\\blacktriangleright$ What are the dominating ions in this spectrum? Are they representative of observed Type Ia supernovae (which are usually dominated by iron-group element line opacity in the UV, and intermediate-mass elements such as S, Si, Ca, and Mg in the optical region)?\n",
    "\n",
    "----\n",
    "\n",
    "$\\blacktriangleright$ Run the next code cell to Zoom in on the [7740, 8600] $\\AA$ region (using virtual packets) where the Ca II NIR triplets feature is, and is it purely Ca II? If not what are the other ions that also contribute to this feature? \n",
    "\n",
    "----\n",
    "\n",
    "The feature is dominated by Ca II but also has contribution from other irons such as Mg II and Si III, this is a perfect sample of how SDEC can be used to decompose the ion contribution in blended regions.\n"
   ]
  },
  {
   "cell_type": "code",
   "execution_count": null,
   "id": "d76fb7fa",
   "metadata": {},
   "outputs": [],
   "source": [
    "sim = sim_iter5\n",
    "wavelength_range = [7740, 8600]\n",
    "\n",
    "# plot the SDEC plot\n",
    "plotter = SDECPlotter.from_simulation(sim)\n",
    "plotter.generate_plot_mpl(\n",
    "    packets_mode=\"virtual\",\n",
    "    packet_wvl_range=wavelength_range * u.AA,\n",
    "    species_list=[\"C I-III\", \"O I-III\",\"Ne I-III\", \"Mg I-III\", \"S I-III\", \"Si I-III\", \"Ca I-III\", \"Fe I-III\", \"Co I-III\", \"Ni I-III\"],\n",
    ")\n",
    "\n",
    "# using the LineInfoWidget data to see which ions are the dominant contributors to the spectrum\n",
    "line_info_widget = LineInfoWidget.from_simulation(sim)\n",
    "display(\n",
    "    line_info_widget.get_species_interactions(\n",
    "        wavelength_range=wavelength_range, filter_mode=\"packet_out_nu\"\n",
    "    )\n",
    ")"
   ]
  },
  {
   "cell_type": "markdown",
   "id": "aaeb0480",
   "metadata": {},
   "source": [
    "\n",
    "---\n",
    "\n",
    "Let's continue the investigation of the line formation region and the corresponding ejecta properties of the shells. We will plot the following information:\n",
    "\n",
    "- A Line Interaction Velocity plot using the LIVplotter\n",
    "- The mass fraction and density profile as a function of shell velocity\n",
    "- The radiative temperature and dilution factor as a function of shell velocity\n",
    "\n",
    "$\\blacktriangleright$ Uncomment the cell below and fill in the values in the code cell below to finish the comparison plot."
   ]
  },
  {
   "cell_type": "code",
   "execution_count": null,
   "id": "f58f9503",
   "metadata": {},
   "outputs": [],
   "source": [
    "# ## define a figure with 3 subplots that shares the same x-axis\n",
    "# fig, axes = plt.subplots(3, 1, figsize=(8, 12),sharex=True)\n",
    "# #### plot the LIV plot in axes[0]\n",
    "# sim = sim_iter5\n",
    "# liv_plotter = LIVPlotter.from_simulation(sim)\n",
    "# liv_plotter.generate_plot_mpl(\n",
    "#     packets_mode=\"real\",\n",
    "#     ylog_scale=True,\n",
    "#     ax = axes[0],\n",
    "# )\n",
    "# ymin,ymax = axes[0].get_ylim()\n",
    "# axes[0].set_ylim(1e1, ymax)\n",
    "\n",
    "# #### extract the elements plotted in the LIV plot and their colors from the legend\n",
    "# handles, element_labels = liv_plotter.ax.get_legend_handles_labels()\n",
    "# element_plot_colors = [handle.get_color() for handle in handles]    \n",
    "# element_atomic_numbers = [element_symbol2atomic_number(element) for element in element_labels]\n",
    "\n",
    "# #### plot the mass fraction of the elements vs shell velocities in axes[1]\n",
    "# for i, element_atomic_number in enumerate(element_atomic_numbers):\n",
    "#     axes[1].plot(\n",
    "#         ???,\n",
    "#         ???,\n",
    "#         label=element_labels[i],\n",
    "#         color=element_plot_colors[i],\n",
    "#     )\n",
    "# axes[1].set_xlabel(\"Velocity (km/s)\", fontsize=14)\n",
    "# axes[1].set_ylabel(\"Mass fraction\", fontsize=14)\n",
    "# axes[1].set_yscale(\"log\")\n",
    "# axes[1].set_ylim(1e-7, 1e0)\n",
    "\n",
    "# #### plot the density profile vs velocity in axes[1].twinx()\n",
    "# ax_twin = axes[1].twinx()\n",
    "# ax_twin.plot(\n",
    "#     ???,\n",
    "#     ???,\n",
    "#     \"k--\",\n",
    "#     lw=2,\n",
    "#     label=f\"Density (g/cm³) at t={sim.simulation_state.time_explosion.to(u.day):.0f} day\",\n",
    "# )\n",
    "# ax_twin.set_ylabel(f\"Density (g/cm³) at t={sim.simulation_state.time_explosion.to(u.day):.0f} day\", fontsize=14)\n",
    "# ax_twin.legend(loc=\"upper right\", fontsize=12, ncol=1)\n",
    "\n",
    "# #### plot the T_rad vs velocity\n",
    "# axes[2].plot(\n",
    "#     ???,\n",
    "#     ???,\n",
    "#     \"r-\",\n",
    "#     lw=2,\n",
    "#     label=\"Radiative Temperature\",\n",
    "# )\n",
    "# axes[2].set_xlabel(\"Velocity (km/s)\", fontsize=14)\n",
    "# axes[2].set_ylabel(\"Radiative Temperature (K)\", fontsize=14)\n",
    "# axes[2].legend(loc=\"upper left\", fontsize=12, ncol=1)\n",
    "# #### plot the dilution factor vs velocity\n",
    "# axes_twin2 = axes[2].twinx()\n",
    "# axes_twin2.plot(\n",
    "#     ???,\n",
    "#     ???,\n",
    "#     \"b--\",\n",
    "#     lw=2,\n",
    "#     label=f\"Dilution Factor\",\n",
    "# )\n",
    "# axes_twin2.legend(loc=\"upper right\", fontsize=12, ncol=1)\n",
    "# axes_twin2.set_ylabel(f\"Dilution Factor W\", fontsize=14,color=\"b\")\n",
    "\n",
    "# for ax in axes:\n",
    "#     ax.grid(alpha=0.3)\n",
    "#     ax.tick_params(labelsize=12, labelbottom=True)\n"
   ]
  },
  {
   "cell_type": "markdown",
   "id": "9689a745",
   "metadata": {},
   "source": [
    "From the above comparison of the last line interaction velocity, mass fraction, density, and dilution factor, let's think about the concepts we have learned in the past 3 days.\n",
    "\n",
    "$\\blacktriangleright$ Question 1: Computationally in TARDIS, what affects the quantity of interaction between an energy packet and ions (represented in a macroatom)?\n",
    "\n",
    "$\\blacktriangleright$ Question 2: How does TARDIS estimate the radiation field after the transport state?\n",
    "\n",
    "$\\blacktriangleright$ Question 3: From the plot above, what caused the slope change in the radiative temperature and dilution factor, and why? \n",
    "\n",
    "---\n",
    "<details>\n",
    "<summary><strong>💡 <u> Click here for Hint 1</u> </strong></summary>\n",
    "The line interaction event is determined by the <strong>Sobolev optical depth</strong> (recall from Day 1 slides and Day 2 plasma introduction notebook), which depends on the wavelength-dependent cross section, level number density and the time since explosions. The cross section is based on the atomic data, and the ionization/level populations depend on the <strong>radiative temperature</strong>.\n",
    "</details>\n",
    "\n",
    "<br>\n",
    "\n",
    "<details>\n",
    "<summary><strong>💡 <u> Click here for Hint 2</u> </strong></summary>\n",
    "TARDIS uses estimators (recall from Day 3 afternoon) to collect information from the packets that transport through the plasma, and obtains the mean intensity and mean frequency estimators to estimate the radiative temperature and dilution factor, <a href=\"https://tardis-sn.github.io/tardis/physics/update_and_conv/update_and_conv.html#T_\\mathrm{rad}-and-W\">see more details in this documentation page</a>\n",
    "</details>\n",
    "\n",
    "<br>\n",
    "\n",
    "<details>\n",
    "<summary><strong>💡 <u> Click here for Hint 3</u> </strong></summary>\n",
    "It seems to be strongly correlated with the mass fraction of the iron-group elements, which affects the balance of the plasma state, hence the radiation field.\n",
    "</details>"
   ]
  },
  {
   "cell_type": "markdown",
   "id": "e9b450cd",
   "metadata": {},
   "source": [
    "---\n",
    "# Summary\n",
    "\n",
    "This notebook demonstrates the process of producing synthetic spectra for hydrodynamic explosion models using TARDIS, focusing on a delayed detonation Type Ia supernova model from [Heidelberg Supernova Model Archive (HESMA, see reference within)](https://old-hesma.h-its.org/doku.php?id=data:models:ddt_2013_n100_overview).\n",
    "\n",
    "**Key Physical Concepts**\n",
    "\n",
    "**Homologous Expansion**: During the photospheric phase, supernova ejecta undergo homologous expansion where $\\rho(t) = \\rho(t_0) \\left(\\frac{t}{t_0}\\right)^{-3}$ while maintaining velocity structure. This enables time-series modeling from a single hydrodynamic snapshot by scaling density and evolving radioactive isotopes.\n",
    "\n",
    "**Photospheric Boundary Determination**: The critical challenge lies in identifying the optimal $v_{\\text{inner}}$ boundary representing the photosphere ($\\tau \\approx 2/3$). TARDIS uses the dilution factor criterion $W = 0.5$, where $W$ represents the fraction of energy escaping.\n",
    "\n",
    "\n",
    "**Tips for using TARDIS for post-processing hydro models**\n",
    "\n",
    "---"
   ]
  },
  {
   "cell_type": "markdown",
   "id": "edddc0ec",
   "metadata": {},
   "source": [
    "# Optional Explorations\n",
    "\n",
    "If you have more free time and feel comfortable, you can continue exploring TARDIS for the purpose of post-processing hydro simulation outcomes! Here are some suggestions:\n",
    "\n",
    "- Pick another time snapshot and repeat this workflow: go back to the step \"Set up the time and luminosity\" to pick another time snapshot, and repeat the workflow to produce another spectrum. Compare the spectrum at t = 10 days past explosion and analyze the differences and reasons behind them. \n",
    "\n",
    "or \n",
    "\n",
    "- Process a time snapshot of a hydro model that you are interested in, first make sure the model is in homologous expansion and then parse the ejecta model into a csvy file. Start a new yml for this model and try repeat the workflow in this notebook. \n",
    "\n"
   ]
  },
  {
   "cell_type": "code",
   "execution_count": null,
   "id": "d8402696",
   "metadata": {},
   "outputs": [],
   "source": []
  }
 ],
 "metadata": {
  "kernelspec": {
   "display_name": "base",
   "language": "python",
   "name": "python3"
  },
  "language_info": {
   "codemirror_mode": {
    "name": "ipython",
    "version": 3
   },
   "file_extension": ".py",
   "mimetype": "text/x-python",
   "name": "python",
   "nbconvert_exporter": "python",
   "pygments_lexer": "ipython3",
   "version": "3.13.2"
  }
 },
 "nbformat": 4,
 "nbformat_minor": 5
}
