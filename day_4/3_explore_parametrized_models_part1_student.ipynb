{
 "cells": [
  {
   "cell_type": "markdown",
   "id": "27178a65",
   "metadata": {},
   "source": [
    "# Overview: Modify Parameterized Ejecta Models to Analyze Synthetic Spectral Differences\n",
    "\n",
    "Whether you are using TARDIS to post-process hydro model outcomes or finding a parameterized model to match observations, understanding how ejecta model parameters affect synthetic spectra is crucial for analyzing the physical outcomes of your work. \n",
    "\n",
    "Let's make some variations of the input ejecta model and explore the spectral differences! \n",
    "\n",
    "To make this process more engaging, we provide the following files for this notebook:\n",
    "- `tardis_uniform_abundance.yml`: The TARDIS configuration file based on the work from [O'Brien 2021](https://ui.adsabs.harvard.edu/abs/2021ApJ...916L..14O/abstract) for inferring the observed spectrum of SN2002bo at early times (parameters are modified for the purpose of this notebook).\n",
    "- An observed spectrum file of SN2002bo at early times from [Silverman et al. 2012](https://ui.adsabs.harvard.edu/abs/2012MNRAS.425.1789S/abstract): Intended to be used as a reference spectrum when adjusting the ejecta model parameters. \n",
    "\n",
    "---\n",
    "\n",
    "$\\blacktriangleright$ Run the cell below to import the modules you need. "
   ]
  },
  {
   "cell_type": "code",
   "execution_count": null,
   "id": "75225f8b",
   "metadata": {},
   "outputs": [],
   "source": [
    "import pandas as pd\n",
    "import numpy as np\n",
    "import matplotlib.pyplot as plt\n",
    "from copy import deepcopy\n",
    "from scipy.ndimage import gaussian_filter1d\n",
    "\n",
    "from tardis import run_tardis\n",
    "from tardis.io.configuration.config_reader import Configuration\n",
    "from tardis.visualization import SDECPlotter, LineInfoWidget, CustomAbundanceWidget\n",
    "from tardis.visualization.tools.liv_plot import LIVPlotter\n",
    "from tardis.util.base import atomic_number2element_symbol, int_to_roman, element_symbol2atomic_number\n",
    "from tardis.workflows.util import get_tau_integ\n",
    "\n",
    "\n",
    "from astropy import units as u\n",
    "from astropy import constants as const\n"
   ]
  },
  {
   "cell_type": "markdown",
   "id": "008600e2",
   "metadata": {},
   "source": [
    "# Load the observed spectrum\n",
    "\n",
    "The original observed spectrum is taken from [WISEReP](https://www.wiserep.org/object/7161), contributed by [Silverman et al. 2012](https://ui.adsabs.harvard.edu/abs/2012MNRAS.425.1789S/abstract). \n",
    "\n",
    "Based on [Benetti et al. 2014](https://ui.adsabs.harvard.edu/abs/2004MNRAS.348..261B/abstract), SN2002bo has the following properties:\n",
    "- Redshift = 0.0043\n",
    "- Distance (d) = 31.67 Mpc\n",
    "- UVOIR luminosity at this epoch ~ 2e42 erg/s, with roughly 80% contributing to the observed wavelength range of the given spectrum.\n",
    "- Rest frame epoch of -12 days relative to peak light.\n",
    "\n",
    "The file is available at `configs_and_data/SN2002bo_2002-03-11_06-14-24_Lick-3m_KAST_BSNIP.dat`.\n",
    "\n",
    "---\n",
    "\n",
    "$\\blacktriangleright$**<span style=\"background-color: rgba(255, 255, 0, 0.3); padding: 4px;\">📝Task</span>**\n",
    "\n",
    "Assuming the observed spectrum is flux-calibrated, convert the observed flux to luminosity density so that we can compare with the TARDIS synthetic spectra directly. Use astropy units for this task. Integrate over the converted luminosity density over wavelength to see if the luminosity matches the literature value!\n",
    "\n",
    "**Physics Background**: \n",
    "- Observed flux: $F_{\\lambda}$ has units of [erg $s^{-1}$ $cm^{-2}$ $\\AA^{-1}$]\n",
    "- Luminosity density: $L_{\\lambda}$ has units of [erg $s^{-1}$ $\\AA^{-1}$]\n",
    "- Conversion: $L_{\\lambda} = F_{\\lambda} \\times 4\\pi d^2$, where d is the distance between the observer and the source\n",
    "\n",
    "This conversion process shifts the spectrum to the same physical space as TARDIS for direct comparison, converting the observed flux at Earth to the total luminosity emitted isotropically at the source.\n",
    "\n",
    "<details>\n",
    "<summary><strong>💡 <u>Click here for Hint</u> </strong></summary>\n",
    "The luminosity density converted from the observed supernova spectrum should be on the order of 1e38 erg / s / A\n",
    "</details>\n",
    "\n",
    "----\n",
    "<div style=\"border: 2px solid #ff9800; border-radius: 5px; padding: 10px; margin: 10px 0; background-color: #fff3e0;\">\n",
    "<strong>⚠️ Note:</strong> When converting pandas DataFrames to astropy quantities, use <code>.values</code> to extract the numerical array first (e.g., <code>spec_obs[\"wavelength\"].values * u.AA</code>). This ensures proper unit handling and avoids potential conflicts between pandas and astropy.\n",
    "</div>\n",
    "\n"
   ]
  },
  {
   "cell_type": "code",
   "execution_count": null,
   "id": "7951f59d",
   "metadata": {},
   "outputs": [],
   "source": [
    "# #### uncomment the cell and fill in the missing parts\n",
    "# DISTANCE_OBSERVATION = 31.67 * u.Mpc\n",
    "\n",
    "# spec_obs = pd.read_csv(\n",
    "#     \"configs_and_data/SN2002bo_2002-03-11_06-14-24_Lick-3m_KAST_BSNIP.dat\",\n",
    "#     header=None,\n",
    "#     sep=r\"\\s+\",\n",
    "#     names=[\"wavelength\", \"flux\"],\n",
    "# )\n",
    "\n",
    "# spec_obs[\"wavelength\"] = ???  # deredshift the wavelength too\n",
    "# spec_obs[\"luminosity_density\"] = ???\n",
    "\n",
    "# ### plot the luminosity_density vs wavelength"
   ]
  },
  {
   "cell_type": "markdown",
   "id": "5c5b7b90",
   "metadata": {},
   "source": [
    "# Run the simulation with the unmodified config\n",
    "\n",
    "$\\blacktriangleright$ run cell below."
   ]
  },
  {
   "cell_type": "code",
   "execution_count": null,
   "id": "d957a5f1",
   "metadata": {},
   "outputs": [],
   "source": [
    "# run the simulation with the base configuration\n",
    "config_base = Configuration.from_yaml(\"configs_and_data/tardis_uniform_abundance.yml\")\n",
    "sim_base = run_tardis(\n",
    "    config_base,\n",
    "    virtual_packet_logging=True,\n",
    "    show_convergence_plots=True,\n",
    "    export_convergence_plots=True,\n",
    "    log_level=\"INFO\",\n",
    ")"
   ]
  },
  {
   "cell_type": "markdown",
   "id": "723cca43",
   "metadata": {},
   "source": [
    "# SDEC Plot with Observed Spectrum Overlay\n",
    "\n",
    "$\\blacktriangleright$ Make an SDEC plot and overplot the observed spectrum on top.\n",
    "\n",
    "How does the luminosity density of the synthetic spectrum compare to the observed one? If they differ, how can we adjust the ejecta model parameters in the TARDIS configuration to better match the observation?"
   ]
  },
  {
   "cell_type": "markdown",
   "id": "4d1a569e",
   "metadata": {},
   "source": [
    "\n",
    "---\n",
    "In this notebook, you will plot the comparison of the simulation SDEC plot with the observed spectrum quite many times. To make it more convenient, let's create a function to do this, taking the simulation object and the observed spectrum dataframe as input.\n",
    "\n"
   ]
  },
  {
   "cell_type": "code",
   "execution_count": null,
   "id": "314e42d2",
   "metadata": {},
   "outputs": [],
   "source": [
    "# #### uncomment the cell and fill in the missing parts\n",
    "# def plot_SDEC_with_observations(sim, spec_obs, ax=None):\n",
    "#     if ax is None:\n",
    "#         fig, ax = plt.subplots(figsize=(10, 6))\n",
    "\n",
    "#     # SDEC plot\n",
    "#     plotter = SDECPlotter.from_simulation(sim)\n",
    "#     plotter.generate_plot_mpl(\n",
    "#         packets_mode=\"virtual\",\n",
    "#         packet_wvl_range=[3000, 10000] * u.AA,\n",
    "#         ax=ax,\n",
    "#     )\n",
    "\n",
    "#     # plot the observed spectrum\n",
    "#     ax.plot(???)\n",
    "#     ax.grid(alpha=0.3)\n",
    "\n",
    "# plot_SDEC_with_observations(sim_base, spec_obs)"
   ]
  },
  {
   "cell_type": "markdown",
   "id": "959b59ff",
   "metadata": {},
   "source": [
    "# Changing Requested Luminosity \n",
    "\n",
    "You probably noticed that the synthetic spectral luminosity is lower than the observed spectrum. You guessed correctly that we can increase the `supernova.luminosity_requested` in the TARDIS config file to nudge it towards a higher value. \n",
    "\n",
    "For the purpose of matching the observed spectrum, if we are confident about the bolometric luminosity of the observed object, we can directly use that value as the starting point.\n",
    "\n",
    "Based on [Benetti et al. 2014](https://ui.adsabs.harvard.edu/abs/2004MNRAS.348..261B/abstract), SN2002bo has a UVOIR (UV + Optical + IR) luminosity of ~2e42 erg/s at the time when this spectrum was taken. \n",
    "\n",
    "$\\blacktriangleright$ Update the luminosity_requested setting in the config, then run the simulation under the name `sim_match_L_SN`.\n",
    "\n",
    "----\n",
    "\n",
    "For exploring purpose, run another simulation named `sim_higher_L` with 3e42 erg/s as the luminosity, and compare the spectral features of these three simulations."
   ]
  },
  {
   "cell_type": "code",
   "execution_count": null,
   "id": "674fa242",
   "metadata": {},
   "outputs": [],
   "source": [
    "# ### uncomment the cell and fill in the value below to run the simulation with a luminosity matched with the observed spectrum\n",
    "# print(config_base.supernova)\n",
    "# config_match_L_SN = deepcopy(config_base)\n",
    "\n",
    "# ### change the requested luminosity\n",
    "# config_match_L_SN.supernova.luminosity_requested = ???\n",
    "\n",
    "# print(config_match_L_SN.supernova)\n",
    "\n",
    "# sim_match_L_SN = run_tardis(\n",
    "#     config_match_L_SN,\n",
    "#     virtual_packet_logging=True,\n",
    "#     show_convergence_plots=True,\n",
    "#     export_convergence_plots=True,\n",
    "#     log_level=\"INFO\",\n",
    "# )"
   ]
  },
  {
   "cell_type": "markdown",
   "id": "6c5b6d5c",
   "metadata": {},
   "source": [
    "$\\blacktriangleright$ Run another simulation with higher luminosity (3e42 erg/s) using the name  `sim_higher_L`"
   ]
  },
  {
   "cell_type": "code",
   "execution_count": null,
   "id": "10a76c37",
   "metadata": {},
   "outputs": [],
   "source": [
    "# ### uncomment the cell and fill in the value below to run the simulation with a luminosity higher than the observed spectrum\n",
    "# print(config_base.supernova)\n",
    "# config_higher_L = deepcopy(config_base)\n",
    "\n",
    "# ### change the requested luminosity\n",
    "# config_higher_L.supernova.luminosity_requested = ???\n",
    "\n",
    "# print(config_higher_L.supernova)\n",
    "\n",
    "# sim_higher_L = run_tardis(\n",
    "#     config_higher_L,\n",
    "#     virtual_packet_logging=True,\n",
    "#     show_convergence_plots=True,\n",
    "#     export_convergence_plots=True,\n",
    "#     log_level=\"INFO\",\n",
    "# )"
   ]
  },
  {
   "cell_type": "code",
   "execution_count": null,
   "id": "b002095f",
   "metadata": {},
   "outputs": [],
   "source": [
    "print(config_base.supernova)\n",
    "config_higher_L = deepcopy(config_base)\n",
    "\n",
    "### change the requested luminosity\n",
    "config_higher_L.supernova.luminosity_requested = 3e42 * u.erg / u.s\n",
    "\n",
    "print(config_higher_L.supernova)\n",
    "\n",
    "sim_higher_L = run_tardis(\n",
    "    config_higher_L,\n",
    "    virtual_packet_logging=True,\n",
    "    show_convergence_plots=True,\n",
    "    export_convergence_plots=True,\n",
    "    log_level=\"INFO\",\n",
    ")"
   ]
  },
  {
   "cell_type": "markdown",
   "id": "693c2ba1",
   "metadata": {},
   "source": [
    "$\\blacktriangleright$**<span style=\"background-color: rgba(255, 255, 0, 0.3); padding: 4px;\">📝Task</span>**\n",
    "\n",
    "Plot the spectral comparison of the observed spectrum vs all three simulations you ran above. Does the spectral continuum shape match better with the observed spectrum when matching the luminosity with the observed value?\n",
    "\n",
    "Recall the components in the previous days and think about what changing the requested luminosity does under the hood of TARDIS: \n",
    "\n",
    "1. How does the **radiation field** change with luminosity?\n",
    "\n",
    "2. How do the **plasma state** change with the radiation field?\n",
    "\n",
    "3. Check the **ion contributions** and ionization states - how are they affected?\n",
    "\n",
    "<details>\n",
    "<summary><strong>💡 <u>Click here for Hint</u> </strong></summary>\n",
    "Higher luminosity means there are more energy escaped from the outer layer, which can be caused by less absorptions along the ejecta and/or higher temperature. Compare the t_inner (the inner boundary temperature, which defined the initial energy distribution of the packets) and t_radiative (the radiative temperature of each shell) within \"sim.simulation_state\" class.  Recall from day 2, the temperature affect the ionization and excitation balance, essentially determines the level number density that affects the tau sobolev optical depth. \n",
    "</details>\n"
   ]
  },
  {
   "cell_type": "markdown",
   "id": "46bc9e58",
   "metadata": {},
   "source": [
    "---\n",
    "Similarly, let's make a function for comparing the simulation spectra to be used for future comparison as well. "
   ]
  },
  {
   "cell_type": "code",
   "execution_count": null,
   "id": "0ebb7c12",
   "metadata": {},
   "outputs": [],
   "source": [
    "### uncomment the cell and fill in the missing parts\n",
    "# def plot_spectral_comparison(simulations, spec_obs, ax=None, labels=None):\n",
    "#     if ax is None:\n",
    "#         fig, ax = plt.subplots(1, 1, figsize=(10, 6))\n",
    "#     # plot the observed spectrum\n",
    "#     ax.plot(???)\n",
    "#     for sim in simulations:\n",
    "#         if labels is not None:\n",
    "#             label = labels[sim]\n",
    "#         else:\n",
    "#             luminosity = ???\n",
    "#             v_inner = ???\n",
    "#             T_inner = ???\n",
    "#             label = (\n",
    "#                 f\"L = {luminosity:.2e}, v_inner = {v_inner:.0f}, T_inner = {T_inner:.0f}\"\n",
    "#             )\n",
    "#         # plot the simulated spectrum, ideally we should be using formal integral but due to time cost\n",
    "#         # let's use the virtual packets\n",
    "#         sim_wavelength = sim.spectrum_solver.spectrum_virtual_packets.wavelength\n",
    "#         sim_luminosity_density = sim.spectrum_solver.spectrum_virtual_packets.luminosity_density_lambda ## or can use gaussian_filter1d to smooth it for plotting purposes\n",
    "#         ax.plot(sim_wavelength, sim_luminosity_density, alpha=0.6, label=label)\n",
    "\n",
    "#     ax.tick_params(axis=\"both\", labelsize=12)\n",
    "#     ax.set_xlabel(r\"Wavelength ($\\AA$)\", fontsize=14)\n",
    "#     ax.set_ylabel(r\"Luminosity Density (erg s$^{-1}$ $\\AA^{-1}$)\", fontsize=14)\n",
    "#     ax.legend()\n",
    "#     ax.grid(alpha=0.3)\n",
    "#     ax.set_xlim(3000, 11000)\n",
    "\n",
    "# simulations = [sim_base, sim_match_L_SN, sim_higher_L]\n",
    "# plot_spectral_comparison(simulations, spec_obs)\n"
   ]
  },
  {
   "cell_type": "markdown",
   "id": "00d90618",
   "metadata": {},
   "source": [
    "$\\blacktriangleright$ Compare the radiative temperature as a function of shell velocity for all above three simulations, and labels each one with the luminosity setting and converged T_inner value.\n"
   ]
  },
  {
   "cell_type": "code",
   "execution_count": null,
   "id": "7466f387",
   "metadata": {},
   "outputs": [],
   "source": [
    "# your code here"
   ]
  },
  {
   "cell_type": "markdown",
   "id": "814b9c3d",
   "metadata": {},
   "source": [
    "$\\blacktriangleright$ Run the cell below to show the SDEC plot comparison with the observed spectrum for all three simulations. \n",
    "\n",
    "---\n",
    "\n",
    "**Changing the requested luminosity does NOT simply scales the spectrum up or down, but change the balance between the radiation field and plasma state.**\n",
    "\n",
    "- **Temperature Structure Changes**: Higher luminosity increases the inner boundary temperature (T_inner) and radiative temperatures throughout the ejecta, see the radiative temperature comparison you plotted above. Recall from day 1, the T_inner determines the packet distribution initiated at the v_inner_boundary.\n",
    "\n",
    "- **Ionization Balance Shifts**: Recall from Day 2 that temperature directly affects ionization equilibrium. Higher temperatures drive higher ionization states.\n",
    "\n",
    "- **Line Opacity Modifications**: Recall from Day 2, the level number density affects the Sobolev optical depth for specific line transition.\n",
    "\n",
    "For example, some of you might noticed in the Day 2 plasma exploration notebook that Ca II NIR triplets tau_Sobolev decrease with higher temperature (ionization/excitation balance shifts), and we see that effect as weaker Ca II NIR triplets feature in the synthetic spectrum.\n"
   ]
  },
  {
   "cell_type": "code",
   "execution_count": null,
   "id": "6f8a660d",
   "metadata": {},
   "outputs": [],
   "source": [
    "# ## plot the SDEC plot, match the x and y range for better visual comparison\n",
    "# fig, axes = plt.subplots(3, 1, figsize=(10, 15), sharex=True, sharey=False)\n",
    "# plot_SDEC_with_observations(sim_base, spec_obs, ax=axes[0])\n",
    "# plot_SDEC_with_observations(sim_match_L_SN, spec_obs, ax=axes[1])\n",
    "# plot_SDEC_with_observations(sim_higher_L, spec_obs, ax=axes[2])\n"
   ]
  },
  {
   "cell_type": "markdown",
   "id": "32b7b4b6",
   "metadata": {},
   "source": [
    "# Estimate v_inner_boundary from observation \n",
    "\n",
    "Just like what we explored in the morning, the v_inner_boundary is an important setting in TARDIS. If the v_inner_boundary is set at a location far too inward or outward of the photosphere, the synthetical spectrum likely are not physical.\n",
    "\n",
    "---\n",
    "\n",
    "**Si II $\\lambda\\lambda$ 6355 as Photospheric Velocity Indicator?**\n",
    "\n",
    "The Si II $\\lambda\\lambda$ 6355 absorption line is one of the most prominent features in Type Ia supernova spectra and serves as a key diagnostic for measuring photospheric expansion velocities in observational studies. The absorption minimum of this line provides an estimate of the velocity at which the photosphere is expanding.\n",
    "\n",
    "**Velocity calcualton from absorption minima:**\n",
    "$$v = c \\times \\frac{\\lambda_{rest} - \\lambda_{obs}}{\\lambda_{rest}}$$\n",
    "\n",
    "**Practical Application:**\n",
    "For simulation purpose, this velocity estimate can serve as an educated guess for the `v_inner` boundary in TARDIS.\n",
    "\n",
    "$\\blacktriangleright$**<span style=\"background-color: rgba(255, 255, 0, 0.3); padding: 4px;\">📝Task</span>**\n",
    "\n",
    "1. **Identify Si II absorption**: Locate the Si II $\\lambda$ 6355 absorption minimum wavelength in the observed spectrum\n",
    "2. **Calculate velocity**: Use the Doppler shift formula to estimate the expansion velocity  \n",
    "3. **Apply as v_inner**: Use this velocity as a guess for the inner boundary and run the simulation \n",
    "\n",
    "---\n",
    "\n",
    "<details>\n",
    "<summary><strong>💡 <u>Click here for Hint</u> </strong></summary>\n",
    "The measured Si II velocity shoud be around 16550 km/s. \n",
    "</details>"
   ]
  },
  {
   "cell_type": "code",
   "execution_count": null,
   "id": "0bd88a1e",
   "metadata": {},
   "outputs": [],
   "source": [
    "# your code here to measure the observed Si II 6355 velocity\n",
    "\n",
    "# expansion_velocity_km_s = xxx * u.km/u.s"
   ]
  },
  {
   "cell_type": "markdown",
   "id": "7f97f5ea",
   "metadata": {},
   "source": [
    "$\\blacktriangleright$ Apply this new v_inner_boundary value in the config and run the simulation "
   ]
  },
  {
   "cell_type": "code",
   "execution_count": null,
   "id": "38419bb2",
   "metadata": {},
   "outputs": [],
   "source": [
    "# ### uncomment the cell and fill in the missing parts\n",
    "# print(\n",
    "#     f\"Previous v_inner: {config_match_L_SN.model.structure.velocity.start.to(u.km / u.s):.0f}\"\n",
    "# )\n",
    "# config_change_v_inner = deepcopy(config_match_L_SN)\n",
    "# # Apply the physics-based estimate of v_inner\n",
    "# config_change_v_inner.model.structure.velocity.start = ???\n",
    "# print(\n",
    "#     f\"New v_inner (from Si II): {config_change_v_inner.model.structure.velocity.start.to(u.km / u.s):.0f}\"\n",
    "# )\n",
    "\n",
    "# sim_change_v_inner = run_tardis(\n",
    "#     config_change_v_inner,\n",
    "#     virtual_packet_logging=True,\n",
    "#     show_convergence_plots=False,\n",
    "#     export_convergence_plots=False,\n",
    "#     log_level=\"INFO\",\n",
    "# )\n"
   ]
  },
  {
   "cell_type": "markdown",
   "id": "fbca6513",
   "metadata": {},
   "source": [
    "$\\blacktriangleright$**<span style=\"background-color: rgba(255, 255, 0, 0.3); padding: 4px;\">📝Task</span>**\n",
    "\n",
    "**Compare results**: See how this observation-inferred estimation compares to previous choices of v_inner.\n",
    "\n",
    "How do the dilution factors change? Does the starting shell reach a dilution factor of 0.5?  \n",
    "\n",
    "How does the spectrum differ from the previous simulations. and from the observed spectrum?\n"
   ]
  },
  {
   "cell_type": "code",
   "execution_count": null,
   "id": "23e529af",
   "metadata": {},
   "outputs": [],
   "source": [
    "### uncomment the cell and fill in the missing parts\n",
    "\n",
    "# def plot_dilution_factor(simulations, ax=None, labels=None):\n",
    "#     for i, sim in enumerate(simulations):\n",
    "#         velocity = ???\n",
    "#         W = ???\n",
    "#         if labels is not None:\n",
    "#             label = labels[sim]\n",
    "#         else:\n",
    "#             luminosity = sim.results[\"luminosity\"]\n",
    "#             v_inner = sim.results[\"v_inner\"]\n",
    "#             T_inner = sim.results[\"T_inner\"]\n",
    "#             label = f\"L = {lum:.2e} erg/s, v_inner = {v_inner:.0f}, T_inner = {T_inner:.0f}\"\n",
    "#         ax.plot(\n",
    "#             velocity,\n",
    "#             W,\n",
    "#             alpha=0.8,\n",
    "#             label=label,\n",
    "#         )\n",
    "\n",
    "# fig, axes = plt.subplots(3, 1, figsize=(12, 16))\n",
    "# plt.subplots_adjust(hspace=0.4)\n",
    "\n",
    "# # plot SDEC with the new v_inner\n",
    "# plot_SDEC_with_observations(sim_change_v_inner, spec_obs, ax=axes[0])\n",
    "\n",
    "# sim_s = [sim_base, sim_match_L_SN, sim_change_v_inner]\n",
    "# # compare the spectra with all previous simulations\n",
    "# plot_spectral_comparison(sim_s, spec_obs, ax=axes[1])\n",
    "\n",
    "# # plot the optical depth current simulation and the one the base config(see the notebook in the morning)\n",
    "# plot_dilution_factor(sim_s, ax=axes[2])"
   ]
  },
  {
   "cell_type": "markdown",
   "id": "369a93a7",
   "metadata": {},
   "source": [
    "\n",
    "---\n",
    "\n",
    "Before we move on, let's assess the current spectral match:\n",
    "- Are the absorption line positions of Si II matching the observed spectrum?  \n",
    "- How about the spectral line profiles of other ions (such as S II, Ca II)?\n",
    "- Which feature has the biggest discrepancy between the synthetic and observed spectra?\n",
    "\n",
    "**What's next?**: Let's hold v_inner constant for now and systematically explore how other parameters (density, abundance) affect the spectrum before making further adjustments to v_inner.\n",
    "\n",
    "---\n",
    "\n",
    "**Key Insight: Parameterized vs. Hydro Models**\n",
    "\n",
    "Unlike the post-processing workflow with hydro models, parameterized models offer more flexibility but also more complexity:\n",
    "\n",
    "- **Multiple free parameters**: Luminosity, v_inner, density profile, elemental mass fractions can all be adjusted. It's not constrained by a specific model structure.\n",
    "- **Parameter degeneracies**: Different combinations of parameters can produce similar spectral features.\n",
    "\n",
    "**Observations Provide Ejecta Property Estimates**\n",
    "\n",
    "Although the number of free parameters is quite large when exploring these parameterized models, fortunately the observational data that we are trying to match can narrow down some of the parameter ranges! \n",
    "\n",
    "$\\blacktriangleright$ Just like how we estimated the photospheric velocity using the Si II absorption feature in the above section, **are there other photospheric properties we can interpret from the observations?**\n",
    "\n",
    "---\n",
    "\n",
    "<details>\n",
    "<summary><strong>💡 <u>Click here for Hint</u> </strong></summary>\n",
    "From observations of photometric colors and spectral ionization ratios (such as Fe II vs Fe III), we can estimate the photospheric temperature. \n",
    "<a href=\"https://ui.adsabs.harvard.edu/abs/2004MNRAS.348..261B/abstract\">Benetti et al. 2014</a> estimate the photospheric temperature of SN2002bo at early times to be on the order of 9500 K. Check what is the T_inner (sim_change_v_inner.simulation_state.t_inner) of the TARDIS simulation you ran above and think from first principles: what can increase or decrease the T_inner? What parameters can we tune in the ejecta model? \n",
    "</details>\n"
   ]
  },
  {
   "cell_type": "code",
   "execution_count": null,
   "id": "1eedcf47",
   "metadata": {},
   "outputs": [],
   "source": [
    "# your code here to diagnose the simulation_state"
   ]
  },
  {
   "cell_type": "markdown",
   "id": "6732fa2d",
   "metadata": {},
   "source": [
    "**Create Photospheric Conditions**\n",
    "\n",
    "By checking the inner temperature ($T_{inner}$) of the above simulation, it is lower than the value inferred from [Benetti et al. 2014](https://ui.adsabs.harvard.edu/abs/2004MNRAS.348..261B/abstract) (~9500 K). \n",
    "\n",
    "$\\blacktriangleright$ Assuming we would like to keep the measured Si II 6355 absorption velocity as the v_inner_boundary in TARDIS, what other parameters can we adjust to increase the $T_{inner}$ at this velocity and why? \n",
    "\n",
    "---\n",
    "\n",
    "Since the simulation converge on an output luminosity close to the same luminosity requested, if $T_{inner}$ increase but the output energy is the same, which means the ejecta is absorbing more energy -- an ejecta with larger optical depth (or dilution factor).\n",
    "\n",
    "$\\blacktriangleright$ **What parameters in the ejecta model can we modify to increase the optical depth?**\n",
    "\n",
    "---\n",
    "\n",
    "<details>\n",
    "<summary><strong>💡 <u>Click here for Hint</u> </strong></summary>\n",
    "Increasing the number density of ions increases the optical depth. If you want larger opacity for specific ions (stronger features), you can increase the mass fraction of that element. If you want to increase the continuum opacity, then scaling up the density profile will increase the optical depth as a whole.  \n",
    "</details>\n",
    "\n",
    "----\n",
    "\n",
    "**Let's increase the density with the goal of driving up the dilution factor at the v_inner_boundary to around 0.5 (photospheric condition)!**\n",
    "\n",
    "⚠️ **WARNING** ⚠️ Make sure the dilution factors are within [0,1], otherwise the TARDIS simulation will not be physical. \n",
    "</details>"
   ]
  },
  {
   "cell_type": "markdown",
   "id": "34b3662b",
   "metadata": {},
   "source": [
    "<font size=+3>&#9998;</font> Double click this cell to write your answer here."
   ]
  },
  {
   "cell_type": "markdown",
   "id": "9d7dcaeb",
   "metadata": {},
   "source": [
    "# Exploring the Density Profile\n",
    "\n",
    "The number density of matter is strongly controlled by the density structure, which then affects the optical depth and photosphere location. \n",
    "\n",
    "$\\blacktriangleright$**<span style=\"background-color: rgba(255, 255, 0, 0.3); padding: 4px;\">📝Task</span>**\n",
    "\n",
    "<u>**Figure out how many free parameters there are to determine a unique density profile**</u>\n",
    "\n",
    "**Assumptions**: \n",
    "\n",
    "The parameters that can affect the density profile under a power-law assumption are: \n",
    "- $t$: `config.supernova.time_explosion`\n",
    "- $\\rho_0$: `config.model.structure.density.rho_0`\n",
    "- $t_0$: `config.model.structure.density.time_0`\n",
    "- $v_0$: `config.model.structure.density.v_0` \n",
    "- $\\alpha$: `config.model.structure.density.exponent`\n",
    "\n",
    "For power-law density: $\\rho(v) = \\rho_0 (v/v_0)^{\\alpha}$, and for homologous expansion: $\\rho(t) = \\rho (t_0/t)^3$, hence we have:\n",
    "\n",
    "$$\\rho(v) = \\rho_0 (v/v_0)^{\\alpha} (t_0/t)^{3}$$"
   ]
  },
  {
   "cell_type": "markdown",
   "id": "964bae96",
   "metadata": {},
   "source": [
    "<font size=+3>&#9998;</font> Double click this cell to write your answer here."
   ]
  },
  {
   "cell_type": "markdown",
   "id": "51d67780",
   "metadata": {},
   "source": [
    "\n",
    "---\n",
    "## Change time and rho_0\n",
    "$\\blacktriangleright$**<span style=\"background-color: rgba(255, 255, 0, 0.3); padding: 4px;\">📝Task</span>**\n",
    "\n",
    "1. Calculate the $\\rho_0'$ so that \n",
    "$$\\rho(v) = \\rho_0 (v/v_0)^{\\alpha} (t_0/8day)^{3} = \\rho_0' (v/v_0)^{\\alpha} (t_0/5day)^{3}$$\n",
    "2. Run the following two simulation in order to increase the density:\n",
    "- Deepcopy `config_change_v_inner` as `config_change_time_explosion`, set the `time_explosion` to be 5 days, and run `sim_change_time_explosion` \n",
    "- Deepcopy `config_change_v_inner` as `config_change_rho_0`, set the `density.rho_0` to be $\\rho_0'$ g/$cm^3$, and run `sim_change_rho_0`.\n",
    "\n"
   ]
  },
  {
   "cell_type": "code",
   "execution_count": null,
   "id": "fe9dfcfa",
   "metadata": {},
   "outputs": [],
   "source": [
    "# your code here to run two simulation with one change time one change initial density"
   ]
  },
  {
   "cell_type": "markdown",
   "id": "3dff1ccc",
   "metadata": {},
   "source": [
    "$\\blacktriangleright$ Use the comparison function you made to analyze the spectrum and dilution factors. "
   ]
  },
  {
   "cell_type": "code",
   "execution_count": null,
   "id": "2b3d1d18",
   "metadata": {},
   "outputs": [],
   "source": [
    "# your code here to perform the comparison"
   ]
  },
  {
   "cell_type": "code",
   "execution_count": null,
   "id": "1c68cd38",
   "metadata": {},
   "outputs": [],
   "source": [
    "fig, axes = plt.subplots(4, 1, figsize=(12, 16))\n",
    "plt.subplots_adjust(hspace=0.4)\n",
    "\n",
    "# plot SDEC\n",
    "plot_SDEC_with_observations(sim_change_time_explosion, spec_obs, ax=axes[0])\n",
    "plot_SDEC_with_observations(sim_change_rho_0, spec_obs, ax=axes[1])\n",
    "\n",
    "sim_s = [sim_change_time_explosion, sim_change_rho_0]\n",
    "labels = [\"change time_explosion\", \"change rho_0\"]\n",
    "# compare the spectra with previous simulations\n",
    "plot_spectral_comparison(sim_s, spec_obs, ax=axes[2], labels=labels)\n",
    "\n",
    "# plot the optical depth current simulation and the one the base config(see the notebook in the morning)\n",
    "plot_dilution_factor(sim_s, ax=axes[3], labels=labels)\n"
   ]
  },
  {
   "cell_type": "markdown",
   "id": "23c1f5c3",
   "metadata": {},
   "source": [
    "That is a very different outcome even though these two simulations have the \"same\" density profile (and abundance too)!\n",
    "\n",
    "Link what you learned on Day 2 about plasma: how does time affect the sobolev optical depth in SN ejecta? \n",
    "\n",
    "**Connection to Day 1 and Day 2 Concepts:**\n",
    "Recall from the Radiative Transfer and plasma introduction on Days 1 and 2, the Sobolev optical depth under LTE and homologous expansion assumptions is:\n",
    "\n",
    "$$\n",
    "\\tau_{\\rm Sob} = \\sigma_{\\nu} \\, n_l \\, t_{\\exp} \\, \\lambda_{\\rm line}\n",
    "$$\n",
    "\n",
    "This shows the explicit dependence on $t_{\\exp}$ (time since explosion), which directly affects the line optical depths and thus the spectrum, even when the velocity-space density profile appears identical. The physical size of the ejecta and the plasma conditions are fundamentally different between these two cases.\n",
    "\n",
    "This shows  why changing the time since explosion in a supernova ejecta model is more than just rescaling the density — **and not a self-similar transformation** — we must distinguish between homologous expansion kinematics and the radiation–plasma coupling."
   ]
  },
  {
   "cell_type": "markdown",
   "id": "3cea0237",
   "metadata": {},
   "source": [
    "## Change Initial Density\n",
    "\n",
    "Now let's come back to the question and goal of this section (creating photospheric conditions). The question we were trying to answer was:\n",
    "\n",
    "**How many free parameters are there to determine a unique density profile?**\n",
    "\n",
    "From the above test cases, we know that the time since explosion $t$ should be treated as an independent parameter when determining the density profile. Although in velocity space, we can sometimes produce the \"same\" density by adjusting both $t$ and $\\rho_0$, it fundamentally changes the density profile (e.g., in radius) and the matter state. \n",
    "\n",
    "What about the rest of the parameters? We usually can fix $v_0$ and $t_0$ as static reference points, so the free parameters to determine a unique density structure in an SN ejecta under the assumption of power-law are:\n",
    "- $\\rho_0$: initial density at the reference point \n",
    "- $\\alpha$: the power-law exponent\n",
    "\n",
    "---\n",
    "$\\blacktriangleright$ **<span style=\"background-color: rgba(255, 255, 0, 0.3); padding: 4px;\">📝Task</span>**\n",
    "\n",
    "Following the control variable principle, let's first try changing $\\rho_0$ to increase the density, so as to nudge up the dilution factor to around 0.5 in order to create a photospheric condition. \n",
    "\n",
    "Monitor the dilution factor for the simulations that you try. "
   ]
  },
  {
   "cell_type": "code",
   "execution_count": null,
   "id": "82afe74a",
   "metadata": {},
   "outputs": [],
   "source": [
    "### uncomment the cell and fill in the missing parts\n",
    "# # Modify initial density to increase optical depth\n",
    "# RHO_0_NEW = ??? * u.g / u.cm**3\n",
    "\n",
    "# config_change_rho_0_iter_2 = deepcopy(config_change_v_inner)\n",
    "# config_change_rho_0_iter_2.model.structure.density.rho_0 = RHO_0_NEW\n",
    "\n",
    "# print(f\"Original rho_0: {config_change_v_inner.model.structure.density.rho_0}\")\n",
    "# print(f\"New rho_0: {RHO_0_NEW}\")\n",
    "\n",
    "# sim_change_rho_0_iter_2 = run_tardis(\n",
    "#     config_change_rho_0_iter_2,\n",
    "#     virtual_packet_logging=True,\n",
    "#     show_convergence_plots=False,\n",
    "#     export_convergence_plots=False,\n",
    "#     log_level=\"INFO\",\n",
    "# )\n"
   ]
  },
  {
   "cell_type": "code",
   "execution_count": null,
   "id": "c5b4a8ae",
   "metadata": {},
   "outputs": [],
   "source": [
    "### uncomment the cell and run to compare the dilution factors\n",
    "# sim_s = [sim_change_v_inner, sim_change_rho_0, sim_change_rho_0_iter_2]\n",
    "# labels = [\"match v_inner\", \"change rho_0\", \"change rho_0_iter_2\"]\n",
    "\n",
    "# # compare the spectra with previous simulations\n",
    "# plot_spectral_comparison(sim_s, spec_obs, labels=labels)\n",
    "\n",
    "# # plot the dilution factors\n",
    "# plot_dilution_factor(sim_s, labels=labels)\n"
   ]
  },
  {
   "cell_type": "markdown",
   "id": "89d94f22",
   "metadata": {},
   "source": [
    "$\\blacktriangleright$ Repeat the above step if necessary, the goal to find a $rho_0$ value that makes the first shell dilution factor to be around 0.5"
   ]
  },
  {
   "cell_type": "markdown",
   "id": "79a8c852",
   "metadata": {},
   "source": [
    "$\\blacktriangleright$ How does increasing the density profile (with same shape) change the spectra and dilution factor in this simulation?"
   ]
  },
  {
   "cell_type": "markdown",
   "id": "ff3d75eb",
   "metadata": {},
   "source": [
    "<font size=+3>&#9998;</font> Double click this cell to write your answer here."
   ]
  },
  {
   "cell_type": "markdown",
   "id": "45126c6b",
   "metadata": {},
   "source": [
    "## Change Density Exponent \n",
    "\n",
    "Let's play with how the steepness of the density profile affect the simulation. \n",
    "\n",
    "$\\blacktriangleright$ First run the cell below to see the current set up of the density profile, and think about how the density profile will change if we just change the power law exponent? \n",
    "\n",
    "$\\blacktriangleright$ If we would like to the follow the control variable principle as much as we can (relative to the previous simulation), how would you change the way of defining the power law density profile? \n"
   ]
  },
  {
   "cell_type": "code",
   "execution_count": null,
   "id": "02bc7431",
   "metadata": {},
   "outputs": [],
   "source": [
    "config_for_exponent = deepcopy(config_change_rho_0_iter_2)\n",
    "config_for_exponent.model.structure"
   ]
  },
  {
   "cell_type": "markdown",
   "id": "8e1eaa71",
   "metadata": {},
   "source": [
    "In the current configuration, the density profile is defined using the reference velocity of 8000 km/s and the v_inner_boundary currently is set to be a value ~16000 km/s.  If we change the exponent in this configuration, the density profile above the v_inner_boundary would deviates in not only exponent, also the density at v_inner and the total eject mass. \n",
    "\n",
    "---\n",
    "\n",
    "To control the variable in this case, we could try\n",
    "- 1. Move the reference initial density value to be at the v_inner_boundary to keep the initial density at that location conserved. \n",
    "- 2. Calculate the mass between the v_inner_boundary and v_outer_boundary, and change the initial density accordingly to conserve the mass. \n",
    "\n",
    "\n",
    "--- \n",
    "\n",
    "### Conserve the density at v_inner_boundary\n",
    "\n",
    "Let' try the first case first -- change the reference v_0 to be at the v_inner_boundary. \n",
    "\n",
    "$\\blacktriangleright$**<span style=\"background-color: rgba(255, 255, 0, 0.3); padding: 4px;\">📝Task</span>**\n",
    "\n",
    "1. Calculate the $\\rho_0'$ so that \n",
    "\n",
    "$$\\rho(v) = \\rho_0 \\,(\\frac{v}{v_0})^{\\alpha}\\, (\\frac{t_0}{t})^{3} = \\rho_0'\\, (\\frac{v}{v_\\text{inner boundary}})^{\\alpha} \\,(\\frac{t_0}{t})^{3}$$\n",
    "\n",
    "2. Copy and modify the config:\n",
    "Deepcopy the `config_change_v_inner` as `config_change_exponent`, update the density `v_0` and  `rho_0` with the equivalent values. Update the density exponent down to -4 in order to increase the density. \n",
    "\n",
    "3. Run simulation `sim_change_exponent` with the `config_change_exponent` config. \n",
    "\n",
    "4. Repeat the above steps with an exponent value smaller (steeper) than the original value (-7).\n",
    "\n",
    "5. Compare the results."
   ]
  },
  {
   "cell_type": "code",
   "execution_count": null,
   "id": "f69f3cf7",
   "metadata": {},
   "outputs": [],
   "source": [
    "# #### Uncomment this cell and fille in the value\n",
    "# ## Calculate equivalent rho_0 at v_inner_boundary\n",
    "# v_inner_boundary = ???\n",
    "# rho_0_at_v_inner = ???\n",
    "\n",
    "# ## Update the configuration with new rho_0\n",
    "# config_for_exponent.model.structure.density.rho_0 = rho_0_at_v_inner\n",
    "# config_for_exponent.model.structure.density.v_0 = V_INNER_BOUNDARY\n",
    "\n",
    "# ## run the simulation with the new density profile\n",
    "# new_exponent = ???\n",
    "# config_change_exponent = deepcopy(config_for_exponent)\n",
    "# config_change_exponent.model.structure.density.exponent = new_exponent\n",
    "\n",
    "# sim_change_exponent = run_tardis(\n",
    "#     config_change_exponent,\n",
    "#     virtual_packet_logging=True,\n",
    "#     show_convergence_plots=True,\n",
    "#     export_convergence_plots=True,\n",
    "#     log_level=\"INFO\",\n",
    "# )"
   ]
  },
  {
   "cell_type": "code",
   "execution_count": null,
   "id": "a30e8c58",
   "metadata": {},
   "outputs": [],
   "source": [
    "# you code here for the next steps"
   ]
  },
  {
   "cell_type": "markdown",
   "id": "12c8c462",
   "metadata": {},
   "source": [
    "---\n",
    "\n",
    "### Conserve the total mass\n",
    "\n",
    "Let's try the second case, conserving the mass between the velocity boundaries.\n",
    "\n",
    "**Mass Conservation in Power-Law Density Profiles**\n",
    "\n",
    "For a spherically symmetric ejecta in homologous expansion, the mass contained between a certain velocity range ($v_{\\rm inner}$ and $v_{\\rm outer}$) can be calculated by integrating the density profile:\n",
    "\n",
    "$$M=\\iiint \\rho r^2 d r d \\phi d \\theta \\sin \\theta$$\n",
    "\n",
    "since $r=v t$ in homolougous expansion, so $d r=t d v$.\n",
    "\n",
    "$$M = \\int_{v_{\\rm inner}}^{v_{\\rm outer}} \\rho(v) \\cdot 4\\pi v^2 t^3 \\, dv$$\n",
    "\n",
    "For our power-law density profile:\n",
    "$$\\rho(v) = \\rho_0 \\left(\\frac{v}{v_0}\\right)^{\\alpha} \\left(\\frac{t_0}{t}\\right)^3$$\n",
    "\n",
    "Substituting these into the mass integral:\n",
    "$$M = 4\\pi t^3 \\rho_0 \\left(\\frac{t_0}{t}\\right)^3 v_0^{-\\alpha} \\int_{v_{\\rm inner}}^{v_{\\rm outer}} v^{\\alpha + 2} \\, dv$$\n",
    "\n",
    "$$M = 4\\pi t_0^3 \\rho_0 v_0^{-\\alpha} \\int_{v_{\\rm inner}}^{v_{\\rm outer}} v^{\\alpha + 2} \\, dv$$\n",
    "\n",
    "Evaluating the integral:\n",
    "$$M = 4\\pi t_0^3 \\rho_0 v_0^{-\\alpha} \\left[\\frac{v^{\\alpha + 3}}{\\alpha + 3}\\right]_{v_{\\rm inner}}^{v_{\\rm outer}}$$\n",
    "\n",
    "$$M = \\frac{4\\pi t_0^3 \\rho_0 v_0^{-\\alpha}}{\\alpha + 3} \\left(v_{\\rm outer}^{\\alpha + 3} - v_{\\rm inner}^{\\alpha + 3}\\right)$$\n",
    "\n",
    "**Key Insight**: For $\\alpha < -3$, the mass is dominated by the inner boundary, while for $\\alpha > -3$, the outer boundary dominates.\n",
    "\n",
    "**Mass Conservation Strategy**: When changing the exponent $\\alpha \\rightarrow \\alpha'$, we can calculate the new $\\rho_0'$ that preserves the total ejecta mass:\n",
    "\n",
    "$$\\frac{\\rho_0'}{\\rho_0} = \\frac{v_0^{\\alpha'}(\\alpha' + 3)(v_{\\rm outer}^{\\alpha + 3} - v_{\\rm inner}^{\\alpha + 3})}{v_0^{\\alpha}(\\alpha + 3)(v_{\\rm outer}^{\\alpha' + 3} - v_{\\rm inner}^{\\alpha' + 3})}$$\n",
    "\n",
    "This ensures that changing the density profile steepness doesn't artificially change the total mass within the ejecta within the velocity range."
   ]
  },
  {
   "cell_type": "markdown",
   "id": "7f7ae91e",
   "metadata": {},
   "source": [
    "\n",
    "---\n",
    "\n",
    "$\\blacktriangleright$**<span style=\"background-color: rgba(255, 255, 0, 0.3); padding: 4px;\">📝Task</span>**\n",
    "\n",
    "1. Define a new exponent $\\alpha'$ ($\\alpha'$ > -7) and Calculate the $\\rho_0'$ following the mass conservation method above\n",
    "\n",
    "2. Copy and modify the config:\n",
    "Deepcopy the `config_change_v_inner` as `config_change_exponent_M2`, update the density configuration using value in the above step.\n",
    "\n",
    "3. Run simulation `sim_change_exponent_M2` with the `config_change_exponent_M2` config. \n",
    "\n",
    "4. Repeat the above steps with an exponent value smaller (steeper) than the original value (-7).\n",
    "\n",
    "5. Compare the results."
   ]
  },
  {
   "cell_type": "code",
   "execution_count": null,
   "id": "c5d65fea",
   "metadata": {},
   "outputs": [],
   "source": [
    "# #### Uncomment this cell and fill in the value\n",
    "# ## write a function to calculate new rho_0 given new_exponent \n",
    "# def calculate_mass_conserving_rho_0(config, new_exponent):\n",
    "#     \"\"\"\n",
    "#     Calculate new rho_0 that preserves total ejecta mass when changing density exponent.\n",
    "\n",
    "#     Parameters:\n",
    "#     -----------\n",
    "#     config : Configuration object\n",
    "#         TARDIS configuration with current density profile\n",
    "#     new_exponent : float\n",
    "#         New density profile exponent\n",
    "\n",
    "#     Returns:\n",
    "#     --------\n",
    "#     new_rho_0 : astropy.Quantity\n",
    "#         New initial density that preserves total mass\n",
    "#     \"\"\"\n",
    "#     # Get current parameters\n",
    "#     v_inner = config.model.structure.velocity.start.to(u.km / u.s)\n",
    "#     v_outer = config.model.structure.velocity.stop.to(u.km / u.s)\n",
    "#     v_0 = config.model.structure.density.v_0.to(u.km / u.s)\n",
    "#     rho_0_old = config.model.structure.density.rho_0\n",
    "#     alpha_old = config.model.structure.density.exponent\n",
    "#     alpha_new = new_exponent\n",
    "\n",
    "#     # Calculate new rho_0 to preserve mass\n",
    "#     rho_0_new = ???\n",
    "\n",
    "#     print(f\"Original: exponent = {alpha_old:.1f}, rho_0 = {rho_0_old:.2e}\")\n",
    "#     print(f\"New:      exponent = {alpha_new:.1f}, rho_0 = {rho_0_new:.2e}\")\n",
    "#     print(f\"Scaling factor: {mass_factor_old / mass_factor_new:.3f}\")\n",
    "\n",
    "#     return rho_0_new\n",
    "\n",
    "# ## Update the configuration with new exponent and new rho_0\n",
    "# config_change_exponent_M2 = deepcopy(config_for_exponent)\n",
    "\n",
    "# # Case 1: Less steep exponent with mass conservation\n",
    "# new_alpha = ???\n",
    "# new_rho_0 = calculate_mass_conserving_rho_0(config_change_exponent_M2, new_alpha)\n",
    "\n",
    "# config_change_exponent_M2.model.structure.density.exponent = new_alpha\n",
    "# config_change_exponent_M2.model.structure.density.rho_0 = new_rho_0\n",
    "\n",
    "# sim_change_exponent_M2 = run_tardis(\n",
    "#     config_change_exponent_M2,\n",
    "#     virtual_packet_logging=True,\n",
    "#     show_convergence_plots=True,\n",
    "#     export_convergence_plots=True,\n",
    "#     log_level=\"INFO\",\n",
    "# )"
   ]
  },
  {
   "cell_type": "code",
   "execution_count": null,
   "id": "88dd0138",
   "metadata": {},
   "outputs": [],
   "source": [
    "# your code here for the next steps"
   ]
  },
  {
   "cell_type": "markdown",
   "id": "0fa0af33",
   "metadata": {},
   "source": [
    "**How does the spectrum changes with the change in density exponent?**\n",
    "\n",
    "Is there change in major ion contributions? How about absorption feature velocity?\n",
    "\n",
    "---\n",
    "\n",
    "$\\blacktriangleright$ Surprisingly, the change of density exponent does not affect the spectrum for this specific simulation, but this is not always the case, think of a simulation has a later time_explosion and further inward v_inner_boundary, how would that change and why? \n",
    "\n",
    "(You could run a test simulation to verify. )\n",
    "\n",
    "---"
   ]
  },
  {
   "cell_type": "markdown",
   "id": "cc0af0f5",
   "metadata": {},
   "source": [
    "# Summary\n",
    "\n",
    "In this notebook, we explored how the ejecta model parameters affect synthetic spectra in TARDIS following the principle of control variable:\n",
    "\n",
    "**Key Parameters Investigated:**\n",
    "- **Luminosity**: Strongly affect the radiation field intensity and plasma state\n",
    "- **Inner velocity boundary**: Estimated v inner boundary from the observed spectrum (did not fine tune)\n",
    "- **Time since explosion**: (Is not a self-similar parameter) Affect the ejecta geometry and Sobolev optical depth.  \n",
    "- **Density profile**: Determine the elemental density, which affects the radiational field balance, hence the level number density that determines the Sobolev optical depth. \n",
    "\n",
    "**Key Physical Insights:**\n",
    "- Changing luminosity doesn't simply scale spectra but alters balance between radiation field and plasma.\n",
    "- Observational constraints (Si II velocity, photospheric temperature) provide physical initial guesses for model parameters\n",
    "- Power law density structure can be determined through 2 free parameter given the same time since explosion. \n",
    "\n",
    "**Observational Connections:**\n",
    "- Used SN2002bo spectrum at -12 days relative to peak as object of interest. \n",
    "- Applied flux-to-luminosity density conversion for direct comparison with TARDIS output\n",
    "- Estimated photospheric velocity from absorption line Doppler shifts of Si II $\\lambda\\lambda$6355\n",
    "\n",
    "---\n",
    "\n",
    "# Well Done and Take a Break! \n",
    "\n",
    "**Coming up in Notebook 4**: We'll dive into elemental abundance effects, exploring how individual elements control specific spectral features and ionization balance as a whole in spectrum. "
   ]
  },
  {
   "cell_type": "code",
   "execution_count": null,
   "id": "3883ef0c",
   "metadata": {},
   "outputs": [],
   "source": []
  }
 ],
 "metadata": {
  "kernelspec": {
   "display_name": "base",
   "language": "python",
   "name": "python3"
  },
  "language_info": {
   "codemirror_mode": {
    "name": "ipython",
    "version": 3
   },
   "file_extension": ".py",
   "mimetype": "text/x-python",
   "name": "python",
   "nbconvert_exporter": "python",
   "pygments_lexer": "ipython3",
   "version": "3.13.2"
  }
 },
 "nbformat": 4,
 "nbformat_minor": 5
}
