{
 "cells": [
  {
   "cell_type": "markdown",
   "id": "d0d44d7e",
   "metadata": {},
   "source": [
    "# Overview: Analyzing TARDIS spectra using built-in visualization tools\n",
    "\n",
    "How do we figure out which ion contributed to a specific spectral feature we are looking at in the spectrum? \n",
    "\n",
    "That is one of the most important questions we would like to answer from the observed spectra.\n",
    "\n",
    "In TARDIS we can do this by tracking the Monte Carlo packet properties, specifically the last interaction before the packet escapes from the outermost shell of the ejecta. \n",
    "\n",
    "This notebook introduces built-in TARDIS visualization tools and guides you through how to use them to interpret the outputs. \n",
    "These tools can help identify line profiles, line-forming regions, line ratios, and ionization states, which provide insights into whether your simulation is physically consistent and where potential adjustments are needed.\n"
   ]
  },
  {
   "cell_type": "markdown",
   "id": "349ae649",
   "metadata": {
    "editable": true,
    "slideshow": {
     "slide_type": ""
    },
    "tags": []
   },
   "source": [
    "# Run a TARDIS simulation\n",
    "\n",
    "$\\blacktriangleright$ Run the cell below to run a TARDIS simulation that has a uniform abundance. "
   ]
  },
  {
   "cell_type": "code",
   "execution_count": null,
   "id": "a7d1fe8f",
   "metadata": {
    "editable": true,
    "slideshow": {
     "slide_type": ""
    },
    "tags": []
   },
   "outputs": [],
   "source": [
    "from tardis import run_tardis\n",
    "from tardis.io.configuration.config_reader import Configuration\n",
    "\n",
    "config = Configuration.from_yaml(\"configs_and_data/tardis_example.yml\")\n",
    "\n",
    "sim = run_tardis(\n",
    "    config,\n",
    "    virtual_packet_logging=True,\n",
    "    show_convergence_plots=True,\n",
    "    export_convergence_plots=True,\n",
    "    log_level=\"INFO\",\n",
    ")\n"
   ]
  },
  {
   "cell_type": "markdown",
   "id": "f640cf38",
   "metadata": {},
   "source": [
    "# SDEC (Spectral element DEComposition) Plot\n"
   ]
  },
  {
   "cell_type": "markdown",
   "id": "16d47f0e",
   "metadata": {},
   "source": [
    "The SDEC plot in TARDIS visually presents what physical interactions contributed to the formation of the spectrum. The plot shows the photospheric blackbody SED and the emergent spectrum after the packets go through the ejecta, with packet contributions color-coded by the type of last interaction the energy packets experienced before they travel beyond the outermost shell of the ejecta. \n",
    "\n",
    "Let's first plot a SDEC plot and then see what's inside later.\n",
    "\n",
    "🔧 **SDEC plot settings**\n",
    "\n",
    "The common settings are:\n",
    "- `packet_type`: real or virtual, indicates which type of packets to use<br>\n",
    "        - **Real packets**: The Monte Carlo packets that started from the photosphere<br>\n",
    "        - **Virtual packets**: The virtual packets are a technique to increase spectral resolution, see [documentation here](https://tardis-sn.github.io/tardis/physics/spectrum/virtualpackets.html#:~:text=10%5D.-,Virtual%20Packets,-%C2%B6)<br>\n",
    "- `packet_wvl_range`: By default the SDEC spans the entire requested wavelength; you can use this setting to select a specific wavelength range\n",
    "- `species_list`: Only color-code a specific set of elements and/or ions, such as `species_list = ['Si II', 'S I-V', 'Ca I-III']`. \n",
    "\n",
    "\n",
    "See the [SDEC tutorial](https://tardis-sn.github.io/tardis/analyzing_tardis/visualization/how_to_sdec_plot.html) for more optional settings.\n",
    "\n",
    "--- \n",
    "## Plot a Static SDEC\n",
    "\n",
    "$\\blacktriangleright$ Run the cell below to produce a static matplotlib SDEC plot with default settings. \n"
   ]
  },
  {
   "cell_type": "code",
   "execution_count": null,
   "id": "fe4c2a3f",
   "metadata": {},
   "outputs": [],
   "source": [
    "from tardis.visualization import SDECPlotter\n",
    "from astropy import units as u\n",
    "\n",
    "plotter = SDECPlotter.from_simulation(sim)\n",
    "\n",
    "# generate a static matplotlib plot\n",
    "plotter.generate_plot_mpl()\n"
   ]
  },
  {
   "cell_type": "markdown",
   "id": "0168d3c6",
   "metadata": {},
   "source": [
    "$\\blacktriangleright$ Run the cell below, which specifies a specific wavelength range and ions."
   ]
  },
  {
   "cell_type": "code",
   "execution_count": null,
   "id": "29ce13fe",
   "metadata": {},
   "outputs": [],
   "source": [
    "plotter.generate_plot_mpl(\n",
    "    packets_mode=\"virtual\",\n",
    "    packet_wvl_range=[3000, 9000] * u.AA,\n",
    "    species_list=[\"O I-III\", \"Mg I-III\", \"S I-III\", \"Si I-III\", \"Ca I-III\", \"Ar I-III\"],\n",
    ")\n"
   ]
  },
  {
   "cell_type": "markdown",
   "id": "58141324",
   "metadata": {},
   "source": [
    "## What is the SDEC Plot?\n",
    "\n",
    "Let's look at each of the components in this plot\n",
    "\n",
    "- **<font color=red> Blackbody Photosphere </font>** (The red dashed line in the SDEC plot):<br>\n",
    "  This shows the luminosity density distribution of the energy packets when they are first initialized at the photosphere, which is a blackbody distribution. \n",
    "\n",
    "- **<font color=DodgerBlue> Spectrum </font>** (The blue dashed line in the SDEC plot):<br>\n",
    "  Depending on your choice of `packets_mode` (`real` or `virtual`), this shows the `spectrum_real_packets` or `spectrum_virtual_packets` from the spectrum_solver within the simulation object. The luminosity density at each wavelength is the cumulative luminosity of the escaped packets binned by frequency or wavelength, such as: \n",
    "  $$\n",
    "  L_{\\lambda} = \\Sigma_1^N l_i / \\Delta \\lambda\n",
    "  $$\n",
    "  where $l_i$ is the luminosity ([erg/s]) of each packet, N is the count of the packets in wavelength bin, and $\\Delta  \\lambda$ is the size of the wavelength bin [$\\AA$].\n",
    "\n",
    "- **<span style=\"background-color: rgba(255, 255, 0, 0.3); padding: 4px;\">Emitted Luminosity Density</span>** (The plotted spectral contribution with $L_{\\lambda}$ > 0):<br>\n",
    "  While the spectrum shows the total emitted luminosity density, the contributions within are color-coded by the last interaction type of the packet, which are:<br>\n",
    "    - No interaction: The packet experienced no interaction from starting at the photosphere to the outer edge of the last shell. \n",
    "    - Electron Scatter: The packet experienced electron scattering as its last interaction before escaping <br>\n",
    "      ($\\blacktriangleright$<u>**Question 1**</u>: Does the packet change its lab frame energy and wavelength after this process?)\n",
    "    - Line interaction: The packet experienced line interaction (bound-bound transition) as its last interaction before escaping <br>\n",
    "      ($\\blacktriangleright$<u>**Question 2**</u>: Does the packet change its co-moving frame frequency during line interaction?)\n",
    "\n",
    "- **<span style=\"background-color: rgba(255, 255, 0, 0.3); padding: 4px;\">Absorbed Luminosity Density</span>** (The plotted spectral contribution with $L_{\\lambda}$ < 0):<br>\n",
    "  <div style=\"background-color:rgb(95, 83, 77); border-left: 4px solid #f44336; padding: 10px; margin: 10px 0;\">\n",
    "  <strong>⚠️ Warning:</strong> These are NOT the \"reabsorbed_packets\" that traveled back inside the photosphere (which are discarded), rather these absorbed luminosity densities are plotting the cumulative luminosity of the packets **BEFORE** their last line interaction. \n",
    "  </div>\n",
    "  Among the emitted packets, there are a group of packets that experienced line interaction as their last interaction. This process represents that the photons are absorbed and re-emitted at a (different) wavelength and angle. This **fluorescence** process redistributes the ion energy across the spectrum. The packet luminosity **AFTER** the line interaction is counted into the emitted luminosity, and the packet luminosity **BEFORE** the line interaction is regarded as absorptions, plotted as $-L_{\\lambda}$.\n",
    "---\n",
    "<details>\n",
    "<summary><strong>💡 <u>Click here for Hint for Question 1</u> </strong></summary>\n",
    "YES, for any interaction event, TARDIS transform both energy and frequency of the packet into the co-moving frame, and a new direction is generated, then the packet energy and frequency is transformed back to the lab-frame (Only if the direction is the same, then the packet energy stays the same in the lab frame), see <a href=\"https://tardis-sn.github.io/tardis/physics/montecarlo/propagation.html#physical-interactions:~:text=employed%20by%20TARDIS.-,Performing%20an%20Interaction,-%C2%B6\" target=\"_blank\">documentation here</a>.\n",
    "</details>\n",
    "\n",
    "<details>\n",
    "<summary><strong>💡 <u>Click here for Hint for Question 2</u> </strong></summary>\n",
    "It depends on the <b>line_interaction_type</b> setting in the configuration (scatter, downbranch, macroatom). Recall from Day 3 or see <a href=\"https://tardis-sn.github.io/tardis/physics/montecarlo/lineinteraction.html\" target=\"_blank\">documentation here</a>. Only in the \"scatter\" line_interaction_type setting will the packet have the same co-moving frequency when interacting with resonant lines.\n",
    "</details>\n"
   ]
  },
  {
   "cell_type": "markdown",
   "id": "71ef2911",
   "metadata": {},
   "source": [
    "<font size=+3>&#9998;</font> Double click this cell to write your answer here."
   ]
  },
  {
   "cell_type": "markdown",
   "id": "fe490036",
   "metadata": {},
   "source": [
    "## Plot an interactive SDEC\n",
    "\n",
    "For exploration purposes, an interactive version of the SDEC plot is also available through `plotter.generate_plot_ply()`, in which you can zoom in on regions interactively. (Double click to zoom out to the full range.)\n",
    "\n",
    "$\\blacktriangleright$ Run the cell below to plot an interactive SDEC and explore different wavelength regions to answer the question below: \n",
    "\n",
    "$\\blacktriangleright$<u>**Question 3**</u>: Based on the SDEC plot, identify which wavelength regions are dominated by continuum opacity (contributed by electron scattering), and which regions are dominated by line opacity (contributed by line interaction) in this simulation. \n",
    "\n",
    "---\n",
    "<details>\n",
    "<summary><strong>💡 <u>Hint for Question 3</u> </strong></summary>\n",
    "In this specific simulation, the SDEC plot shows that line opacity dominates in the optical region, with strong contributions from ions like S II, Si II, and Ca II. Electron scattering is only significant in wavelength regions lacking strong lines. This reflects the strong wavelength dependence of opacity and highlights the limitations of the use of grey opacity in physical applications.\n",
    "</details>"
   ]
  },
  {
   "cell_type": "markdown",
   "id": "5fdb6e98",
   "metadata": {},
   "source": [
    "<font size=+3>&#9998;</font> Double click this cell to write your answer here."
   ]
  },
  {
   "cell_type": "code",
   "execution_count": null,
   "id": "a7a6d259",
   "metadata": {},
   "outputs": [],
   "source": [
    "plotter.generate_plot_ply()"
   ]
  },
  {
   "cell_type": "markdown",
   "id": "d8065a1b",
   "metadata": {},
   "source": [
    "# Line Info Widget\n",
    "\n",
    "The Line Info Widget provides an interactive way to explore atomic line data and identify which spectral lines contribute to specific wavelength regions using the last interaction information of the Monte Carlo packets. This widget is particularly useful for:\n",
    "\n",
    "- **Line identification**: Finding which atomic transitions produce absorption/emission features at specific wavelengths\n",
    "- **Ion analysis**: Understanding which ionization/excitation states of elements are present in different regions and show their fractions.\n",
    "\n",
    "**Key Features**:\n",
    "- **Interactive wavelength selection**: Click + hold to draw select box to filter the wavelength ranges to see contributing packets information\n",
    "- **Element filtering**: Focus on specific elements or ions within selected wavelength\n",
    "  - You can choose two different ways to filter the packets, by their emitted or absorbed wavelength, which corresponds to the wavelength before or after the last line interaction, (see the explanation for the SDEC plot above) \n",
    "- **Transition information**: View detailed atomic data for each line\n",
    "\n",
    "*This widget complements the SDEC plot by providing the atomic physics context for spectral features.*\n",
    "\n",
    "---\n",
    "## Display the interactive widget\n",
    "$\\blacktriangleright$ Run the cell below to display the Line info widget"
   ]
  },
  {
   "cell_type": "code",
   "execution_count": null,
   "id": "8b5253da",
   "metadata": {
    "editable": true,
    "slideshow": {
     "slide_type": ""
    },
    "tags": []
   },
   "outputs": [],
   "source": [
    "from tardis.visualization import LineInfoWidget\n",
    "\n",
    "line_info_widget = LineInfoWidget.from_simulation(sim)\n",
    "line_info_widget.display()"
   ]
  },
  {
   "cell_type": "markdown",
   "id": "56f8146c",
   "metadata": {},
   "source": [
    "## TASK: Si ionization ratio VS Temperature\n",
    "\n",
    "$\\blacktriangleright$ TASK: Use the Line Info Widget to investigate how ionization states change with luminosity:\n",
    "\n",
    "1. Using the current simulation, select the wavelength range [1000, 7000] $\\AA$ in the Line Info Widget and record the packet fractions for Si II and Si III.\n",
    "\n",
    "2. Calculate the Si III/Si II ratio: This ratio indicates the ionization balance - higher ratios suggest more higher ionization.\n",
    "\n",
    "3. Run another simulation with a modified config that has 60% of the original luminosity, and repeat Steps 1 and 2.\n",
    "\n",
    "4. Compare the ionization ratio of these two simulations. Which one is higher and why? \n",
    "\n",
    "---\n",
    "<details>\n",
    "<summary><strong>💡 <u> Click here for Hint</u> </strong></summary>\n",
    "Increasing the requested luminosity in TARDIS raises the inner boundary temperature, producing a hotter and more energetic radiation field. This enhances reaction rates, shifting the ionization balance toward higher stages. As a result, the Si III/Si II ratio increases with luminosity under otherwise identical conditions.\n",
    "</details>"
   ]
  },
  {
   "cell_type": "code",
   "execution_count": null,
   "id": "c0e6511a",
   "metadata": {},
   "outputs": [],
   "source": [
    "### fill in value and run the cell\n",
    "\n",
    "# from copy import deepcopy\n",
    "\n",
    "# config_lower_luminosity = deepcopy(config)\n",
    "# config_lower_luminosity.supernova.luminosity_requested = ???\n",
    "\n",
    "# sim_lower_luminosity = run_tardis(\n",
    "#     config_lower_luminosity,\n",
    "#     virtual_packet_logging=True,\n",
    "#     show_convergence_plots=True,\n",
    "#     export_convergence_plots=True,\n",
    "#     log_level=\"INFO\",\n",
    "# )\n"
   ]
  },
  {
   "cell_type": "code",
   "execution_count": null,
   "id": "60993f71",
   "metadata": {},
   "outputs": [],
   "source": [
    "### run this cell\n",
    "\n",
    "# line_info_widget_lower_luminosity = LineInfoWidget.from_simulation(sim_lower_luminosity)\n",
    "# line_info_widget_lower_luminosity.display()"
   ]
  },
  {
   "cell_type": "code",
   "execution_count": null,
   "id": "ecf53f31",
   "metadata": {},
   "outputs": [],
   "source": [
    "### fill in value and run the cell\n",
    "\n",
    "# sim_Si_ionization_ratio = ???\n",
    "# sim_lower_luminosity_Si_ionization_ratio = ???\n",
    "\n",
    "# print(\n",
    "#     f\"The Si ionization ratio for the original simulation is {sim_Si_ionization_ratio:.2f}\"\n",
    "# )\n",
    "# print(\n",
    "#     f\"The Si ionization ratio for the lower luminosity simulation is {sim_lower_luminosity_Si_ionization_ratio:.2f}\"\n",
    "# )\n"
   ]
  },
  {
   "cell_type": "markdown",
   "id": "afe1c467",
   "metadata": {},
   "source": [
    "## Access line interacting ion fractions as a dataframe\n",
    "\n",
    "Within the line information widget class, you can also directly access the aggregated packet fractional stats by `get_species_interactions`, which takes:\n",
    "- `wavelength_range` as a required input \n",
    "- `filter_mode`: `packet_out_nu` (default) or `packet_in_nu`, which filters the packets based on their wavelength before or after the last line interaction.\n",
    "--- \n",
    "$\\blacktriangleright$ Run the cell below to check the packet fraction within the wavelength range of [1000, 7000] $\\AA$, which should be dominated by S II."
   ]
  },
  {
   "cell_type": "code",
   "execution_count": null,
   "id": "7282c3e0",
   "metadata": {},
   "outputs": [],
   "source": [
    "line_info_widget.get_species_interactions(\n",
    "    wavelength_range=[1000, 7000], filter_mode=\"packet_out_nu\"\n",
    ")"
   ]
  },
  {
   "cell_type": "markdown",
   "id": "3e48f324",
   "metadata": {},
   "source": [
    "# Last Interaction Velocity (LIV) Plot"
   ]
  },
  {
   "cell_type": "markdown",
   "id": "8768752f",
   "metadata": {},
   "source": [
    "Previously we looked at the SDEC plot and the Line Info Widget, both of which show the packet distribution grouped by packet wavelength.\n",
    "\n",
    "How about the interaction location? For packets that experienced line interaction as their last interaction, where in the ejecta did the line interaction happen? \n",
    "\n",
    "This is essentially what's presented in the LIV plot, which offers information about the line-forming region for each ion. \n",
    "\n",
    "--- \n",
    "🔧 **LIV plot settings**\n",
    "\n",
    "LIV plots share several similar settings as the SDEC plot, such as:\n",
    "- `packet_type`: real or virtual, indicates which type of packets to use<br>\n",
    "        - **Real packets**: The Monte Carlo packets that started from the photosphere<br>\n",
    "        - **Virtual packets**: The virtual packets are a technique to increase spectral resolution, see [documentation here](https://tardis-sn.github.io/tardis/physics/spectrum/virtualpackets.html#:~:text=10%5D.-,Virtual%20Packets,-%C2%B6)<br>\n",
    "- `packet_wvl_range`: By default the LIV plot includes all packets; you can use this setting to select packets that are within a specific wavelength range\n",
    "- `species_list`: Only show a specific set of elements and/or ions, such as `species_list = ['Si II', 'S I-V', 'Ca']`. \n",
    "\n",
    "\n",
    "See the [LIV plot tutorial](https://tardis-sn.github.io/tardis/analyzing_tardis/visualization/how_to_liv_plot.html) for more optional settings.\n",
    "\n",
    "---\n",
    "## Plot a LIV plot using virtual VS real packets\n",
    "$\\blacktriangleright$ Run the cell below to see the LIV plot using \"real\" and \"virtual\" packets, respectively. "
   ]
  },
  {
   "cell_type": "code",
   "execution_count": null,
   "id": "af893947",
   "metadata": {},
   "outputs": [],
   "source": [
    "from tardis.visualization.tools.liv_plot import LIVPlotter\n",
    "from matplotlib import pyplot as plt\n",
    "\n",
    "LIVplotter = LIVPlotter.from_simulation(sim)\n",
    "LIVplotter.generate_plot_mpl(\n",
    "    packets_mode=\"real\",\n",
    "    xlog_scale=False,\n",
    "    ylog_scale=True,\n",
    ")\n",
    "plt.title(\"LIV plot with real packets\", fontsize=16)\n",
    "\n",
    "LIVplotter.generate_plot_mpl(\n",
    "    packets_mode=\"virtual\",\n",
    "    xlog_scale=False,\n",
    "    ylog_scale=True,\n",
    ")\n",
    "plt.title(\"LIV plot with virtual packets\", fontsize=16)\n"
   ]
  },
  {
   "cell_type": "markdown",
   "id": "884e2a38",
   "metadata": {},
   "source": [
    "$\\blacktriangleright$ **Questions** \n",
    "(After running the LIV plot above) \n",
    "\n",
    "- Question 1: What difference did you notice between the real vs virtual packets LIV plot and why is that?  \n",
    "- Question 2: What determines the **quantity** of a line interaction at a given location physically, and what does the LIV plot tell us about ion opacity?\n",
    "\n",
    "<details>\n",
    "<summary><strong>💡 <u>Hint 1</u> </strong></summary>\n",
    "The total number of packet counts is the major difference. Recall from Day 3, N virtual packets are spawned at the location where each interaction happens, hence the total number of virtual packets scales up with the number of interactions the real packets have.\n",
    "</details>\n",
    "\n",
    "<details>\n",
    "<summary><strong>💡 <u>Hint 2</u> </strong></summary>\n",
    "The quantity of a bound-bound interaction of an ion depends on the number of ions, the number of available photons and free electrons within the plasma that induce the interaction, which are related to the opacity of the ion. The LIV plot shows the ion opacity distribution, which is determined by a combination of the radiation field and ion number density.\n",
    "</details>\n",
    "\n",
    "--- \n",
    "\n",
    "<div style=\"background-color:rgb(95, 83, 77); border-left: 4px solid #f44336; padding: 10px; margin: 10px 0;\">\n",
    "<strong>Note:</strong> \n",
    "Related to the first question, some simulations might take a while to plot the LIV plot using virtual packets if there are MANY interactions that occurred. Try using real packets if needed in these cases.\n",
    "</div>\n"
   ]
  },
  {
   "cell_type": "markdown",
   "id": "b96c13f4",
   "metadata": {},
   "source": [
    "<font size=+3>&#9998;</font> Double click this cell to write your answer here."
   ]
  },
  {
   "cell_type": "markdown",
   "id": "5cbc7d62",
   "metadata": {},
   "source": [
    "## TASK: Exploring Si II $\\lambda\\lambda$ 5972 vs 6355\n",
    "\n",
    "LIV plots show the velocity distribution of bound-bound interactions of ions. Let's dive deeper into a specific case: the iconic Si II $\\lambda\\lambda$ 5972 and $\\lambda\\lambda$ 6355 doublet features in Type Ia supernovae. \n",
    "\n",
    "**Background**: These two features encode rich information about the structure of the SN Ia ejecta, and the relative feature strength of these two features is often correlated with the diversity within SNe Ia (Branch diagram). \n",
    "\n",
    "Understanding where these lines form in velocity space can help us interpret the physical conditions in the ejecta! \n",
    "\n",
    "---\n",
    "\n",
    "$\\blacktriangleright$**Your task**: \n",
    "1. Identify the unique identifier of the doublet Si II line transitions (`atomic_number`,`ion_number`,`level_number_lower`, `level_number_upper`) of the major spectral features ( $\\lambda\\lambda$ 5972, $\\lambda\\lambda$ 6355) using the atomic line list. \n",
    "2. Filter out the packets that interacted with these lines (select based on the unique identifier found in step 1 above) and map where these interactions occur in velocity space.\n",
    "3. Overlay other information to discuss the physical conditions and potential reason behind the distribution you see (radiative temperature and the number density of the ion).\n",
    "4. Estimate the Doppler velocity of the feature from the synthetic spectra of these two features and compare with the median velocity of the corresponding packets. \n",
    "\n",
    "\n",
    "This exercise will hopefully refresh some of the skills that you picked up from the previous days, such as accessing the atomic lines (from Days 2-3) and the last interaction packet information (from Day 3).\n",
    "\n",
    "---\n",
    "$\\blacktriangleright$ Run the cell below to filter out the Si II line list"
   ]
  },
  {
   "cell_type": "code",
   "execution_count": null,
   "id": "a1d51763",
   "metadata": {},
   "outputs": [],
   "source": [
    "TARGET_ATOMIC_NUMBER = 14  # Si\n",
    "TARGET_ION_NUMBER = 1  # II\n",
    "\n",
    "# Find line information for the features\n",
    "line_list = (\n",
    "    sim.plasma.atomic_data.lines.reset_index()\n",
    ")  # Reset index to access index columns\n",
    "ion_mask = (line_list[\"atomic_number\"] == TARGET_ATOMIC_NUMBER) & (\n",
    "    line_list[\"ion_number\"] == TARGET_ION_NUMBER\n",
    ")\n",
    "Si_II_line_list = line_list[ion_mask]\n",
    "Si_II_line_list"
   ]
  },
  {
   "cell_type": "markdown",
   "id": "24ac0f42",
   "metadata": {},
   "source": [
    "$\\blacktriangleright$ Filter the line list based on wavelength, sort it by the `f_ul` column,\n",
    "and find the strongest 2 lines contributing to each of the main features. \n",
    "\n",
    "- Si II 5972: try filtering the wavelength range [5950, 6200] $\\AA$ \n",
    "\n",
    "- Si II 6355: try filtering the wavelength range [6340, 6380] $\\AA$"
   ]
  },
  {
   "cell_type": "code",
   "execution_count": null,
   "id": "86e2949f",
   "metadata": {},
   "outputs": [],
   "source": [
    "## filter the wavelength range\n",
    "# subdf_line_list = Si_II_line_list.loc[]\n",
    "\n",
    "## sort by the f_ul column\n",
    "# subdf_line_list.sort_values(\"f_ul\", ascending=False)"
   ]
  },
  {
   "cell_type": "markdown",
   "id": "923e62a7",
   "metadata": {},
   "source": [
    "$\\blacktriangleright$ Uncomment the cell below and fill in the missing parts. \n",
    "\n",
    "Access the last line interaction packet information, and filter out the packets that interacted with the above lines. Plot the distribution in velocity space.\n",
    "\n",
    "Use astropy units for quantity unit conversion."
   ]
  },
  {
   "cell_type": "code",
   "execution_count": null,
   "id": "bc20d1a8",
   "metadata": {},
   "outputs": [],
   "source": [
    "# import matplotlib.pyplot as plt\n",
    "\n",
    "# ### Define the target line IDs for the Si II doublet\n",
    "# TARGET_LINE_LEVELS = [\n",
    "#     [(14, 1,  ???,  ???), (14, 1,  ???,  ???)],\n",
    "#     [(14, 1, ???,  ???), (14, 1, ???,  ???)],\n",
    "# ]\n",
    "# LABELS = [\"Si II 5972\", \"Si II 6355\"]\n",
    "\n",
    "# ### Filter packets with line interaction as last interaction\n",
    "# line_interaction_mask = ???\n",
    "\n",
    "# ### Get interaction radius and convert to velocity\n",
    "# interaction_location_in_radius = (\n",
    "#     sim.transport.transport_state.last_interaction_in_r[line_interaction_mask] * u.cm\n",
    "# )\n",
    "# interaction_location_in_velocity =  ???\n",
    "\n",
    "# ### Get the packet line interaction information\n",
    "# line_list_all = sim.plasma.atomic_data.lines\n",
    "# packet_line_ids = sim.transport.transport_state.last_line_interaction_in_id[\n",
    "#     line_interaction_mask\n",
    "# ]\n",
    "# packet_line_info = line_list_all.iloc[packet_line_ids]\n",
    "\n",
    "\n",
    "# ### Plot Si II doublet formation regions as a function of velocity\n",
    "# fig, ax = plt.subplots(figsize=(12, 6))\n",
    "# velocities = sim.simulation_state.v_inner.to(u.km / u.s).value\n",
    "\n",
    "# for i, target_line_level in enumerate(TARGET_LINE_LEVELS):\n",
    "#     # Find packets that interacted with these specific lines\n",
    "#     target_mask = packet_line_info.index.isin(target_line_level)\n",
    "#     interaction_velocities = interaction_location_in_velocity[target_mask].value\n",
    "#     ax.hist(\n",
    "#         interaction_velocities,\n",
    "#         bins=velocities,\n",
    "#         label=LABELS[i],\n",
    "#         alpha=0.6,\n",
    "#         linewidth=2,\n",
    "#         histtype=\"stepfilled\",\n",
    "#     )\n",
    "\n",
    "# ### Add temperature profile on secondary axis\n",
    "# ax_temp = ax.twinx()\n",
    "# ax_temp.plot(???, color= \"r\")\n",
    "# ax_temp.set_ylabel(\"Temperature (K)\", color=\"red\")\n",
    "\n",
    "# ### Add number density of each level as well\n",
    "# ax_num_density = ax.twinx()\n",
    "# levels = [?????]\n",
    "# for level in levels:\n",
    "#     ax_num_density.plot(\n",
    "#         sim.simulation_state.v_inner.to(u.km / u.s).value,\n",
    "#         sim.plasma.level_number_density.loc[TARGET_ATOMIC_NUMBER, TARGET_ION_NUMBER, level],\n",
    "#         ls=\"--\",\n",
    "#         alpha=0.7,\n",
    "#         label=f\"Level {level}\",\n",
    "#     )\n",
    "#     ax_num_density.spines[\"right\"].set_position((\"outward\", 60))\n",
    "#     ax_num_density.set_ylabel(\"Si II Number Density (cm$^{-3}$)\")\n",
    "# ax_num_density.legend(loc=\"upper left\")\n",
    "\n",
    "# #### Set labels and title\n",
    "# ax.set_xlabel(\"Velocity (km/s)\")\n",
    "# ax.set_ylabel(\"Number of Line Interactions\")\n",
    "# ax.set_title(\"Si II Formation Regions\")\n",
    "# ax.legend(loc=\"upper right\")\n",
    "# ax.grid(True, alpha=0.3)\n"
   ]
  },
  {
   "cell_type": "markdown",
   "id": "77b794d7",
   "metadata": {},
   "source": [
    "$\\blacktriangleright$ Estimate the Doppler velocity of the two Si II features using the synthetic spectrum: \n",
    "\n",
    "**Velocity calculation from absorption minima:**\n",
    "$$v = c \\times \\frac{\\lambda_{rest} - \\lambda_{obs}}{\\lambda_{rest}}$$\n",
    "\n",
    "\n",
    "And compare it to the median velocity of the packets that contribute to those features. \n"
   ]
  },
  {
   "cell_type": "code",
   "execution_count": null,
   "id": "07e4a450",
   "metadata": {},
   "outputs": [],
   "source": [
    "### Run this cell to get the median velocity of the interaction site\n",
    "import numpy as np\n",
    "\n",
    "for i, target_line_level in enumerate(TARGET_LINE_LEVELS):\n",
    "    target_mask = packet_line_info.index.isin(target_line_level)\n",
    "    interaction_velocities = interaction_location_in_velocity[target_mask].value\n",
    "    print(\n",
    "        f\"label: {LABELS[i]}, median velocity: {np.median(interaction_velocities):.0f} km/s\"\n",
    "    )\n"
   ]
  },
  {
   "cell_type": "code",
   "execution_count": null,
   "id": "2e513033",
   "metadata": {},
   "outputs": [],
   "source": [
    "# Your code/analysis to estimate the feature Doppler shift by identifying the absorption minima location"
   ]
  },
  {
   "cell_type": "markdown",
   "id": "eeda3f45",
   "metadata": {},
   "source": [
    "---\n",
    "\n",
    "$\\blacktriangleright$ **Questions** \n",
    "(After finish the task above) \n",
    "\n",
    "- Question 1: Which feature has a faster expansion velocity measured from the spectrum? How about from the median velocity location of the interaction site? Do they match?\n",
    "- Question 2: Quantitatively, does the velocity measured from the spectrum match with the median interaction site location?\n",
    "\n",
    "<details>\n",
    "<summary><strong>💡 <u> Click here for Hint 1</u> </strong></summary>\n",
    "**In this simulation**, the Si II 6355 has a faster expansion velocity measured from the spectrum. This is also reflected in the median interaction site velocity of Si II 6355.\n",
    "</details>\n",
    "\n",
    "<details>\n",
    "<summary><strong>💡 <u> Click here for Hint 2</u> </strong></summary>\n",
    "These values are not expected to be the same. The Doppler shift velocity measured from the absorption minima of a spectral feature is a combined effect from interaction site velocity and the traveling direction of the photons, from all the contributing ions.\n",
    "</details>"
   ]
  },
  {
   "cell_type": "markdown",
   "id": "f3a467d5",
   "metadata": {},
   "source": [
    "---\n",
    "\n",
    "# **Summary**\n",
    "\n",
    "Congratulations! We have gone through the following powerful visualization tools in TARDIS and some related exercises:\n",
    "\n",
    "- **SDEC plots** - Understanding which ions contribute to spectral features  \n",
    "- **LIV plots** - Mapping where line interactions occur in velocity space  \n",
    "- **Line Info Widget** - Exploring atomic line data (when available)  \n",
    "\n",
    "## **What's Next for today?**\n",
    "\n",
    "**Notebook 2: Post-processing Hydro Models**\n",
    "- Learn how to work with hydrodynamic simulation outputs using csvy files\n",
    "- Optimize photospheric velocity using the dilution factor $W=0.5$ criterion  \n",
    "- Apply visualization tools to analyze synthetic spectra from realistic explosion models\n",
    "\n",
    "**Notebook 3: Exploring Parameterized Models** (for the afternoon)\n",
    "- Systematically vary model parameters (luminosity, v_inner, time_explosion, density, abundance)\n",
    "- Compare synthetic spectra with observations\n",
    "- Understand parameter degeneracies and their physical effects\n",
    "\n",
    "---\n",
    "\n",
    "**Ready to continue?** Open `2_postprocessing_hydromodel.ipynb` to dive into realistic supernova modeling!\n",
    "\n",
    "The visualization skills you've learned here will be essential for analyzing and interpreting the models in the upcoming notebooks."
   ]
  },
  {
   "cell_type": "code",
   "execution_count": null,
   "id": "ea88e1fa",
   "metadata": {},
   "outputs": [],
   "source": []
  }
 ],
 "metadata": {
  "kernelspec": {
   "display_name": "base",
   "language": "python",
   "name": "python3"
  },
  "language_info": {
   "codemirror_mode": {
    "name": "ipython",
    "version": 3
   },
   "file_extension": ".py",
   "mimetype": "text/x-python",
   "name": "python",
   "nbconvert_exporter": "python",
   "pygments_lexer": "ipython3",
   "version": "3.13.2"
  }
 },
 "nbformat": 4,
 "nbformat_minor": 5
}
