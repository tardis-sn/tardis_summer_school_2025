{
 "cells": [
  {
   "cell_type": "markdown",
   "id": "8e9a2b72",
   "metadata": {},
   "source": [
    "# Absorption Probability in Radiative Transfer\n",
    "\n",
    "## Understanding Photon Absorption Through Geometric Area\n",
    "\n",
    "In this exercise, we'll explore how photons are absorbed by atoms by thinking about **geometric areas**. Imagine shining light through a thin slab of material filled with absorbing atoms.\n",
    "\n",
    "The key insight: **absorption probability = fraction of area blocked by atoms**\n",
    "\n",
    "We'll work through a simple \"plasma in a box\" scenario to build intuition about:\n",
    "- How atomic areas determine absorption\n",
    "- Why the number of atoms matters\n",
    "- How to calculate absorption probabilities geometrically"
   ]
  },
  {
   "cell_type": "code",
   "execution_count": 2,
   "id": "991a75a4",
   "metadata": {},
   "outputs": [],
   "source": [
    "import numpy as np\n",
    "import matplotlib.pyplot as plt\n",
    "from astropy import units as u\n",
    "from astropy import constants as const"
   ]
  },
  {
   "cell_type": "markdown",
   "id": "fc509dcb",
   "metadata": {},
   "source": [
    "## Exercise 1: How Many Atoms for 10% Absorption?\n",
    "\n",
    "Consider light passing through a 1 cm $\\times$ 1 cm square filled with absorbing atoms. We want to find how many atoms are needed for 10% absorption.\n",
    "\n",
    "### **$\\blacktriangleright$ Your Task**\n",
    "\n",
    "**Given:**\n",
    "- Square area: 1 cm $\\times$ 1 cm\n",
    "- Absorption area per atom: we will give you the atom radius\n",
    "- Target absorption probability: 10%\n",
    "\n",
    "**Note:** You can assume the Bohr radius represents the size of an atom.\n",
    "\n",
    "**$\\blacktriangleright$ Calculate:**\n",
    "1. How many atoms are needed to absorb 10% of the light?\n",
    "2. What is the absorption area of a single atom?\n",
    "\n",
    "**Key insight:** Absorption probability = (total atom area) / (square area)"
   ]
  },
  {
   "cell_type": "code",
   "execution_count": 3,
   "id": "73fa8850",
   "metadata": {},
   "outputs": [],
   "source": [
    "# Your code goes here - Exercise 1\n",
    "\n",
    "# Given values with astropy units\n",
    "SQUARE_AREA = None  # 1.0 cm^2\n",
    "ABSORPTION_PROBABILITY_TARGET = 0.1  # We want 10% absorption\n",
    "\n",
    "# Step 1: Get the Bohr radius from astropy constants a_0\n",
    "# BOHR_RADIUS = \n",
    "\n",
    "# Step 2: Calculate absorbing area of a single atom\n",
    "# Don't overthink it - just use the radius!\n",
    "# atomic_area = \n",
    "\n",
    "# Step 3: Calculate number of atoms needed for 10% absorption\n",
    "# number_of_atoms = \n",
    "\n",
    "# Step 4: Calculate total area covered by all atoms\n",
    "# total_covered_area = \n",
    "\n",
    "# Step 5: Verify absorption probability\n",
    "# absorption_probability = \n",
    "\n"
   ]
  },
  {
   "cell_type": "code",
   "execution_count": 9,
   "id": "c1fe81b9",
   "metadata": {
    "tags": [
     "solution"
    ]
   },
   "outputs": [
    {
     "name": "stdout",
     "output_type": "stream",
     "text": [
      "Bohr radius: 5.29177210903e-11 m\n",
      "Single atom area: 8.80e-17 cm2\n",
      "Number of atoms needed: 1.1367e+15\n",
      "Absorption probability: 0.100\n"
     ]
    }
   ],
   "source": [
    "# Solution - Exercise 1\n",
    "\n",
    "# Given values with astropy units\n",
    "SQUARE_AREA = 1.0 * u.cm**2\n",
    "ABSORPTION_PROBABILITY_TARGET = 0.1  # We want 10% absorption\n",
    "\n",
    "# Step 1: Get the Bohr radius from astropy constants a_0\n",
    "BOHR_RADIUS = const.a0  # Bohr radius from astropy constants\n",
    "\n",
    "# Step 2: Calculate absorbing area of a single atom\n",
    "# Don't overthink it - just use the radius!\n",
    "atomic_area = np.pi * BOHR_RADIUS**2\n",
    "\n",
    "# Step 3: Calculate number of atoms needed for 10% absorption\n",
    "number_of_atoms = (ABSORPTION_PROBABILITY_TARGET * SQUARE_AREA / atomic_area).to(1)\n",
    "\n",
    "# Step 4: Calculate total area covered by all atoms\n",
    "total_covered_area = number_of_atoms * atomic_area\n",
    "\n",
    "# Step 5: Verify absorption probability\n",
    "absorption_probability = total_covered_area / SQUARE_AREA\n",
    "\n",
    "# Print results\n",
    "print(f\"Bohr radius: {BOHR_RADIUS}\")\n",
    "print(f\"Single atom area: {atomic_area.to(u.cm**2):.2e}\")\n",
    "print(f\"Number of atoms needed: {number_of_atoms:.4e}\")\n",
    "print(f\"Absorption probability: {absorption_probability.to(1):.3f}\")"
   ]
  },
  {
   "cell_type": "markdown",
   "id": "5b4d78c7",
   "metadata": {},
   "source": [
    "## Exercise 2: Atmospheric Visibility and Number Density\n",
    "\n",
    "Let's derive the connection between our geometric approach and the standard radiative transfer formulation using **number density**.\n",
    "\n",
    "Now we'll apply this to a real-world scenario: **How far can we see through Earth's atmosphere?**\n",
    "\n",
    "When light travels through air, it gets absorbed by nitrogen molecules (let's assume it's all nitrogen molecules). Using our geometric approach, we can calculate the distance at which 10% of the light is absorbed - this gives us a measure of atmospheric visibility.\n",
    "\n",
    "### Mathematical Derivation: Connecting Areas to Number Density\n",
    "\n",
    "Starting with our geometric insight:\n",
    "$$\\text{Absorption probability} = \\frac{\\text{Area of absorbers}}{\\text{Area of slab}}$$\n",
    "\n",
    "For a 3D slab with many atoms:\n",
    "$$\\text{Absorption probability} = \\frac{\\text{Area of single atom} \\times N_{\\text{atoms}}}{\\text{Area of slab}}$$\n",
    "\n",
    "**Key insight:** Instead of counting individual atoms, we use **number density** $n$ [atoms/cm$^3$] - the concentration of absorbing particles per unit volume.\n",
    "\n",
    "For a slab with area $A = L^2$ and thickness $dx$:\n",
    "$$N_{\\text{atoms}} = n \\times V = n \\times L^2 \\times dx$$\n",
    "\n",
    "Substituting back:\n",
    "$$\\text{Absorption probability} = \\frac{A_{\\mathrm{abs}} \\times n \\times L^2 \\times dx}{L^2} = A_{\\mathrm{abs}} \\times n \\times dx$$\n",
    "\n",
    "Where:\n",
    "- $A_{\\mathrm{abs}}$ = absorption cross-sectional area per atom\n",
    "- $n$ = **number density** (atoms per unit volume)\n",
    "- $dx$ = slab thickness\n",
    "\n",
    "**This is the standard radiative transfer result!** Number density $n$ tells us how many absorbers we encounter per unit path length.\n",
    "\n",
    "### Horizon Distance Formula\n",
    "\n",
    "For comparison, we'll calculate Earth's **horizon distance** - the maximum distance you can see before Earth's curvature blocks your view. For an observer at height $h$ above Earth's surface, the geometric horizon distance is:\n",
    "$$d_{\\text{horizon}} = \\sqrt{h^2 + 2 R_{\\text{Earth}} h}$$\n",
    "\n",
    "where $R_{\\text{Earth}}$ is Earth's radius. Use `const.R_earth` from astropy for this calculation.\n",
    "\n",
    "### **$\\blacktriangleright$ Your Task**\n",
    "\n",
    "**Physical Scenario:** Light traveling through Earth's atmosphere gets absorbed by nitrogen molecules. We want to find how far we can see before 10% of the light is absorbed, and compare this with the geometric viewing limit.\n",
    "\n",
    "**Given:**\n",
    "- Absorption area per nitrogen molecule: $A_{\\mathrm{abs}} = 5.1 \\times 10^{-31}\\,\\mathrm{m}^2$\n",
    "- Atmospheric number density: $n = 2.7 \\times 10^{19}\\,\\mathrm{cm}^{-3}$ (typical value at sea level)\n",
    "- Target absorption probability: 10%\n",
    "\n",
    "**$\\blacktriangleright$ Calculate:**\n",
    "1. What atmospheric thickness $dx$ gives 10% absorption? (This shows how number density determines visibility)\n",
    "2. Compare this distance with Earth's horizon distance for a 2m tall person (geometric viewing limit)"
   ]
  },
  {
   "cell_type": "code",
   "execution_count": 11,
   "id": "b568f832",
   "metadata": {},
   "outputs": [],
   "source": [
    "# Your code goes here - Exercise 2\n",
    "\n",
    "# Given values - add astropy units yourself!\n",
    "AREA_SINGLE_ABSORBER = 5.1e-31  # m^2 per nitrogen molecule\n",
    "ATMOSPHERIC_DENSITY = 2.7e19  # cm^-3 (typical value at sea level)\n",
    "\n",
    "# Step 1: Calculate atmospheric thickness needed for 10% absorption\n",
    "# Use the formula: absorption_probability = A_abs * n * dx\n",
    "# ABSORPTION_PROBABILITY_10 = 0.1  # We want 10% absorption\n",
    "# thickness_10_percent = \n",
    "\n",
    "# Step 2: Compare with Earth's curvature - horizon distance\n",
    "# Use astropy's Earth radius constant: const.R_earth\n",
    "# For a person 2m tall, horizon distance = sqrt(h^2 + 2 * R_earth * h)\n",
    "# PERSON_HEIGHT = 2  # meters\n",
    "# horizon_distance = "
   ]
  },
  {
   "cell_type": "code",
   "execution_count": 13,
   "id": "0fc89fac",
   "metadata": {
    "tags": [
     "solution"
    ]
   },
   "outputs": [
    {
     "name": "stdout",
     "output_type": "stream",
     "text": [
      "Absorption area per nitrogen molecule: 5.1e-31 m2\n",
      "Atmospheric density: 2.7e+19 1 / cm3\n",
      "\n",
      "Distance for 10% absorption: 7.3 km\n",
      "Horizon distance (2m height): 5.1 km\n",
      "Ratio (10% absorption / horizon): 1.4\n",
      "\n",
      "Key insight: 10% absorption happens at 7 km km\n",
      "The horizon limits our view much more than atmospheric absorption!\n"
     ]
    }
   ],
   "source": [
    "# Solution - Exercise 2\n",
    "\n",
    "# Given values with astropy units\n",
    "AREA_SINGLE_ABSORBER = 5.1e-31 * u.m**2  # per nitrogen molecule\n",
    "ATMOSPHERIC_DENSITY = 2.7e19 * u.cm**-3  # typical value at sea level\n",
    "\n",
    "# Step 1: Calculate atmospheric thickness needed for 10% absorption\n",
    "# Use the formula: absorption_probability = A_abs * n * dx\n",
    "ABSORPTION_PROBABILITY_10 = 0.1  # We want 10% absorption\n",
    "thickness_10_percent = ABSORPTION_PROBABILITY_10 / (ATMOSPHERIC_DENSITY * AREA_SINGLE_ABSORBER)\n",
    "\n",
    "# Step 2: Compare with Earth's curvature - horizon distance\n",
    "# Use astropy's Earth radius constant and correct formula\n",
    "PERSON_HEIGHT = 2 * u.m\n",
    "horizon_distance = np.sqrt(PERSON_HEIGHT**2 + 2 * const.R_earth * PERSON_HEIGHT)\n",
    "\n",
    "# Print results\n",
    "print(f\"Absorption area per nitrogen molecule: {AREA_SINGLE_ABSORBER}\")\n",
    "print(f\"Atmospheric density: {ATMOSPHERIC_DENSITY}\")\n",
    "print(f\"\")\n",
    "print(f\"Distance for 10% absorption: {thickness_10_percent.to(u.km):.1f}\")\n",
    "print(f\"Horizon distance (2m height): {horizon_distance.to(u.km):.1f}\")\n",
    "print(f\"Ratio (10% absorption / horizon): {(thickness_10_percent / horizon_distance).to(1):.1f}\")\n",
    "print(f\"\")\n",
    "print(f\"Key insight: 10% absorption happens at {thickness_10_percent.to(u.km):.0f} km\")\n",
    "print(f\"The horizon limits our view much more than atmospheric absorption!\")"
   ]
  },
  {
   "cell_type": "code",
   "execution_count": 15,
   "id": "23f09181",
   "metadata": {
    "tags": [
     "solution"
    ]
   },
   "outputs": [
    {
     "name": "stdout",
     "output_type": "stream",
     "text": [
      "[NbConvertApp] Converting notebook 1_absorption_probability_instructor.ipynb to notebook\n",
      "[NbConvertApp] Writing 7481 bytes to 1_absorption_probability_student.ipynb\n",
      "[NbConvertApp] Writing 7481 bytes to 1_absorption_probability_student.ipynb\n",
      "Converted 1_absorption_probability_instructor.ipynb to 1_absorption_probability_student.ipynb\n",
      "Converted 1_absorption_probability_instructor.ipynb to 1_absorption_probability_student.ipynb\n"
     ]
    }
   ],
   "source": [
    "from IPython import get_ipython\n",
    "from pathlib import Path\n",
    "ip = get_ipython()\n",
    "path = None\n",
    "if '__vsc_ipynb_file__' in ip.user_ns:\n",
    "    path = ip.user_ns['__vsc_ipynb_file__']\n",
    "    \n",
    "nb_path = Path(path)\n",
    "# Get the current notebook name\n",
    "current_notebook = nb_path.name\n",
    "\n",
    "# Create the student version by replacing 'instructor' with 'student'\n",
    "output_notebook = current_notebook.replace('instructor', 'student')\n",
    "\n",
    "# Run the nbconvert command\n",
    "!jupyter nbconvert {current_notebook} --ClearOutputPreprocessor.enabled=True --TagRemovePreprocessor.enabled=True --TagRemovePreprocessor.remove_cell_tags=\"['solution']\" --to notebook --output {output_notebook}\n",
    "\n",
    "print(f\"Converted {current_notebook} to {output_notebook}\")"
   ]
  },
  {
   "cell_type": "code",
   "execution_count": null,
   "id": "40c2aff0",
   "metadata": {},
   "outputs": [],
   "source": []
  }
 ],
 "metadata": {
  "kernelspec": {
   "display_name": "tardis-sschool25",
   "language": "python",
   "name": "python3"
  },
  "language_info": {
   "codemirror_mode": {
    "name": "ipython",
    "version": 3
   },
   "file_extension": ".py",
   "mimetype": "text/x-python",
   "name": "python",
   "nbconvert_exporter": "python",
   "pygments_lexer": "ipython3",
   "version": "3.13.2"
  }
 },
 "nbformat": 4,
 "nbformat_minor": 5
}
